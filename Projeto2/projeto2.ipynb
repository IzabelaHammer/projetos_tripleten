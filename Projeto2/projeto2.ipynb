{
 "cells": [
  {
   "cell_type": "markdown",
   "metadata": {},
   "source": [
    "## Este é o segundo projeto proposto pelo curso de data science da TripleTen"
   ]
  },
  {
   "cell_type": "markdown",
   "metadata": {},
   "source": [
    "# Título: Análise do risco de inadimplência dos mutuários\n",
    "\n",
    "Este projeto foi realizado com o objetivo de testar conhecimentos em python, pandas, pré-processamento de dados em geral."
   ]
  },
  {
   "cell_type": "markdown",
   "metadata": {},
   "source": [
    "# Contents <a id='back'></a>\n",
    "\n",
    "* [Introdução](#intro)\n",
    "* [Visão geral dos dados](#data_review)\n",
    "    * [Conclusões](#data_review_conclusions)\n",
    "* [Pré-processamento de dados](#transformacao_dados)\n",
    "* [Categorização de dados](#categorizando)\n",
    "* [Testando as hipóteses](#hipoteses)\n",
    "* [Conclusão geral](#conclusao)"
   ]
  },
  {
   "cell_type": "markdown",
   "metadata": {},
   "source": [
    "## Introdução <a id='intro'></a>\n",
    "\n",
    "Seu projeto é preparar um relatório para a divisão de empréstimos de um banco. Você precisará descobrir se o estado civil de um cliente e o número de filhos têm impacto sobre se ele deixará de pagar um empréstimo. O banco já tem alguns dados sobre a capacidade de crédito dos clientes.\n",
    "\n",
    "Seu relatório será considerado ao criar uma **pontuação de crédito** de um cliente em potencial. A **contagem de crédito** é usada para avaliar a capacidade de um devedor em potencial de pagar seu empréstimo."
   ]
  },
  {
   "cell_type": "markdown",
   "metadata": {},
   "source": [
    "## Visão geral dos dados <a id='data_review'></a>\n",
    "\n",
    "Importando a biblioteca Pandas e salvando os dados no dataframe df."
   ]
  },
  {
   "cell_type": "code",
   "execution_count": 258,
   "metadata": {},
   "outputs": [],
   "source": [
    "# Carregando a biblioteca principal\n",
    "import pandas as pd\n",
    "from scipy import stats as st"
   ]
  },
  {
   "cell_type": "code",
   "execution_count": 259,
   "metadata": {},
   "outputs": [],
   "source": [
    "# lendo os dados e salvando em df\n",
    "df = pd.read_csv('credit_scoring_eng.csv')"
   ]
  },
  {
   "cell_type": "markdown",
   "metadata": {},
   "source": [
    "### Exploração de dados\n",
    "\n",
    "**Descrição dos dados**\n",
    "- `children` - o número de crianças na família\n",
    "- `days_employed` - experiência de trabalho em dias\n",
    "- `dob_years` - idade do cliente em anos\n",
    "- `education` - educação do cliente\n",
    "- `education_id` - identificador de educação\n",
    "- `family_status` - estado civil do cliente\n",
    "- `family_status_id` - identificador de estado civil\n",
    "- `gender` - gênero do cliente\n",
    "- `income_type` - tipo de emprego\n",
    "- `debt` - havia alguma dívida no pagamento do empréstimo\n",
    "- `total_income` - renda mensal\n",
    "- `purpose` - o objetivo de obter um empréstimo\n",
    "\n",
    "Antes de explorar nossos dados. Vamos exibir a quantidade de colunas e linhas"
   ]
  },
  {
   "cell_type": "code",
   "execution_count": 260,
   "metadata": {},
   "outputs": [
    {
     "name": "stdout",
     "output_type": "stream",
     "text": [
      "linhas: 21525, colunas: 12\n"
     ]
    }
   ],
   "source": [
    "print(f'linhas: {df.shape[0]}, colunas: {df.shape[1]}')\n",
    "# Quantidade de linhas e colunas do DataFrame"
   ]
  },
  {
   "cell_type": "markdown",
   "metadata": {},
   "source": [
    "Exibindo as primeiras 10 linhas do dataframe"
   ]
  },
  {
   "cell_type": "code",
   "execution_count": 261,
   "metadata": {
    "scrolled": true
   },
   "outputs": [
    {
     "data": {
      "text/html": [
       "<div>\n",
       "<style scoped>\n",
       "    .dataframe tbody tr th:only-of-type {\n",
       "        vertical-align: middle;\n",
       "    }\n",
       "\n",
       "    .dataframe tbody tr th {\n",
       "        vertical-align: top;\n",
       "    }\n",
       "\n",
       "    .dataframe thead th {\n",
       "        text-align: right;\n",
       "    }\n",
       "</style>\n",
       "<table border=\"1\" class=\"dataframe\">\n",
       "  <thead>\n",
       "    <tr style=\"text-align: right;\">\n",
       "      <th></th>\n",
       "      <th>children</th>\n",
       "      <th>days_employed</th>\n",
       "      <th>dob_years</th>\n",
       "      <th>education</th>\n",
       "      <th>education_id</th>\n",
       "      <th>family_status</th>\n",
       "      <th>family_status_id</th>\n",
       "      <th>gender</th>\n",
       "      <th>income_type</th>\n",
       "      <th>debt</th>\n",
       "      <th>total_income</th>\n",
       "      <th>purpose</th>\n",
       "    </tr>\n",
       "  </thead>\n",
       "  <tbody>\n",
       "    <tr>\n",
       "      <th>0</th>\n",
       "      <td>1</td>\n",
       "      <td>-8437.673028</td>\n",
       "      <td>42</td>\n",
       "      <td>bachelor's degree</td>\n",
       "      <td>0</td>\n",
       "      <td>married</td>\n",
       "      <td>0</td>\n",
       "      <td>F</td>\n",
       "      <td>employee</td>\n",
       "      <td>0</td>\n",
       "      <td>40620.102</td>\n",
       "      <td>purchase of the house</td>\n",
       "    </tr>\n",
       "    <tr>\n",
       "      <th>1</th>\n",
       "      <td>1</td>\n",
       "      <td>-4024.803754</td>\n",
       "      <td>36</td>\n",
       "      <td>secondary education</td>\n",
       "      <td>1</td>\n",
       "      <td>married</td>\n",
       "      <td>0</td>\n",
       "      <td>F</td>\n",
       "      <td>employee</td>\n",
       "      <td>0</td>\n",
       "      <td>17932.802</td>\n",
       "      <td>car purchase</td>\n",
       "    </tr>\n",
       "    <tr>\n",
       "      <th>2</th>\n",
       "      <td>0</td>\n",
       "      <td>-5623.422610</td>\n",
       "      <td>33</td>\n",
       "      <td>Secondary Education</td>\n",
       "      <td>1</td>\n",
       "      <td>married</td>\n",
       "      <td>0</td>\n",
       "      <td>M</td>\n",
       "      <td>employee</td>\n",
       "      <td>0</td>\n",
       "      <td>23341.752</td>\n",
       "      <td>purchase of the house</td>\n",
       "    </tr>\n",
       "    <tr>\n",
       "      <th>3</th>\n",
       "      <td>3</td>\n",
       "      <td>-4124.747207</td>\n",
       "      <td>32</td>\n",
       "      <td>secondary education</td>\n",
       "      <td>1</td>\n",
       "      <td>married</td>\n",
       "      <td>0</td>\n",
       "      <td>M</td>\n",
       "      <td>employee</td>\n",
       "      <td>0</td>\n",
       "      <td>42820.568</td>\n",
       "      <td>supplementary education</td>\n",
       "    </tr>\n",
       "    <tr>\n",
       "      <th>4</th>\n",
       "      <td>0</td>\n",
       "      <td>340266.072047</td>\n",
       "      <td>53</td>\n",
       "      <td>secondary education</td>\n",
       "      <td>1</td>\n",
       "      <td>civil partnership</td>\n",
       "      <td>1</td>\n",
       "      <td>F</td>\n",
       "      <td>retiree</td>\n",
       "      <td>0</td>\n",
       "      <td>25378.572</td>\n",
       "      <td>to have a wedding</td>\n",
       "    </tr>\n",
       "    <tr>\n",
       "      <th>5</th>\n",
       "      <td>0</td>\n",
       "      <td>-926.185831</td>\n",
       "      <td>27</td>\n",
       "      <td>bachelor's degree</td>\n",
       "      <td>0</td>\n",
       "      <td>civil partnership</td>\n",
       "      <td>1</td>\n",
       "      <td>M</td>\n",
       "      <td>business</td>\n",
       "      <td>0</td>\n",
       "      <td>40922.170</td>\n",
       "      <td>purchase of the house</td>\n",
       "    </tr>\n",
       "    <tr>\n",
       "      <th>6</th>\n",
       "      <td>0</td>\n",
       "      <td>-2879.202052</td>\n",
       "      <td>43</td>\n",
       "      <td>bachelor's degree</td>\n",
       "      <td>0</td>\n",
       "      <td>married</td>\n",
       "      <td>0</td>\n",
       "      <td>F</td>\n",
       "      <td>business</td>\n",
       "      <td>0</td>\n",
       "      <td>38484.156</td>\n",
       "      <td>housing transactions</td>\n",
       "    </tr>\n",
       "    <tr>\n",
       "      <th>7</th>\n",
       "      <td>0</td>\n",
       "      <td>-152.779569</td>\n",
       "      <td>50</td>\n",
       "      <td>SECONDARY EDUCATION</td>\n",
       "      <td>1</td>\n",
       "      <td>married</td>\n",
       "      <td>0</td>\n",
       "      <td>M</td>\n",
       "      <td>employee</td>\n",
       "      <td>0</td>\n",
       "      <td>21731.829</td>\n",
       "      <td>education</td>\n",
       "    </tr>\n",
       "    <tr>\n",
       "      <th>8</th>\n",
       "      <td>2</td>\n",
       "      <td>-6929.865299</td>\n",
       "      <td>35</td>\n",
       "      <td>BACHELOR'S DEGREE</td>\n",
       "      <td>0</td>\n",
       "      <td>civil partnership</td>\n",
       "      <td>1</td>\n",
       "      <td>F</td>\n",
       "      <td>employee</td>\n",
       "      <td>0</td>\n",
       "      <td>15337.093</td>\n",
       "      <td>having a wedding</td>\n",
       "    </tr>\n",
       "    <tr>\n",
       "      <th>9</th>\n",
       "      <td>0</td>\n",
       "      <td>-2188.756445</td>\n",
       "      <td>41</td>\n",
       "      <td>secondary education</td>\n",
       "      <td>1</td>\n",
       "      <td>married</td>\n",
       "      <td>0</td>\n",
       "      <td>M</td>\n",
       "      <td>employee</td>\n",
       "      <td>0</td>\n",
       "      <td>23108.150</td>\n",
       "      <td>purchase of the house for my family</td>\n",
       "    </tr>\n",
       "  </tbody>\n",
       "</table>\n",
       "</div>"
      ],
      "text/plain": [
       "   children  days_employed  dob_years            education  education_id  \\\n",
       "0         1   -8437.673028         42    bachelor's degree             0   \n",
       "1         1   -4024.803754         36  secondary education             1   \n",
       "2         0   -5623.422610         33  Secondary Education             1   \n",
       "3         3   -4124.747207         32  secondary education             1   \n",
       "4         0  340266.072047         53  secondary education             1   \n",
       "5         0    -926.185831         27    bachelor's degree             0   \n",
       "6         0   -2879.202052         43    bachelor's degree             0   \n",
       "7         0    -152.779569         50  SECONDARY EDUCATION             1   \n",
       "8         2   -6929.865299         35    BACHELOR'S DEGREE             0   \n",
       "9         0   -2188.756445         41  secondary education             1   \n",
       "\n",
       "       family_status  family_status_id gender income_type  debt  total_income  \\\n",
       "0            married                 0      F    employee     0     40620.102   \n",
       "1            married                 0      F    employee     0     17932.802   \n",
       "2            married                 0      M    employee     0     23341.752   \n",
       "3            married                 0      M    employee     0     42820.568   \n",
       "4  civil partnership                 1      F     retiree     0     25378.572   \n",
       "5  civil partnership                 1      M    business     0     40922.170   \n",
       "6            married                 0      F    business     0     38484.156   \n",
       "7            married                 0      M    employee     0     21731.829   \n",
       "8  civil partnership                 1      F    employee     0     15337.093   \n",
       "9            married                 0      M    employee     0     23108.150   \n",
       "\n",
       "                               purpose  \n",
       "0                purchase of the house  \n",
       "1                         car purchase  \n",
       "2                purchase of the house  \n",
       "3              supplementary education  \n",
       "4                    to have a wedding  \n",
       "5                purchase of the house  \n",
       "6                 housing transactions  \n",
       "7                            education  \n",
       "8                     having a wedding  \n",
       "9  purchase of the house for my family  "
      ]
     },
     "execution_count": 261,
     "metadata": {},
     "output_type": "execute_result"
    }
   ],
   "source": [
    "# primeiras 10 linhas de df\n",
    "df.head(10)"
   ]
  },
  {
   "cell_type": "markdown",
   "metadata": {},
   "source": [
    "Primeiras impressões: \n",
    "\n",
    "A coluna **days_employed** possue valores negativos. A coluna **education** tem alguns dados preenchidos em caixa alta. Essas duas colunas devem ser corrigidas."
   ]
  },
  {
   "cell_type": "code",
   "execution_count": 262,
   "metadata": {
    "scrolled": false
   },
   "outputs": [
    {
     "name": "stdout",
     "output_type": "stream",
     "text": [
      "<class 'pandas.core.frame.DataFrame'>\n",
      "RangeIndex: 21525 entries, 0 to 21524\n",
      "Data columns (total 12 columns):\n",
      " #   Column            Non-Null Count  Dtype  \n",
      "---  ------            --------------  -----  \n",
      " 0   children          21525 non-null  int64  \n",
      " 1   days_employed     19351 non-null  float64\n",
      " 2   dob_years         21525 non-null  int64  \n",
      " 3   education         21525 non-null  object \n",
      " 4   education_id      21525 non-null  int64  \n",
      " 5   family_status     21525 non-null  object \n",
      " 6   family_status_id  21525 non-null  int64  \n",
      " 7   gender            21525 non-null  object \n",
      " 8   income_type       21525 non-null  object \n",
      " 9   debt              21525 non-null  int64  \n",
      " 10  total_income      19351 non-null  float64\n",
      " 11  purpose           21525 non-null  object \n",
      "dtypes: float64(2), int64(5), object(5)\n",
      "memory usage: 2.0+ MB\n"
     ]
    },
    {
     "data": {
      "text/plain": [
       "children               0\n",
       "days_employed       2174\n",
       "dob_years              0\n",
       "education              0\n",
       "education_id           0\n",
       "family_status          0\n",
       "family_status_id       0\n",
       "gender                 0\n",
       "income_type            0\n",
       "debt                   0\n",
       "total_income        2174\n",
       "purpose                0\n",
       "dtype: int64"
      ]
     },
     "execution_count": 262,
     "metadata": {},
     "output_type": "execute_result"
    }
   ],
   "source": [
    "# Obtendo informações sobre dados:\n",
    "df.info()\n",
    "# Na coluna total_income e days employed tem valores nulos\n",
    "df.isna().sum()\n",
    "# total de valores nulos em cada coluna:"
   ]
  },
  {
   "cell_type": "markdown",
   "metadata": {},
   "source": [
    "As colunas que possuem dados nulos são relacionadas a renda e dias trabalhados por isso precisamos avaliar se esses dados são nulos devido alguma informação correlacionada a outra coluna (exemplo: se as pessoas estão desempregadas)  ou simplesmente não foram preenchidos."
   ]
  },
  {
   "cell_type": "code",
   "execution_count": 263,
   "metadata": {},
   "outputs": [
    {
     "data": {
      "text/plain": [
       "income_type\n",
       "employee         1105\n",
       "business          508\n",
       "retiree           413\n",
       "civil servant     147\n",
       "entrepreneur        1\n",
       "dtype: int64"
      ]
     },
     "execution_count": 263,
     "metadata": {},
     "output_type": "execute_result"
    }
   ],
   "source": [
    "df[df['total_income'].isna()].value_counts('income_type')"
   ]
  },
  {
   "cell_type": "markdown",
   "metadata": {},
   "source": [
    "Filtrando o df para os valores que possuem `NaN` na coluna `total_income`, e depois disso olhando para os valores que aparecem em `income_type` (tipo de emprego), não vemos a opção desempregado. Então acredito que os dados não preenchidos estejam faltando por algum erro ao preencher os dados. Eles deveram ser preenchidos."
   ]
  },
  {
   "cell_type": "code",
   "execution_count": 264,
   "metadata": {
    "scrolled": true
   },
   "outputs": [
    {
     "data": {
      "text/html": [
       "<div>\n",
       "<style scoped>\n",
       "    .dataframe tbody tr th:only-of-type {\n",
       "        vertical-align: middle;\n",
       "    }\n",
       "\n",
       "    .dataframe tbody tr th {\n",
       "        vertical-align: top;\n",
       "    }\n",
       "\n",
       "    .dataframe thead th {\n",
       "        text-align: right;\n",
       "    }\n",
       "</style>\n",
       "<table border=\"1\" class=\"dataframe\">\n",
       "  <thead>\n",
       "    <tr style=\"text-align: right;\">\n",
       "      <th></th>\n",
       "      <th>children</th>\n",
       "      <th>days_employed</th>\n",
       "      <th>dob_years</th>\n",
       "      <th>education</th>\n",
       "      <th>education_id</th>\n",
       "      <th>family_status</th>\n",
       "      <th>family_status_id</th>\n",
       "      <th>gender</th>\n",
       "      <th>income_type</th>\n",
       "      <th>debt</th>\n",
       "      <th>total_income</th>\n",
       "      <th>purpose</th>\n",
       "    </tr>\n",
       "  </thead>\n",
       "  <tbody>\n",
       "    <tr>\n",
       "      <th>12</th>\n",
       "      <td>0</td>\n",
       "      <td>NaN</td>\n",
       "      <td>65</td>\n",
       "      <td>secondary education</td>\n",
       "      <td>1</td>\n",
       "      <td>civil partnership</td>\n",
       "      <td>1</td>\n",
       "      <td>M</td>\n",
       "      <td>retiree</td>\n",
       "      <td>0</td>\n",
       "      <td>NaN</td>\n",
       "      <td>to have a wedding</td>\n",
       "    </tr>\n",
       "    <tr>\n",
       "      <th>26</th>\n",
       "      <td>0</td>\n",
       "      <td>NaN</td>\n",
       "      <td>41</td>\n",
       "      <td>secondary education</td>\n",
       "      <td>1</td>\n",
       "      <td>married</td>\n",
       "      <td>0</td>\n",
       "      <td>M</td>\n",
       "      <td>civil servant</td>\n",
       "      <td>0</td>\n",
       "      <td>NaN</td>\n",
       "      <td>education</td>\n",
       "    </tr>\n",
       "    <tr>\n",
       "      <th>29</th>\n",
       "      <td>0</td>\n",
       "      <td>NaN</td>\n",
       "      <td>63</td>\n",
       "      <td>secondary education</td>\n",
       "      <td>1</td>\n",
       "      <td>unmarried</td>\n",
       "      <td>4</td>\n",
       "      <td>F</td>\n",
       "      <td>retiree</td>\n",
       "      <td>0</td>\n",
       "      <td>NaN</td>\n",
       "      <td>building a real estate</td>\n",
       "    </tr>\n",
       "    <tr>\n",
       "      <th>41</th>\n",
       "      <td>0</td>\n",
       "      <td>NaN</td>\n",
       "      <td>50</td>\n",
       "      <td>secondary education</td>\n",
       "      <td>1</td>\n",
       "      <td>married</td>\n",
       "      <td>0</td>\n",
       "      <td>F</td>\n",
       "      <td>civil servant</td>\n",
       "      <td>0</td>\n",
       "      <td>NaN</td>\n",
       "      <td>second-hand car purchase</td>\n",
       "    </tr>\n",
       "    <tr>\n",
       "      <th>55</th>\n",
       "      <td>0</td>\n",
       "      <td>NaN</td>\n",
       "      <td>54</td>\n",
       "      <td>secondary education</td>\n",
       "      <td>1</td>\n",
       "      <td>civil partnership</td>\n",
       "      <td>1</td>\n",
       "      <td>F</td>\n",
       "      <td>retiree</td>\n",
       "      <td>1</td>\n",
       "      <td>NaN</td>\n",
       "      <td>to have a wedding</td>\n",
       "    </tr>\n",
       "    <tr>\n",
       "      <th>...</th>\n",
       "      <td>...</td>\n",
       "      <td>...</td>\n",
       "      <td>...</td>\n",
       "      <td>...</td>\n",
       "      <td>...</td>\n",
       "      <td>...</td>\n",
       "      <td>...</td>\n",
       "      <td>...</td>\n",
       "      <td>...</td>\n",
       "      <td>...</td>\n",
       "      <td>...</td>\n",
       "      <td>...</td>\n",
       "    </tr>\n",
       "    <tr>\n",
       "      <th>21489</th>\n",
       "      <td>2</td>\n",
       "      <td>NaN</td>\n",
       "      <td>47</td>\n",
       "      <td>Secondary Education</td>\n",
       "      <td>1</td>\n",
       "      <td>married</td>\n",
       "      <td>0</td>\n",
       "      <td>M</td>\n",
       "      <td>business</td>\n",
       "      <td>0</td>\n",
       "      <td>NaN</td>\n",
       "      <td>purchase of a car</td>\n",
       "    </tr>\n",
       "    <tr>\n",
       "      <th>21495</th>\n",
       "      <td>1</td>\n",
       "      <td>NaN</td>\n",
       "      <td>50</td>\n",
       "      <td>secondary education</td>\n",
       "      <td>1</td>\n",
       "      <td>civil partnership</td>\n",
       "      <td>1</td>\n",
       "      <td>F</td>\n",
       "      <td>employee</td>\n",
       "      <td>0</td>\n",
       "      <td>NaN</td>\n",
       "      <td>wedding ceremony</td>\n",
       "    </tr>\n",
       "    <tr>\n",
       "      <th>21497</th>\n",
       "      <td>0</td>\n",
       "      <td>NaN</td>\n",
       "      <td>48</td>\n",
       "      <td>BACHELOR'S DEGREE</td>\n",
       "      <td>0</td>\n",
       "      <td>married</td>\n",
       "      <td>0</td>\n",
       "      <td>F</td>\n",
       "      <td>business</td>\n",
       "      <td>0</td>\n",
       "      <td>NaN</td>\n",
       "      <td>building a property</td>\n",
       "    </tr>\n",
       "    <tr>\n",
       "      <th>21502</th>\n",
       "      <td>1</td>\n",
       "      <td>NaN</td>\n",
       "      <td>42</td>\n",
       "      <td>secondary education</td>\n",
       "      <td>1</td>\n",
       "      <td>married</td>\n",
       "      <td>0</td>\n",
       "      <td>F</td>\n",
       "      <td>employee</td>\n",
       "      <td>0</td>\n",
       "      <td>NaN</td>\n",
       "      <td>building a real estate</td>\n",
       "    </tr>\n",
       "    <tr>\n",
       "      <th>21510</th>\n",
       "      <td>2</td>\n",
       "      <td>NaN</td>\n",
       "      <td>28</td>\n",
       "      <td>secondary education</td>\n",
       "      <td>1</td>\n",
       "      <td>married</td>\n",
       "      <td>0</td>\n",
       "      <td>F</td>\n",
       "      <td>employee</td>\n",
       "      <td>0</td>\n",
       "      <td>NaN</td>\n",
       "      <td>car purchase</td>\n",
       "    </tr>\n",
       "  </tbody>\n",
       "</table>\n",
       "<p>2174 rows × 12 columns</p>\n",
       "</div>"
      ],
      "text/plain": [
       "       children  days_employed  dob_years            education  education_id  \\\n",
       "12            0            NaN         65  secondary education             1   \n",
       "26            0            NaN         41  secondary education             1   \n",
       "29            0            NaN         63  secondary education             1   \n",
       "41            0            NaN         50  secondary education             1   \n",
       "55            0            NaN         54  secondary education             1   \n",
       "...         ...            ...        ...                  ...           ...   \n",
       "21489         2            NaN         47  Secondary Education             1   \n",
       "21495         1            NaN         50  secondary education             1   \n",
       "21497         0            NaN         48    BACHELOR'S DEGREE             0   \n",
       "21502         1            NaN         42  secondary education             1   \n",
       "21510         2            NaN         28  secondary education             1   \n",
       "\n",
       "           family_status  family_status_id gender    income_type  debt  \\\n",
       "12     civil partnership                 1      M        retiree     0   \n",
       "26               married                 0      M  civil servant     0   \n",
       "29             unmarried                 4      F        retiree     0   \n",
       "41               married                 0      F  civil servant     0   \n",
       "55     civil partnership                 1      F        retiree     1   \n",
       "...                  ...               ...    ...            ...   ...   \n",
       "21489            married                 0      M       business     0   \n",
       "21495  civil partnership                 1      F       employee     0   \n",
       "21497            married                 0      F       business     0   \n",
       "21502            married                 0      F       employee     0   \n",
       "21510            married                 0      F       employee     0   \n",
       "\n",
       "       total_income                   purpose  \n",
       "12              NaN         to have a wedding  \n",
       "26              NaN                 education  \n",
       "29              NaN    building a real estate  \n",
       "41              NaN  second-hand car purchase  \n",
       "55              NaN         to have a wedding  \n",
       "...             ...                       ...  \n",
       "21489           NaN         purchase of a car  \n",
       "21495           NaN          wedding ceremony  \n",
       "21497           NaN       building a property  \n",
       "21502           NaN    building a real estate  \n",
       "21510           NaN              car purchase  \n",
       "\n",
       "[2174 rows x 12 columns]"
      ]
     },
     "execution_count": 264,
     "metadata": {},
     "output_type": "execute_result"
    }
   ],
   "source": [
    "#Vamos olhar a tabela filtrada com valores ausentes na primeira coluna com dados ausentes\n",
    "df[df['days_employed'].isna()]"
   ]
  },
  {
   "cell_type": "markdown",
   "metadata": {},
   "source": [
    "Os valores ausentes estão simétricos (ou seja, as mesmas linhas que faltam em days_employed faltam em total_income). Esses dados faltantes aconteceram para um número x de clientes, podemos verificar se  essa hipótese é verdadeira comparando se os dados faltantes nessas colunas são das mesmas linhas."
   ]
  },
  {
   "cell_type": "code",
   "execution_count": 265,
   "metadata": {},
   "outputs": [
    {
     "name": "stdout",
     "output_type": "stream",
     "text": [
      "sim! todas as linhas dessas colunas são simétricas\n",
      "Número de linhas NaN em total income =2174\n",
      "Número de linhas NaN em days employed =2174\n",
      "Porcentagem de valores nulos com relação ao total dos dados no df\n",
      "10.1 %\n"
     ]
    }
   ],
   "source": [
    "# Vamos aplicar algumas condições para filtrar dados e observar o número de linhas na tabela filtrada.\n",
    "# true = 1 false = 0 se todas as comparações forem true a soma vai ser igual ao tamanho de df\n",
    "if (df['days_employed'].isna() == df['total_income'].isna()).sum() == len(df):\n",
    "    print('sim! todas as linhas dessas colunas são simétricas')\n",
    "else:\n",
    "    print('há diferenças entre essas linhas')\n",
    "    \n",
    "print(f\"Número de linhas NaN em total income ={ df['total_income'].isna().sum() }\")\n",
    "print(f\"Número de linhas NaN em days employed ={ df['days_employed'].isna().sum() }\")\n",
    "print('Porcentagem de valores nulos com relação ao total dos dados no df')\n",
    "print((df['total_income'].isna().sum()*100/len(df)).round(3),'%')"
   ]
  },
  {
   "cell_type": "markdown",
   "metadata": {},
   "source": [
    "**Conclusão intermediária**\n",
    "\n",
    "O número de linhas na tabela filtrada corresponde ao número de valores ausentes no dataframe.\n",
    "\n",
    "No dataframe, 10% dos dados possuem valores ausentes. Devemos considerar se os dados ausentes podem ser devidos à característica específica do cliente. Vamos verificar se há alguma dependência de valores ausentes em relação ao valor de outros indicadores."
   ]
  },
  {
   "cell_type": "code",
   "execution_count": 266,
   "metadata": {},
   "outputs": [],
   "source": [
    "# clientes que não possuem dados sobre as características identificadas e a coluna com os valores ausentes\n",
    "m_df = df[df['days_employed'].isna()]\n",
    "# m_df é o dataframe que possuem apenas clientes com dados faltantes "
   ]
  },
  {
   "cell_type": "code",
   "execution_count": 267,
   "metadata": {},
   "outputs": [
    {
     "name": "stdout",
     "output_type": "stream",
     "text": [
      "married              0.568997\n",
      "civil partnership    0.203312\n",
      "unmarried            0.132475\n",
      "divorced             0.051518\n",
      "widow / widower      0.043698\n",
      "Name: family_status, dtype: float64\n",
      "========\n",
      "employee         0.508280\n",
      "business         0.233671\n",
      "retiree          0.189972\n",
      "civil servant    0.067617\n",
      "entrepreneur     0.000460\n",
      "Name: income_type, dtype: float64\n",
      "========\n",
      "secondary education    0.647654\n",
      "bachelor's degree      0.228151\n",
      "SECONDARY EDUCATION    0.030819\n",
      "Secondary Education    0.029899\n",
      "some college           0.025299\n",
      "Bachelor's Degree      0.011500\n",
      "BACHELOR'S DEGREE      0.010580\n",
      "primary education      0.008740\n",
      "Some College           0.003220\n",
      "SOME COLLEGE           0.003220\n",
      "Primary Education      0.000460\n",
      "PRIMARY EDUCATION      0.000460\n",
      "Name: education, dtype: float64\n",
      "========\n",
      " 0     0.661914\n",
      " 1     0.218491\n",
      " 2     0.093836\n",
      " 3     0.016559\n",
      " 20    0.004140\n",
      " 4     0.003220\n",
      "-1     0.001380\n",
      " 5     0.000460\n",
      "Name: children, dtype: float64\n",
      "========\n",
      "34    0.031739\n",
      "40    0.030359\n",
      "42    0.029899\n",
      "31    0.029899\n",
      "35    0.029439\n",
      "36    0.028979\n",
      "47    0.027139\n",
      "41    0.027139\n",
      "30    0.026679\n",
      "28    0.026219\n",
      "58    0.025759\n",
      "57    0.025759\n",
      "54    0.025299\n",
      "56    0.024839\n",
      "38    0.024839\n",
      "52    0.024379\n",
      "37    0.024379\n",
      "33    0.023459\n",
      "39    0.023459\n",
      "50    0.023459\n",
      "43    0.022999\n",
      "45    0.022999\n",
      "49    0.022999\n",
      "51    0.022999\n",
      "29    0.022999\n",
      "46    0.022079\n",
      "55    0.022079\n",
      "48    0.021159\n",
      "44    0.020239\n",
      "53    0.020239\n",
      "60    0.017939\n",
      "62    0.017479\n",
      "61    0.017479\n",
      "32    0.017019\n",
      "64    0.017019\n",
      "23    0.016559\n",
      "27    0.016559\n",
      "26    0.016099\n",
      "59    0.015639\n",
      "63    0.013339\n",
      "25    0.010580\n",
      "24    0.009660\n",
      "65    0.009200\n",
      "66    0.009200\n",
      "21    0.008280\n",
      "22    0.007820\n",
      "67    0.007360\n",
      "0     0.004600\n",
      "68    0.004140\n",
      "71    0.002300\n",
      "69    0.002300\n",
      "20    0.002300\n",
      "70    0.001380\n",
      "72    0.000920\n",
      "19    0.000460\n",
      "73    0.000460\n",
      "Name: dob_years, dtype: float64\n",
      "========\n",
      "F    0.682613\n",
      "M    0.317387\n",
      "Name: gender, dtype: float64\n",
      "========\n",
      "0    0.921803\n",
      "1    0.078197\n",
      "Name: debt, dtype: float64\n",
      "========\n",
      "having a wedding                            0.042318\n",
      "to have a wedding                           0.037259\n",
      "wedding ceremony                            0.034959\n",
      "construction of own property                0.034499\n",
      "housing transactions                        0.034039\n",
      "buy real estate                             0.033119\n",
      "purchase of the house for my family         0.032659\n",
      "transactions with my real estate            0.032659\n",
      "transactions with commercial real estate    0.032199\n",
      "housing renovation                          0.032199\n",
      "buy commercial real estate                  0.030819\n",
      "buying property for renting out             0.029899\n",
      "property                                    0.028519\n",
      "real estate transactions                    0.028059\n",
      "buy residential real estate                 0.028059\n",
      "housing                                     0.027599\n",
      "building a property                         0.027139\n",
      "cars                                        0.026219\n",
      "going to university                         0.025759\n",
      "to become educated                          0.025299\n",
      "second-hand car purchase                    0.024839\n",
      "buying my own car                           0.024379\n",
      "to own a car                                0.023919\n",
      "purchase of the house                       0.023919\n",
      "to get a supplementary education            0.023459\n",
      "getting an education                        0.022999\n",
      "supplementary education                     0.022079\n",
      "profile education                           0.021619\n",
      "purchase of a car                           0.021159\n",
      "building a real estate                      0.021159\n",
      "purchase of my own house                    0.021159\n",
      "car purchase                                0.019779\n",
      "education                                   0.019319\n",
      "buying a second-hand car                    0.019319\n",
      "car                                         0.018859\n",
      "university education                        0.018399\n",
      "getting higher education                    0.016559\n",
      "to buy a car                                0.013799\n",
      "Name: purpose, dtype: float64\n",
      "========\n"
     ]
    }
   ],
   "source": [
    "# Verificando a distribuição\n",
    "# vamos olhar para cada coluna e verificar os diferentes valores e suas porcentagens em relação ao total de m_df.\n",
    "for col in ['family_status', 'income_type', 'education', 'children','dob_years','gender','debt','purpose']:\n",
    "    print(m_df[col].value_counts(dropna=False) / len(m_df))\n",
    "    print('========')\n"
   ]
  },
  {
   "cell_type": "markdown",
   "metadata": {},
   "source": [
    "Observações: \n",
    "Olhando para a coluna `family_status`  a maior porcentagem é casada.\n",
    "\n",
    "coluna `income_type` a maioria são empregados.\n",
    "\n",
    "coluna `education` a maior parte 65% tem ensino médio.\n",
    "\n",
    "coluna `children` observo que a maioria não tem filhos (66%), e ainda tem dados problematicos como -1 e 20.\n",
    "\n",
    "coluna que corresponde as idades `dob_years` esta bem distribuido.\n",
    "\n",
    "Coluna sobre genero a maoria é feminina.\n",
    "\n",
    "Coluna purpose que seria o motivo do emprestimo esta bem distribuido. Mas é necessário tratar os dados repetidos.\n",
    "\n",
    "**Possíveis motivos para valores ausentes nos dados**\n",
    "\n",
    "Não sei afirmar ainda se os dados faltantes são aleatórios ou se há algum motivo específicos agora podemos olhar para o df geral e ver se essas porcentagem continuam similares ou não."
   ]
  },
  {
   "cell_type": "code",
   "execution_count": 268,
   "metadata": {},
   "outputs": [
    {
     "name": "stdout",
     "output_type": "stream",
     "text": [
      "married              0.575145\n",
      "civil partnership    0.194053\n",
      "unmarried            0.130685\n",
      "divorced             0.055517\n",
      "widow / widower      0.044599\n",
      "Name: family_status, dtype: float64\n",
      "========\n",
      "employee                       0.516562\n",
      "business                       0.236237\n",
      "retiree                        0.179141\n",
      "civil servant                  0.067782\n",
      "unemployed                     0.000093\n",
      "entrepreneur                   0.000093\n",
      "student                        0.000046\n",
      "paternity / maternity leave    0.000046\n",
      "Name: income_type, dtype: float64\n",
      "========\n",
      "secondary education    0.638792\n",
      "bachelor's degree      0.219187\n",
      "SECONDARY EDUCATION    0.035865\n",
      "Secondary Education    0.033031\n",
      "some college           0.031034\n",
      "BACHELOR'S DEGREE      0.012729\n",
      "Bachelor's Degree      0.012451\n",
      "primary education      0.011614\n",
      "Some College           0.002184\n",
      "SOME COLLEGE           0.001347\n",
      "PRIMARY EDUCATION      0.000790\n",
      "Primary Education      0.000697\n",
      "graduate degree        0.000186\n",
      "Graduate Degree        0.000046\n",
      "GRADUATE DEGREE        0.000046\n",
      "Name: education, dtype: float64\n",
      "========\n",
      " 0     0.657329\n",
      " 1     0.223833\n",
      " 2     0.095470\n",
      " 3     0.015331\n",
      " 20    0.003531\n",
      "-1     0.002184\n",
      " 4     0.001905\n",
      " 5     0.000418\n",
      "Name: children, dtype: float64\n",
      "========\n",
      "35    0.028664\n",
      "40    0.028293\n",
      "41    0.028200\n",
      "34    0.028014\n",
      "38    0.027782\n",
      "42    0.027735\n",
      "33    0.026992\n",
      "39    0.026620\n",
      "31    0.026016\n",
      "36    0.025784\n",
      "44    0.025412\n",
      "29    0.025319\n",
      "30    0.025087\n",
      "48    0.024994\n",
      "37    0.024948\n",
      "50    0.023879\n",
      "43    0.023833\n",
      "32    0.023693\n",
      "49    0.023600\n",
      "28    0.023368\n",
      "45    0.023089\n",
      "27    0.022904\n",
      "56    0.022625\n",
      "52    0.022485\n",
      "47    0.022300\n",
      "54    0.022253\n",
      "46    0.022067\n",
      "58    0.021417\n",
      "57    0.021370\n",
      "53    0.021324\n",
      "51    0.020813\n",
      "59    0.020627\n",
      "55    0.020581\n",
      "26    0.018955\n",
      "60    0.017515\n",
      "25    0.016585\n",
      "61    0.016492\n",
      "62    0.016353\n",
      "63    0.012497\n",
      "64    0.012311\n",
      "24    0.012265\n",
      "23    0.011800\n",
      "65    0.009013\n",
      "22    0.008502\n",
      "66    0.008502\n",
      "67    0.007758\n",
      "21    0.005157\n",
      "0     0.004692\n",
      "68    0.004599\n",
      "69    0.003949\n",
      "70    0.003020\n",
      "71    0.002695\n",
      "20    0.002369\n",
      "72    0.001533\n",
      "19    0.000650\n",
      "73    0.000372\n",
      "74    0.000279\n",
      "75    0.000046\n",
      "Name: dob_years, dtype: float64\n",
      "========\n",
      "F      0.661370\n",
      "M      0.338583\n",
      "XNA    0.000046\n",
      "Name: gender, dtype: float64\n",
      "========\n",
      "0    0.919117\n",
      "1    0.080883\n",
      "Name: debt, dtype: float64\n",
      "========\n",
      "wedding ceremony                            0.037027\n",
      "having a wedding                            0.036098\n",
      "to have a wedding                           0.035958\n",
      "real estate transactions                    0.031405\n",
      "buy commercial real estate                  0.030848\n",
      "buying property for renting out             0.030337\n",
      "housing transactions                        0.030337\n",
      "transactions with commercial real estate    0.030244\n",
      "purchase of the house                       0.030058\n",
      "housing                                     0.030058\n",
      "purchase of the house for my family         0.029779\n",
      "construction of own property                0.029501\n",
      "property                                    0.029454\n",
      "transactions with my real estate            0.029268\n",
      "building a real estate                      0.029082\n",
      "buy real estate                             0.028990\n",
      "building a property                         0.028804\n",
      "purchase of my own house                    0.028804\n",
      "housing renovation                          0.028432\n",
      "buy residential real estate                 0.028200\n",
      "buying my own car                           0.023461\n",
      "going to university                         0.023043\n",
      "car                                         0.022997\n",
      "second-hand car purchase                    0.022718\n",
      "to own a car                                0.022300\n",
      "buying a second-hand car                    0.022253\n",
      "cars                                        0.022207\n",
      "to buy a car                                0.021928\n",
      "supplementary education                     0.021463\n",
      "car purchase                                0.021463\n",
      "purchase of a car                           0.021138\n",
      "university education                        0.021045\n",
      "education                                   0.020767\n",
      "to get a supplementary education            0.020767\n",
      "getting an education                        0.020581\n",
      "profile education                           0.020256\n",
      "getting higher education                    0.019791\n",
      "to become educated                          0.019141\n",
      "Name: purpose, dtype: float64\n",
      "========\n"
     ]
    }
   ],
   "source": [
    "# Verificar a distribuição em todo o conjunto de dados\n",
    "for col in ['family_status', 'income_type', 'education', 'children','dob_years','gender','debt','purpose']:\n",
    "    print(df[col].value_counts(dropna=False) / len(df))\n",
    "    print('========')"
   ]
  },
  {
   "cell_type": "markdown",
   "metadata": {},
   "source": [
    "**Conclusão intermediária**\n",
    "\n",
    "A distribuição no conjunto de dados original é semelhante à distribuição da tabela filtrada (com valores ausentes), acredito o erro nos dados é sistemico."
   ]
  },
  {
   "cell_type": "markdown",
   "metadata": {},
   "source": [
    "**Conclusões** <a id='data_review_conclusions'></a>\n",
    "\n",
    "Olhando para a distribuição dos dados em cada coluna não encontrei nenhum padrão específico.\n",
    "\n",
    "Os dados ausentes precisarão ser tratados considerando os valores preenchidos para cada categoria.\n",
    "\n",
    "Próxima etapa será verificar as colunas e ver se precisam de correção nos dados preenchidos, retirar as duplicadas, corrigir os dados incorretos e depois tratar os valores ausentes."
   ]
  },
  {
   "cell_type": "markdown",
   "metadata": {},
   "source": [
    "## Pré-processamento de dados <a id='transformacao_dados'></a>\n",
    "\n",
    "Vamos examinar cada coluna e corrigir oque for necessário.\n",
    "\n",
    "Verificando os dados na coluna `education`:\n"
   ]
  },
  {
   "cell_type": "code",
   "execution_count": 269,
   "metadata": {},
   "outputs": [
    {
     "data": {
      "text/plain": [
       "secondary education    13750\n",
       "bachelor's degree       4718\n",
       "SECONDARY EDUCATION      772\n",
       "Secondary Education      711\n",
       "some college             668\n",
       "BACHELOR'S DEGREE        274\n",
       "Bachelor's Degree        268\n",
       "primary education        250\n",
       "Some College              47\n",
       "SOME COLLEGE              29\n",
       "PRIMARY EDUCATION         17\n",
       "Primary Education         15\n",
       "graduate degree            4\n",
       "Graduate Degree            1\n",
       "GRADUATE DEGREE            1\n",
       "Name: education, dtype: int64"
      ]
     },
     "execution_count": 269,
     "metadata": {},
     "output_type": "execute_result"
    }
   ],
   "source": [
    "# Vamos ver todos os valores na coluna de educação para verificar se e quais grafias precisarão ser corrigidas\n",
    "df['education'].value_counts()"
   ]
  },
  {
   "cell_type": "code",
   "execution_count": 270,
   "metadata": {
    "scrolled": true
   },
   "outputs": [],
   "source": [
    "# colocando os dados de forma padronizada\n",
    "df['education'] = df['education'].str.lower()"
   ]
  },
  {
   "cell_type": "code",
   "execution_count": 271,
   "metadata": {},
   "outputs": [
    {
     "data": {
      "text/plain": [
       "secondary education    15233\n",
       "bachelor's degree       5260\n",
       "some college             744\n",
       "primary education        282\n",
       "graduate degree            6\n",
       "Name: education, dtype: int64"
      ]
     },
     "execution_count": 271,
     "metadata": {},
     "output_type": "execute_result"
    }
   ],
   "source": [
    "# Verificando todos os valores na coluna para ter certeza de que os corrigimos\n",
    "df['education'].value_counts()\n"
   ]
  },
  {
   "cell_type": "markdown",
   "metadata": {},
   "source": [
    "Verificando os dados na coluna `children`:"
   ]
  },
  {
   "cell_type": "code",
   "execution_count": 272,
   "metadata": {
    "scrolled": false
   },
   "outputs": [
    {
     "name": "stdout",
     "output_type": "stream",
     "text": [
      "count    21525.000000\n",
      "mean         0.538908\n",
      "std          1.381587\n",
      "min         -1.000000\n",
      "25%          0.000000\n",
      "50%          0.000000\n",
      "75%          1.000000\n",
      "max         20.000000\n",
      "Name: children, dtype: float64\n",
      "----------------------\n",
      " 0     14149\n",
      " 1      4818\n",
      " 2      2055\n",
      " 3       330\n",
      " 20       76\n",
      "-1        47\n",
      " 4        41\n",
      " 5         9\n",
      "Name: children, dtype: int64\n",
      "----------------------\n",
      "0.5714285714285714%\n"
     ]
    }
   ],
   "source": [
    "# Vamos ver a distribuição de valores na coluna `children`\n",
    "print(df['children'].describe())\n",
    "print('----------------------')\n",
    "print(df['children'].value_counts())\n",
    "print('----------------------')\n",
    "\n",
    "data_problem = df[(df['children'] == 20) | (df['children'] == -1)]['children'].count()/(df['children'].count())\n",
    "print(f'{data_problem*100}%')"
   ]
  },
  {
   "cell_type": "markdown",
   "metadata": {},
   "source": [
    "Existe um valor impossível que seria -1 para 47 pessoas e outro muito suspeito que no caso são 20 filhos para um número consideravel de pessoas (76 pessoas). Há algo provavelmente preenchido errado nestes dados. A porcentagem geral destes dados duvidosos é de 0.6%, de qualquer forma precisam ser tratados e corrigidos. \n",
    "\n",
    "O valor 20 provavelmente foi um erro de digitação até porque não existe valores intermediarios de 5 filhos até 20 filhos, acredito que valor 20 na verdade sejam de apenas 2 filhos. Neste caso vamos substituir os valores que estão 20 pelo valor 2.\n",
    "\n",
    "Para o caso do valor -1 não podemos assumir que são apenas 1 filho, as vezes o número negativo pode indicar um dado faltante. Acreditamos que para este caso seria mais interessante substituir pela média ou mediana dos valores.\n"
   ]
  },
  {
   "cell_type": "code",
   "execution_count": 273,
   "metadata": {},
   "outputs": [
    {
     "name": "stdout",
     "output_type": "stream",
     "text": [
      " 0    14149\n",
      " 1     4818\n",
      " 2     2131\n",
      " 3      330\n",
      "-1       47\n",
      " 4       41\n",
      " 5        9\n",
      "Name: children, dtype: int64\n",
      " média 0.4753542392566783\n",
      " mediana 0.0\n"
     ]
    }
   ],
   "source": [
    "# primeiro vou substituir os dados que estavam com 20 por 2\n",
    "df['children'] = df['children'].replace(20,2) #assumindo que foi erro de digitação\n",
    "print(df['children'].value_counts()) # vamos olhar agora se foi corrigido\n",
    "print(f\" média {df['children'].mean()}\") # agora vamos calcular a média \n",
    "print(f\" mediana {df['children'].median()}\")# agora vamos calcular a mediana\n",
    "# -1 provavelmente é dado faltante, neste caso vou assumir a mediana \n",
    "df['children'] = df['children'].replace(-1,0)"
   ]
  },
  {
   "cell_type": "code",
   "execution_count": 274,
   "metadata": {},
   "outputs": [
    {
     "data": {
      "text/plain": [
       "0    14196\n",
       "1     4818\n",
       "2     2131\n",
       "3      330\n",
       "4       41\n",
       "5        9\n",
       "Name: children, dtype: int64"
      ]
     },
     "execution_count": 274,
     "metadata": {},
     "output_type": "execute_result"
    }
   ],
   "source": [
    "# Verificando a coluna `children` novamente para ter certeza de que está tudo corrigido\n",
    "df['children'].value_counts()\n"
   ]
  },
  {
   "cell_type": "markdown",
   "metadata": {},
   "source": [
    "Verificando os dados da coluna `days_employed`:"
   ]
  },
  {
   "cell_type": "code",
   "execution_count": 275,
   "metadata": {},
   "outputs": [
    {
     "name": "stdout",
     "output_type": "stream",
     "text": [
      "-8437.673028      1\n",
      "-3507.818775      1\n",
      " 354500.415854    1\n",
      "-769.717438       1\n",
      "-3963.590317      1\n",
      "                 ..\n",
      "-1099.957609      1\n",
      "-209.984794       1\n",
      " 398099.392433    1\n",
      "-1271.038880      1\n",
      "-1984.507589      1\n",
      "Name: days_employed, Length: 19351, dtype: int64\n",
      "--------------------------------------------\n",
      "count     19351.000000\n",
      "mean      63046.497661\n",
      "std      140827.311974\n",
      "min      -18388.949901\n",
      "25%       -2747.423625\n",
      "50%       -1203.369529\n",
      "75%        -291.095954\n",
      "max      401755.400475\n",
      "Name: days_employed, dtype: float64\n",
      "--------------------------------------------\n",
      "0      -8437.673028\n",
      "1      -4024.803754\n",
      "2      -5623.422610\n",
      "3      -4124.747207\n",
      "4     340266.072047\n",
      "5       -926.185831\n",
      "6      -2879.202052\n",
      "7       -152.779569\n",
      "8      -6929.865299\n",
      "9      -2188.756445\n",
      "10     -4171.483647\n",
      "11      -792.701887\n",
      "12              NaN\n",
      "13     -1846.641941\n",
      "14     -1844.956182\n",
      "15      -972.364419\n",
      "16     -1719.934226\n",
      "17     -2369.999720\n",
      "18    400281.136913\n",
      "19    -10038.818549\n",
      "Name: days_employed, dtype: float64\n",
      "--------------------------------------------\n",
      "A porcentagem dos valores negativos:\n",
      "82.1973024649889\n",
      "Porcentagem de valores maiores que 45 anos de trabalho:\n",
      "17.80269753501111\n"
     ]
    }
   ],
   "source": [
    "# Analisando os dados problemáticos em `days_employed`\n",
    "print(df['days_employed'].value_counts()) # valores negativos\n",
    "print('--------------------------------------------')\n",
    "print(df['days_employed'].describe()) \n",
    "# além disso os valores são enormes e provavelmente não estão em dias e sim em horas\n",
    "# exemplo: o valor da média é de 63 mil dias, se dividirmos por 365 dias (1 ano) isso nos da aproximadamente 170 anos\n",
    "# Assumindo que os dados estão em horas, se dividirmos os valores por 24h teremos valores mais consistentes com dias trabalhados\n",
    "print('--------------------------------------------')\n",
    "print(df['days_employed'].head(20)) \n",
    "print('--------------------------------------------')\n",
    "print('A porcentagem dos valores negativos:')\n",
    "print(df[df['days_employed'] < 0]['days_employed'].count()*100 / df['days_employed'].count()) # erro sistemico, dados devem ser corrigidos para numeros positivos\n",
    "print('Porcentagem de valores maiores que 45 anos de trabalho:')\n",
    "print(df[df['days_employed'] > 45 * 365]['days_employed'].count()*100 / df['days_employed'].count()) # valores maiores do que 45 anos trabalhando"
   ]
  },
  {
   "cell_type": "markdown",
   "metadata": {},
   "source": [
    "A quantidade de dados problemática é de quase 100% e pode ser devido a alguns problemas técnicos. \n",
    "Provavelmente, os dias na verdade podem em horas, e o sinal de negativo entrou por algum erro técnico."
   ]
  },
  {
   "cell_type": "code",
   "execution_count": 276,
   "metadata": {},
   "outputs": [],
   "source": [
    "# Abordando os valores problemáticos\n",
    "df['days_employed'] = df['days_employed'].abs() # colocandos os dados em valores positivos\n",
    "df['days_employed'] = df['days_employed']/24 # acredito que os valores estavam em horas por isso dividi por 24 para ficar em dias trabalhados"
   ]
  },
  {
   "cell_type": "code",
   "execution_count": 277,
   "metadata": {},
   "outputs": [
    {
     "name": "stdout",
     "output_type": "stream",
     "text": [
      "count    19351.000000\n",
      "mean      2788.113704\n",
      "std       5792.953355\n",
      "min          1.005901\n",
      "25%         38.625386\n",
      "50%         91.425857\n",
      "75%        230.745102\n",
      "max      16739.808353\n",
      "Name: days_employed, dtype: float64\n",
      "0.0\n",
      "1.9120458891013383\n"
     ]
    },
    {
     "data": {
      "text/html": [
       "<div>\n",
       "<style scoped>\n",
       "    .dataframe tbody tr th:only-of-type {\n",
       "        vertical-align: middle;\n",
       "    }\n",
       "\n",
       "    .dataframe tbody tr th {\n",
       "        vertical-align: top;\n",
       "    }\n",
       "\n",
       "    .dataframe thead th {\n",
       "        text-align: right;\n",
       "    }\n",
       "</style>\n",
       "<table border=\"1\" class=\"dataframe\">\n",
       "  <thead>\n",
       "    <tr style=\"text-align: right;\">\n",
       "      <th></th>\n",
       "      <th>children</th>\n",
       "      <th>days_employed</th>\n",
       "      <th>dob_years</th>\n",
       "      <th>education</th>\n",
       "      <th>education_id</th>\n",
       "      <th>family_status</th>\n",
       "      <th>family_status_id</th>\n",
       "      <th>gender</th>\n",
       "      <th>income_type</th>\n",
       "      <th>debt</th>\n",
       "      <th>total_income</th>\n",
       "      <th>purpose</th>\n",
       "    </tr>\n",
       "  </thead>\n",
       "  <tbody>\n",
       "    <tr>\n",
       "      <th>6954</th>\n",
       "      <td>0</td>\n",
       "      <td>16739.808353</td>\n",
       "      <td>56</td>\n",
       "      <td>secondary education</td>\n",
       "      <td>1</td>\n",
       "      <td>widow / widower</td>\n",
       "      <td>2</td>\n",
       "      <td>F</td>\n",
       "      <td>retiree</td>\n",
       "      <td>0</td>\n",
       "      <td>28204.551</td>\n",
       "      <td>housing renovation</td>\n",
       "    </tr>\n",
       "  </tbody>\n",
       "</table>\n",
       "</div>"
      ],
      "text/plain": [
       "      children  days_employed  dob_years            education  education_id  \\\n",
       "6954         0   16739.808353         56  secondary education             1   \n",
       "\n",
       "        family_status  family_status_id gender income_type  debt  \\\n",
       "6954  widow / widower                 2      F     retiree     0   \n",
       "\n",
       "      total_income             purpose  \n",
       "6954     28204.551  housing renovation  "
      ]
     },
     "execution_count": 277,
     "metadata": {},
     "output_type": "execute_result"
    }
   ],
   "source": [
    "# Verificando o resultado - vamos verificar se esta corrigido\n",
    "print(df['days_employed'].describe())\n",
    "\n",
    "print(df[df['days_employed'] < 0]['days_employed'].count()*100 / df['days_employed'].count()) \n",
    "print(df[df['days_employed'] > 45 * 365]['days_employed'].count()*100 / df['days_employed'].count())\n",
    "df[df['days_employed'] == df['days_employed'].max()] # curiosidade, a pessoa com o valor maior em dias trabalhados"
   ]
  },
  {
   "cell_type": "markdown",
   "metadata": {},
   "source": [
    "Vamos agora olhar para a coluna  `dob_years`"
   ]
  },
  {
   "cell_type": "code",
   "execution_count": 278,
   "metadata": {
    "scrolled": true
   },
   "outputs": [
    {
     "name": "stdout",
     "output_type": "stream",
     "text": [
      "35    617\n",
      "40    609\n",
      "41    607\n",
      "34    603\n",
      "38    598\n",
      "42    597\n",
      "33    581\n",
      "39    573\n",
      "31    560\n",
      "36    555\n",
      "44    547\n",
      "29    545\n",
      "30    540\n",
      "48    538\n",
      "37    537\n",
      "50    514\n",
      "43    513\n",
      "32    510\n",
      "49    508\n",
      "28    503\n",
      "45    497\n",
      "27    493\n",
      "56    487\n",
      "52    484\n",
      "47    480\n",
      "54    479\n",
      "46    475\n",
      "58    461\n",
      "57    460\n",
      "53    459\n",
      "51    448\n",
      "59    444\n",
      "55    443\n",
      "26    408\n",
      "60    377\n",
      "25    357\n",
      "61    355\n",
      "62    352\n",
      "63    269\n",
      "64    265\n",
      "24    264\n",
      "23    254\n",
      "65    194\n",
      "22    183\n",
      "66    183\n",
      "67    167\n",
      "21    111\n",
      "0     101\n",
      "68     99\n",
      "69     85\n",
      "70     65\n",
      "71     58\n",
      "20     51\n",
      "72     33\n",
      "19     14\n",
      "73      8\n",
      "74      6\n",
      "75      1\n",
      "Name: dob_years, dtype: int64\n",
      "count    21525.000000\n",
      "mean        43.293380\n",
      "std         12.574584\n",
      "min          0.000000\n",
      "25%         33.000000\n",
      "50%         42.000000\n",
      "75%         53.000000\n",
      "max         75.000000\n",
      "Name: dob_years, dtype: float64\n",
      "0.4692218350754936\n",
      "43.497479462285284\n"
     ]
    }
   ],
   "source": [
    "# Verificando o `dob_years` para valores suspeitos e a porcentagem\n",
    "print(df['dob_years'].value_counts())\n",
    "print(df['dob_years'].describe()) # existem alguns valores com 0\n",
    "print(df[df['dob_years'] == 0]['dob_years'].count()*100/len(df['dob_years'])) # 0.46% dos dados estao com valores 0 anos\n",
    "media_age = df[df['dob_years'] > 0 ]['dob_years'].mean() #calculando a média das idades\n",
    "print(media_age)"
   ]
  },
  {
   "cell_type": "markdown",
   "metadata": {},
   "source": [
    "Substituiremos os valores 0 pela média das idades"
   ]
  },
  {
   "cell_type": "code",
   "execution_count": 279,
   "metadata": {},
   "outputs": [],
   "source": [
    "# Resolvendo o problema na coluna `dob_years`\n",
    "df['dob_years'] = df['dob_years'].replace(0,media_age)"
   ]
  },
  {
   "cell_type": "code",
   "execution_count": 280,
   "metadata": {},
   "outputs": [
    {
     "name": "stdout",
     "output_type": "stream",
     "text": [
      "35.000000    617\n",
      "40.000000    609\n",
      "41.000000    607\n",
      "34.000000    603\n",
      "38.000000    598\n",
      "42.000000    597\n",
      "33.000000    581\n",
      "39.000000    573\n",
      "31.000000    560\n",
      "36.000000    555\n",
      "44.000000    547\n",
      "29.000000    545\n",
      "30.000000    540\n",
      "48.000000    538\n",
      "37.000000    537\n",
      "50.000000    514\n",
      "43.000000    513\n",
      "32.000000    510\n",
      "49.000000    508\n",
      "28.000000    503\n",
      "45.000000    497\n",
      "27.000000    493\n",
      "56.000000    487\n",
      "52.000000    484\n",
      "47.000000    480\n",
      "54.000000    479\n",
      "46.000000    475\n",
      "58.000000    461\n",
      "57.000000    460\n",
      "53.000000    459\n",
      "51.000000    448\n",
      "59.000000    444\n",
      "55.000000    443\n",
      "26.000000    408\n",
      "60.000000    377\n",
      "25.000000    357\n",
      "61.000000    355\n",
      "62.000000    352\n",
      "63.000000    269\n",
      "64.000000    265\n",
      "24.000000    264\n",
      "23.000000    254\n",
      "65.000000    194\n",
      "22.000000    183\n",
      "66.000000    183\n",
      "67.000000    167\n",
      "21.000000    111\n",
      "43.497479    101\n",
      "68.000000     99\n",
      "69.000000     85\n",
      "70.000000     65\n",
      "71.000000     58\n",
      "20.000000     51\n",
      "72.000000     33\n",
      "19.000000     14\n",
      "73.000000      8\n",
      "74.000000      6\n",
      "75.000000      1\n",
      "Name: dob_years, dtype: int64\n",
      "count    21525.000000\n",
      "mean        43.497479\n",
      "std         12.218166\n",
      "min         19.000000\n",
      "25%         34.000000\n",
      "50%         43.000000\n",
      "75%         53.000000\n",
      "max         75.000000\n",
      "Name: dob_years, dtype: float64\n"
     ]
    }
   ],
   "source": [
    "# Verificando o resultado\n",
    "print(df['dob_years'].value_counts())\n",
    "print(df['dob_years'].describe())"
   ]
  },
  {
   "cell_type": "markdown",
   "metadata": {},
   "source": [
    "Agora vamos verificar a coluna `family_status`"
   ]
  },
  {
   "cell_type": "code",
   "execution_count": 281,
   "metadata": {},
   "outputs": [
    {
     "data": {
      "text/plain": [
       "married              12380\n",
       "civil partnership     4177\n",
       "unmarried             2813\n",
       "divorced              1195\n",
       "widow / widower        960\n",
       "Name: family_status, dtype: int64"
      ]
     },
     "execution_count": 281,
     "metadata": {},
     "output_type": "execute_result"
    }
   ],
   "source": [
    "# Vamos ver os valores da coluna\n",
    "df['family_status'].value_counts() # aparentemente estão todos consistentes"
   ]
  },
  {
   "cell_type": "markdown",
   "metadata": {},
   "source": [
    "Agora vamos verificar a coluna `gender`"
   ]
  },
  {
   "cell_type": "code",
   "execution_count": 282,
   "metadata": {},
   "outputs": [
    {
     "data": {
      "text/plain": [
       "F      14236\n",
       "M       7288\n",
       "XNA        1\n",
       "Name: gender, dtype: int64"
      ]
     },
     "execution_count": 282,
     "metadata": {},
     "output_type": "execute_result"
    }
   ],
   "source": [
    "# Vamos ver os valores na coluna\n",
    "df['gender'].value_counts() # aparentemente estão todos consistentes"
   ]
  },
  {
   "cell_type": "markdown",
   "metadata": {},
   "source": [
    "Agora vamos verificar a coluna `income_type`"
   ]
  },
  {
   "cell_type": "code",
   "execution_count": 283,
   "metadata": {},
   "outputs": [
    {
     "data": {
      "text/plain": [
       "employee                       11119\n",
       "business                        5085\n",
       "retiree                         3856\n",
       "civil servant                   1459\n",
       "unemployed                         2\n",
       "entrepreneur                       2\n",
       "student                            1\n",
       "paternity / maternity leave        1\n",
       "Name: income_type, dtype: int64"
      ]
     },
     "execution_count": 283,
     "metadata": {},
     "output_type": "execute_result"
    }
   ],
   "source": [
    "# Vamos ver os valores na coluna\n",
    "df['income_type'].value_counts() # aparentemente estão consistentes "
   ]
  },
  {
   "cell_type": "markdown",
   "metadata": {},
   "source": [
    "Agora vamos ver se temos duplicatas em nossos dados"
   ]
  },
  {
   "cell_type": "code",
   "execution_count": 284,
   "metadata": {},
   "outputs": [
    {
     "name": "stdout",
     "output_type": "stream",
     "text": [
      "71\n"
     ]
    },
    {
     "data": {
      "text/html": [
       "<div>\n",
       "<style scoped>\n",
       "    .dataframe tbody tr th:only-of-type {\n",
       "        vertical-align: middle;\n",
       "    }\n",
       "\n",
       "    .dataframe tbody tr th {\n",
       "        vertical-align: top;\n",
       "    }\n",
       "\n",
       "    .dataframe thead th {\n",
       "        text-align: right;\n",
       "    }\n",
       "</style>\n",
       "<table border=\"1\" class=\"dataframe\">\n",
       "  <thead>\n",
       "    <tr style=\"text-align: right;\">\n",
       "      <th></th>\n",
       "      <th>children</th>\n",
       "      <th>days_employed</th>\n",
       "      <th>dob_years</th>\n",
       "      <th>education</th>\n",
       "      <th>education_id</th>\n",
       "      <th>family_status</th>\n",
       "      <th>family_status_id</th>\n",
       "      <th>gender</th>\n",
       "      <th>income_type</th>\n",
       "      <th>debt</th>\n",
       "      <th>total_income</th>\n",
       "      <th>purpose</th>\n",
       "    </tr>\n",
       "  </thead>\n",
       "  <tbody>\n",
       "    <tr>\n",
       "      <th>2849</th>\n",
       "      <td>0</td>\n",
       "      <td>NaN</td>\n",
       "      <td>41.0</td>\n",
       "      <td>secondary education</td>\n",
       "      <td>1</td>\n",
       "      <td>married</td>\n",
       "      <td>0</td>\n",
       "      <td>F</td>\n",
       "      <td>employee</td>\n",
       "      <td>0</td>\n",
       "      <td>NaN</td>\n",
       "      <td>purchase of the house for my family</td>\n",
       "    </tr>\n",
       "    <tr>\n",
       "      <th>3290</th>\n",
       "      <td>0</td>\n",
       "      <td>NaN</td>\n",
       "      <td>58.0</td>\n",
       "      <td>secondary education</td>\n",
       "      <td>1</td>\n",
       "      <td>civil partnership</td>\n",
       "      <td>1</td>\n",
       "      <td>F</td>\n",
       "      <td>retiree</td>\n",
       "      <td>0</td>\n",
       "      <td>NaN</td>\n",
       "      <td>to have a wedding</td>\n",
       "    </tr>\n",
       "    <tr>\n",
       "      <th>4182</th>\n",
       "      <td>1</td>\n",
       "      <td>NaN</td>\n",
       "      <td>34.0</td>\n",
       "      <td>bachelor's degree</td>\n",
       "      <td>0</td>\n",
       "      <td>civil partnership</td>\n",
       "      <td>1</td>\n",
       "      <td>F</td>\n",
       "      <td>employee</td>\n",
       "      <td>0</td>\n",
       "      <td>NaN</td>\n",
       "      <td>wedding ceremony</td>\n",
       "    </tr>\n",
       "    <tr>\n",
       "      <th>4851</th>\n",
       "      <td>0</td>\n",
       "      <td>NaN</td>\n",
       "      <td>60.0</td>\n",
       "      <td>secondary education</td>\n",
       "      <td>1</td>\n",
       "      <td>civil partnership</td>\n",
       "      <td>1</td>\n",
       "      <td>F</td>\n",
       "      <td>retiree</td>\n",
       "      <td>0</td>\n",
       "      <td>NaN</td>\n",
       "      <td>wedding ceremony</td>\n",
       "    </tr>\n",
       "    <tr>\n",
       "      <th>5557</th>\n",
       "      <td>0</td>\n",
       "      <td>NaN</td>\n",
       "      <td>58.0</td>\n",
       "      <td>secondary education</td>\n",
       "      <td>1</td>\n",
       "      <td>civil partnership</td>\n",
       "      <td>1</td>\n",
       "      <td>F</td>\n",
       "      <td>retiree</td>\n",
       "      <td>0</td>\n",
       "      <td>NaN</td>\n",
       "      <td>to have a wedding</td>\n",
       "    </tr>\n",
       "    <tr>\n",
       "      <th>...</th>\n",
       "      <td>...</td>\n",
       "      <td>...</td>\n",
       "      <td>...</td>\n",
       "      <td>...</td>\n",
       "      <td>...</td>\n",
       "      <td>...</td>\n",
       "      <td>...</td>\n",
       "      <td>...</td>\n",
       "      <td>...</td>\n",
       "      <td>...</td>\n",
       "      <td>...</td>\n",
       "      <td>...</td>\n",
       "    </tr>\n",
       "    <tr>\n",
       "      <th>20702</th>\n",
       "      <td>0</td>\n",
       "      <td>NaN</td>\n",
       "      <td>64.0</td>\n",
       "      <td>secondary education</td>\n",
       "      <td>1</td>\n",
       "      <td>married</td>\n",
       "      <td>0</td>\n",
       "      <td>F</td>\n",
       "      <td>retiree</td>\n",
       "      <td>0</td>\n",
       "      <td>NaN</td>\n",
       "      <td>supplementary education</td>\n",
       "    </tr>\n",
       "    <tr>\n",
       "      <th>21032</th>\n",
       "      <td>0</td>\n",
       "      <td>NaN</td>\n",
       "      <td>60.0</td>\n",
       "      <td>secondary education</td>\n",
       "      <td>1</td>\n",
       "      <td>married</td>\n",
       "      <td>0</td>\n",
       "      <td>F</td>\n",
       "      <td>retiree</td>\n",
       "      <td>0</td>\n",
       "      <td>NaN</td>\n",
       "      <td>to become educated</td>\n",
       "    </tr>\n",
       "    <tr>\n",
       "      <th>21132</th>\n",
       "      <td>0</td>\n",
       "      <td>NaN</td>\n",
       "      <td>47.0</td>\n",
       "      <td>secondary education</td>\n",
       "      <td>1</td>\n",
       "      <td>married</td>\n",
       "      <td>0</td>\n",
       "      <td>F</td>\n",
       "      <td>employee</td>\n",
       "      <td>0</td>\n",
       "      <td>NaN</td>\n",
       "      <td>housing renovation</td>\n",
       "    </tr>\n",
       "    <tr>\n",
       "      <th>21281</th>\n",
       "      <td>1</td>\n",
       "      <td>NaN</td>\n",
       "      <td>30.0</td>\n",
       "      <td>bachelor's degree</td>\n",
       "      <td>0</td>\n",
       "      <td>married</td>\n",
       "      <td>0</td>\n",
       "      <td>F</td>\n",
       "      <td>employee</td>\n",
       "      <td>0</td>\n",
       "      <td>NaN</td>\n",
       "      <td>buy commercial real estate</td>\n",
       "    </tr>\n",
       "    <tr>\n",
       "      <th>21415</th>\n",
       "      <td>0</td>\n",
       "      <td>NaN</td>\n",
       "      <td>54.0</td>\n",
       "      <td>secondary education</td>\n",
       "      <td>1</td>\n",
       "      <td>married</td>\n",
       "      <td>0</td>\n",
       "      <td>F</td>\n",
       "      <td>retiree</td>\n",
       "      <td>0</td>\n",
       "      <td>NaN</td>\n",
       "      <td>housing transactions</td>\n",
       "    </tr>\n",
       "  </tbody>\n",
       "</table>\n",
       "<p>71 rows × 12 columns</p>\n",
       "</div>"
      ],
      "text/plain": [
       "       children  days_employed  dob_years            education  education_id  \\\n",
       "2849          0            NaN       41.0  secondary education             1   \n",
       "3290          0            NaN       58.0  secondary education             1   \n",
       "4182          1            NaN       34.0    bachelor's degree             0   \n",
       "4851          0            NaN       60.0  secondary education             1   \n",
       "5557          0            NaN       58.0  secondary education             1   \n",
       "...         ...            ...        ...                  ...           ...   \n",
       "20702         0            NaN       64.0  secondary education             1   \n",
       "21032         0            NaN       60.0  secondary education             1   \n",
       "21132         0            NaN       47.0  secondary education             1   \n",
       "21281         1            NaN       30.0    bachelor's degree             0   \n",
       "21415         0            NaN       54.0  secondary education             1   \n",
       "\n",
       "           family_status  family_status_id gender income_type  debt  \\\n",
       "2849             married                 0      F    employee     0   \n",
       "3290   civil partnership                 1      F     retiree     0   \n",
       "4182   civil partnership                 1      F    employee     0   \n",
       "4851   civil partnership                 1      F     retiree     0   \n",
       "5557   civil partnership                 1      F     retiree     0   \n",
       "...                  ...               ...    ...         ...   ...   \n",
       "20702            married                 0      F     retiree     0   \n",
       "21032            married                 0      F     retiree     0   \n",
       "21132            married                 0      F    employee     0   \n",
       "21281            married                 0      F    employee     0   \n",
       "21415            married                 0      F     retiree     0   \n",
       "\n",
       "       total_income                              purpose  \n",
       "2849            NaN  purchase of the house for my family  \n",
       "3290            NaN                    to have a wedding  \n",
       "4182            NaN                     wedding ceremony  \n",
       "4851            NaN                     wedding ceremony  \n",
       "5557            NaN                    to have a wedding  \n",
       "...             ...                                  ...  \n",
       "20702           NaN              supplementary education  \n",
       "21032           NaN                   to become educated  \n",
       "21132           NaN                   housing renovation  \n",
       "21281           NaN           buy commercial real estate  \n",
       "21415           NaN                 housing transactions  \n",
       "\n",
       "[71 rows x 12 columns]"
      ]
     },
     "execution_count": 284,
     "metadata": {},
     "output_type": "execute_result"
    }
   ],
   "source": [
    "# Verificando duplicatas\n",
    "print(df.duplicated().sum()) # temos  71 dados duplicados nas linhas de df\n",
    "df[df.duplicated()]"
   ]
  },
  {
   "cell_type": "code",
   "execution_count": 285,
   "metadata": {},
   "outputs": [],
   "source": [
    "# retirando os dados duplicados e resetando os index \n",
    "df = df.drop_duplicates().reset_index(drop=True)"
   ]
  },
  {
   "cell_type": "code",
   "execution_count": 286,
   "metadata": {},
   "outputs": [
    {
     "data": {
      "text/plain": [
       "0"
      ]
     },
     "execution_count": 286,
     "metadata": {},
     "output_type": "execute_result"
    }
   ],
   "source": [
    "# Última verificação se temos duplicatas\n",
    "df.duplicated().sum()"
   ]
  },
  {
   "cell_type": "code",
   "execution_count": 287,
   "metadata": {},
   "outputs": [
    {
     "name": "stdout",
     "output_type": "stream",
     "text": [
      "<class 'pandas.core.frame.DataFrame'>\n",
      "RangeIndex: 21454 entries, 0 to 21453\n",
      "Data columns (total 12 columns):\n",
      " #   Column            Non-Null Count  Dtype  \n",
      "---  ------            --------------  -----  \n",
      " 0   children          21454 non-null  int64  \n",
      " 1   days_employed     19351 non-null  float64\n",
      " 2   dob_years         21454 non-null  float64\n",
      " 3   education         21454 non-null  object \n",
      " 4   education_id      21454 non-null  int64  \n",
      " 5   family_status     21454 non-null  object \n",
      " 6   family_status_id  21454 non-null  int64  \n",
      " 7   gender            21454 non-null  object \n",
      " 8   income_type       21454 non-null  object \n",
      " 9   debt              21454 non-null  int64  \n",
      " 10  total_income      19351 non-null  float64\n",
      " 11  purpose           21454 non-null  object \n",
      "dtypes: float64(3), int64(4), object(5)\n",
      "memory usage: 2.0+ MB\n"
     ]
    }
   ],
   "source": [
    "#Verificando o tamanho do conjunto de dados após primeiras manipulações com ele\n",
    "df.info()"
   ]
  },
  {
   "cell_type": "markdown",
   "metadata": {},
   "source": [
    "Agora os dados preenchidos nas colunas estão corrigidos e retiramos as linhas duplicadas, podemos agora tratar os valores ausentes das colunas days_employed e total_income para obter o df final para a analise.\n"
   ]
  },
  {
   "cell_type": "markdown",
   "metadata": {},
   "source": [
    "### Trabalhando com valores ausentes"
   ]
  },
  {
   "cell_type": "markdown",
   "metadata": {},
   "source": [
    "#### Restaurar valores ausentes em `total_income`"
   ]
  },
  {
   "cell_type": "markdown",
   "metadata": {},
   "source": [
    "Precisamos corrigir os valores em **total_income** e **days_employed.**"
   ]
  },
  {
   "cell_type": "code",
   "execution_count": 288,
   "metadata": {},
   "outputs": [],
   "source": [
    "# Vamos escrever uma função que calcule a categoria de idade\n",
    "# para esta função vamos separar em 3 grupos: jovens, adultos e idosos\n",
    "df['dob_years'].value_counts()\n",
    "\n",
    "def age_group(age):\n",
    "    if age <= 19:\n",
    "        return 'young'\n",
    "    if age <= 59:\n",
    "        return 'adult'\n",
    "    return 'elderly' "
   ]
  },
  {
   "cell_type": "code",
   "execution_count": 289,
   "metadata": {},
   "outputs": [
    {
     "data": {
      "text/plain": [
       "'young'"
      ]
     },
     "execution_count": 289,
     "metadata": {},
     "output_type": "execute_result"
    }
   ],
   "source": [
    "# Testando se a função funciona\n",
    "age_group(18)"
   ]
  },
  {
   "cell_type": "code",
   "execution_count": 290,
   "metadata": {},
   "outputs": [],
   "source": [
    "# vamos criar uma coluna nova com base na função\n",
    "\n",
    "df['age_group'] = df['dob_years'].apply(age_group)"
   ]
  },
  {
   "cell_type": "code",
   "execution_count": 291,
   "metadata": {},
   "outputs": [
    {
     "data": {
      "text/plain": [
       "adult      18940\n",
       "elderly     2500\n",
       "young         14\n",
       "Name: age_group, dtype: int64"
      ]
     },
     "execution_count": 291,
     "metadata": {},
     "output_type": "execute_result"
    }
   ],
   "source": [
    "# Verificação dos valores na nova coluna\n",
    "df['age_group'].value_counts()\n"
   ]
  },
  {
   "cell_type": "markdown",
   "metadata": {},
   "source": [
    "Vamos considerar neste caso que as fases da vida de cada pessoa interfere tanto no tempo de trabalho (days_employed) quanto na renda (total_income). Considerando que jovens quando conseguem seu primeiro emprego não tem um salário tão alto quanto de adultos formados e com experiencia de trabalho, e idosos geralmente já estão aposentados. Então vamos considerar as idades desses grupos para preencher os valores ausentes nestas colunas."
   ]
  },
  {
   "cell_type": "markdown",
   "metadata": {},
   "source": [
    "Vamos criar uma tabela que tenha apenas dados sem valores ausentes. Esses dados serão usados para restaurar os valores ausentes"
   ]
  },
  {
   "cell_type": "code",
   "execution_count": 292,
   "metadata": {},
   "outputs": [
    {
     "name": "stdout",
     "output_type": "stream",
     "text": [
      "(19351, 13)\n"
     ]
    },
    {
     "data": {
      "text/html": [
       "<div>\n",
       "<style scoped>\n",
       "    .dataframe tbody tr th:only-of-type {\n",
       "        vertical-align: middle;\n",
       "    }\n",
       "\n",
       "    .dataframe tbody tr th {\n",
       "        vertical-align: top;\n",
       "    }\n",
       "\n",
       "    .dataframe thead th {\n",
       "        text-align: right;\n",
       "    }\n",
       "</style>\n",
       "<table border=\"1\" class=\"dataframe\">\n",
       "  <thead>\n",
       "    <tr style=\"text-align: right;\">\n",
       "      <th></th>\n",
       "      <th>children</th>\n",
       "      <th>days_employed</th>\n",
       "      <th>dob_years</th>\n",
       "      <th>education</th>\n",
       "      <th>education_id</th>\n",
       "      <th>family_status</th>\n",
       "      <th>family_status_id</th>\n",
       "      <th>gender</th>\n",
       "      <th>income_type</th>\n",
       "      <th>debt</th>\n",
       "      <th>total_income</th>\n",
       "      <th>purpose</th>\n",
       "      <th>age_group</th>\n",
       "    </tr>\n",
       "  </thead>\n",
       "  <tbody>\n",
       "    <tr>\n",
       "      <th>0</th>\n",
       "      <td>1</td>\n",
       "      <td>351.569709</td>\n",
       "      <td>42.0</td>\n",
       "      <td>bachelor's degree</td>\n",
       "      <td>0</td>\n",
       "      <td>married</td>\n",
       "      <td>0</td>\n",
       "      <td>F</td>\n",
       "      <td>employee</td>\n",
       "      <td>0</td>\n",
       "      <td>40620.102</td>\n",
       "      <td>purchase of the house</td>\n",
       "      <td>adult</td>\n",
       "    </tr>\n",
       "    <tr>\n",
       "      <th>1</th>\n",
       "      <td>1</td>\n",
       "      <td>167.700156</td>\n",
       "      <td>36.0</td>\n",
       "      <td>secondary education</td>\n",
       "      <td>1</td>\n",
       "      <td>married</td>\n",
       "      <td>0</td>\n",
       "      <td>F</td>\n",
       "      <td>employee</td>\n",
       "      <td>0</td>\n",
       "      <td>17932.802</td>\n",
       "      <td>car purchase</td>\n",
       "      <td>adult</td>\n",
       "    </tr>\n",
       "    <tr>\n",
       "      <th>2</th>\n",
       "      <td>0</td>\n",
       "      <td>234.309275</td>\n",
       "      <td>33.0</td>\n",
       "      <td>secondary education</td>\n",
       "      <td>1</td>\n",
       "      <td>married</td>\n",
       "      <td>0</td>\n",
       "      <td>M</td>\n",
       "      <td>employee</td>\n",
       "      <td>0</td>\n",
       "      <td>23341.752</td>\n",
       "      <td>purchase of the house</td>\n",
       "      <td>adult</td>\n",
       "    </tr>\n",
       "    <tr>\n",
       "      <th>3</th>\n",
       "      <td>3</td>\n",
       "      <td>171.864467</td>\n",
       "      <td>32.0</td>\n",
       "      <td>secondary education</td>\n",
       "      <td>1</td>\n",
       "      <td>married</td>\n",
       "      <td>0</td>\n",
       "      <td>M</td>\n",
       "      <td>employee</td>\n",
       "      <td>0</td>\n",
       "      <td>42820.568</td>\n",
       "      <td>supplementary education</td>\n",
       "      <td>adult</td>\n",
       "    </tr>\n",
       "    <tr>\n",
       "      <th>4</th>\n",
       "      <td>0</td>\n",
       "      <td>14177.753002</td>\n",
       "      <td>53.0</td>\n",
       "      <td>secondary education</td>\n",
       "      <td>1</td>\n",
       "      <td>civil partnership</td>\n",
       "      <td>1</td>\n",
       "      <td>F</td>\n",
       "      <td>retiree</td>\n",
       "      <td>0</td>\n",
       "      <td>25378.572</td>\n",
       "      <td>to have a wedding</td>\n",
       "      <td>adult</td>\n",
       "    </tr>\n",
       "  </tbody>\n",
       "</table>\n",
       "</div>"
      ],
      "text/plain": [
       "   children  days_employed  dob_years            education  education_id  \\\n",
       "0         1     351.569709       42.0    bachelor's degree             0   \n",
       "1         1     167.700156       36.0  secondary education             1   \n",
       "2         0     234.309275       33.0  secondary education             1   \n",
       "3         3     171.864467       32.0  secondary education             1   \n",
       "4         0   14177.753002       53.0  secondary education             1   \n",
       "\n",
       "       family_status  family_status_id gender income_type  debt  total_income  \\\n",
       "0            married                 0      F    employee     0     40620.102   \n",
       "1            married                 0      F    employee     0     17932.802   \n",
       "2            married                 0      M    employee     0     23341.752   \n",
       "3            married                 0      M    employee     0     42820.568   \n",
       "4  civil partnership                 1      F     retiree     0     25378.572   \n",
       "\n",
       "                   purpose age_group  \n",
       "0    purchase of the house     adult  \n",
       "1             car purchase     adult  \n",
       "2    purchase of the house     adult  \n",
       "3  supplementary education     adult  \n",
       "4        to have a wedding     adult  "
      ]
     },
     "execution_count": 292,
     "metadata": {},
     "output_type": "execute_result"
    }
   ],
   "source": [
    "# tabela sem valores ausentes (df_notnull)\n",
    "df_notnull = df.dropna()\n",
    "print(df_notnull.shape) # tamanho da tabela (linhas,coluna)\n",
    "df_notnull.head() "
   ]
  },
  {
   "cell_type": "code",
   "execution_count": 293,
   "metadata": {},
   "outputs": [
    {
     "name": "stdout",
     "output_type": "stream",
     "text": [
      "age_group\n",
      "adult      27292.133454\n",
      "elderly    23021.639994\n",
      "young      16993.942462\n",
      "Name: total_income, dtype: float64\n",
      "---------------------\n",
      "count       13.000000\n",
      "mean     16993.942462\n",
      "std       5567.118012\n",
      "min       9459.851000\n",
      "25%      12929.944000\n",
      "50%      14934.901000\n",
      "75%      21009.404000\n",
      "max      26753.823000\n",
      "Name: total_income, dtype: float64\n",
      "---------------------\n",
      "count     17083.000000\n",
      "mean      27292.133454\n",
      "std       16608.577732\n",
      "min        3306.762000\n",
      "25%       16884.713000\n",
      "50%       23655.940000\n",
      "75%       33147.920000\n",
      "max      362496.645000\n",
      "Name: total_income, dtype: float64\n",
      "---------------------\n",
      "count      2255.000000\n",
      "mean      23021.639994\n",
      "std       14930.221646\n",
      "min        3471.216000\n",
      "25%       13725.605500\n",
      "50%       19761.425000\n",
      "75%       27953.500500\n",
      "max      274402.943000\n",
      "Name: total_income, dtype: float64\n"
     ]
    }
   ],
   "source": [
    "# Vejamos os valores médios de renda com base em seus fatores identificados\n",
    "mean = df_notnull.groupby('age_group')['total_income'].mean() # agrupando por idade, a média para cada uma em total_income\n",
    "print(mean) \n",
    "print('---------------------')\n",
    "print(df_notnull[df_notnull['age_group'] == 'young']['total_income'].describe()) #só de curiosidade vamos olhar separadamente jovens\n",
    "print('---------------------')\n",
    "print(df_notnull[df_notnull['age_group'] == 'adult']['total_income'].describe()) #só de curiosidade vamos olhar separadamente adultos\n",
    "print('---------------------')\n",
    "print(df_notnull[df_notnull['age_group'] == 'elderly']['total_income'].describe()) #só de curiosidade vamos olhar separadamente idosos"
   ]
  },
  {
   "cell_type": "code",
   "execution_count": 294,
   "metadata": {
    "scrolled": true
   },
   "outputs": [
    {
     "name": "stdout",
     "output_type": "stream",
     "text": [
      "age_group\n",
      "adult      23655.940\n",
      "elderly    19761.425\n",
      "young      14934.901\n",
      "Name: total_income, dtype: float64\n"
     ]
    }
   ],
   "source": [
    "# Vejamos os valores medianos de renda com base em seus fatores identificados\n",
    "median = df_notnull.groupby('age_group')['total_income'].median() # agrupando novamente pelas idades,a mediana de cada grupo de idade\n",
    "print(median)"
   ]
  },
  {
   "cell_type": "markdown",
   "metadata": {},
   "source": [
    "As médias tem valores mais altas que as medianas. Mediana é menos sensível a outliers"
   ]
  },
  {
   "cell_type": "markdown",
   "metadata": {},
   "source": [
    "Neste caso vamos utilizar as medianas pois eles presentam melhor os valores da maioria dos clientes. Já que existem valores máximos muito acima da média acreditamos que a mediana deixara os dados mais próximo da realidade de renda destes clientes."
   ]
  },
  {
   "cell_type": "code",
   "execution_count": 295,
   "metadata": {},
   "outputs": [],
   "source": [
    "# Escrevendo uma função que usaremos para preencher os valores ausentes\n",
    "def fill_na_median(row,median): \n",
    "    if not pd.notnull(row['total_income']):\n",
    "        if row['age_group'] == 'young':\n",
    "            row['total_income'] = median['young']\n",
    "            return row\n",
    "        if row['age_group'] == 'adult':\n",
    "            row['total_income'] = median['adult']\n",
    "            return row\n",
    "        row['total_income'] = median['elderly']\n",
    "    return row"
   ]
  },
  {
   "cell_type": "code",
   "execution_count": 296,
   "metadata": {},
   "outputs": [
    {
     "name": "stderr",
     "output_type": "stream",
     "text": [
      "<ipython-input-295-cdd6b6ffc3fe>:8: SettingWithCopyWarning: \n",
      "A value is trying to be set on a copy of a slice from a DataFrame\n",
      "\n",
      "See the caveats in the documentation: https://pandas.pydata.org/pandas-docs/stable/user_guide/indexing.html#returning-a-view-versus-a-copy\n",
      "  row['total_income'] = median['adult']\n"
     ]
    },
    {
     "data": {
      "text/plain": [
       "children                              0\n",
       "days_employed                       NaN\n",
       "dob_years                          41.0\n",
       "education           secondary education\n",
       "education_id                          1\n",
       "family_status                   married\n",
       "family_status_id                      0\n",
       "gender                                M\n",
       "income_type               civil servant\n",
       "debt                                  0\n",
       "total_income                   23655.94\n",
       "purpose                       education\n",
       "age_group                         adult\n",
       "Name: 26, dtype: object"
      ]
     },
     "execution_count": 296,
     "metadata": {},
     "output_type": "execute_result"
    }
   ],
   "source": [
    "fill_na_median(df.iloc[26],median)  #escolhi uma linha que tem valor ausente na coluna total_income para testar"
   ]
  },
  {
   "cell_type": "code",
   "execution_count": 297,
   "metadata": {},
   "outputs": [
    {
     "name": "stderr",
     "output_type": "stream",
     "text": [
      "<ipython-input-295-cdd6b6ffc3fe>:10: SettingWithCopyWarning: \n",
      "A value is trying to be set on a copy of a slice from a DataFrame\n",
      "\n",
      "See the caveats in the documentation: https://pandas.pydata.org/pandas-docs/stable/user_guide/indexing.html#returning-a-view-versus-a-copy\n",
      "  row['total_income'] = median['elderly']\n"
     ]
    },
    {
     "data": {
      "text/plain": [
       "children                              0\n",
       "days_employed                       NaN\n",
       "dob_years                          65.0\n",
       "education           secondary education\n",
       "education_id                          1\n",
       "family_status         civil partnership\n",
       "family_status_id                      1\n",
       "gender                                M\n",
       "income_type                     retiree\n",
       "debt                                  0\n",
       "total_income                  19761.425\n",
       "purpose               to have a wedding\n",
       "age_group                       elderly\n",
       "Name: 12, dtype: object"
      ]
     },
     "execution_count": 297,
     "metadata": {},
     "output_type": "execute_result"
    }
   ],
   "source": [
    "fill_na_median(df.loc[12],median)  # testando outra linha com dado ausente agora para elderly"
   ]
  },
  {
   "cell_type": "code",
   "execution_count": 298,
   "metadata": {},
   "outputs": [
    {
     "data": {
      "text/plain": [
       "23655.940    1858\n",
       "19761.425     246\n",
       "31791.384       2\n",
       "42413.096       2\n",
       "14934.901       2\n",
       "             ... \n",
       "23686.835       1\n",
       "9606.294        1\n",
       "28156.762       1\n",
       "24931.195       1\n",
       "13127.587       1\n",
       "Name: total_income, Length: 19348, dtype: int64"
      ]
     },
     "execution_count": 298,
     "metadata": {},
     "output_type": "execute_result"
    }
   ],
   "source": [
    "df['total_income']= df['total_income'].fillna(df.groupby('age_group')['total_income'].transform('median'))\n",
    "# https://stackoverflow.com/questions/19966018/pandas-filling-missing-values-by-mean-in-each-group\n",
    "df['total_income'].value_counts() #checando valores"
   ]
  },
  {
   "cell_type": "code",
   "execution_count": 299,
   "metadata": {
    "scrolled": true
   },
   "outputs": [
    {
     "name": "stdout",
     "output_type": "stream",
     "text": [
      "children                              0\n",
      "days_employed                       NaN\n",
      "dob_years                          41.0\n",
      "education           secondary education\n",
      "education_id                          1\n",
      "family_status                   married\n",
      "family_status_id                      0\n",
      "gender                                M\n",
      "income_type               civil servant\n",
      "debt                                  0\n",
      "total_income                   23655.94\n",
      "purpose                       education\n",
      "age_group                         adult\n",
      "Name: 26, dtype: object\n"
     ]
    },
    {
     "data": {
      "text/plain": [
       "0"
      ]
     },
     "execution_count": 299,
     "metadata": {},
     "output_type": "execute_result"
    }
   ],
   "source": [
    "# Verificando se temos algum erro\n",
    "print(df.iloc[26]) # essa linha foi preenchida corretamente\n",
    "df['total_income'].isna().sum() # somando todos os valores NaN se ainda existirem, como o valor é 0 significa que todos foram preenchidos"
   ]
  },
  {
   "cell_type": "markdown",
   "metadata": {},
   "source": [
    "Agora que terminamos com `total_income`, vamos verificar se o número total de valores nesta coluna corresponde ao número de valores em outras."
   ]
  },
  {
   "cell_type": "code",
   "execution_count": 300,
   "metadata": {},
   "outputs": [
    {
     "data": {
      "text/plain": [
       "children            21454\n",
       "days_employed       19351\n",
       "dob_years           21454\n",
       "education           21454\n",
       "education_id        21454\n",
       "family_status       21454\n",
       "family_status_id    21454\n",
       "gender              21454\n",
       "income_type         21454\n",
       "debt                21454\n",
       "total_income        21454\n",
       "purpose             21454\n",
       "age_group           21454\n",
       "dtype: int64"
      ]
     },
     "execution_count": 300,
     "metadata": {},
     "output_type": "execute_result"
    }
   ],
   "source": [
    "# Verificar o número de entradas nas colunas\n",
    "df.count()"
   ]
  },
  {
   "cell_type": "markdown",
   "metadata": {},
   "source": [
    "####  Restaurar valores em `days_employed`"
   ]
  },
  {
   "cell_type": "markdown",
   "metadata": {},
   "source": [
    "Vamos seguir a mesma linha de raciocínio utilizado na coluna anterior"
   ]
  },
  {
   "cell_type": "code",
   "execution_count": 301,
   "metadata": {
    "pycharm": {
     "name": "#%%\n"
    }
   },
   "outputs": [
    {
     "name": "stdout",
     "output_type": "stream",
     "text": [
      "age_group\n",
      "adult         77.546588\n",
      "elderly    14801.234092\n",
      "young         30.187192\n",
      "Name: days_employed, dtype: float64\n",
      "count    13.000000\n",
      "mean     26.403254\n",
      "std      12.326602\n",
      "min       4.656783\n",
      "25%      21.248747\n",
      "50%      30.187192\n",
      "75%      33.207651\n",
      "max      42.507630\n",
      "Name: days_employed, dtype: float64\n",
      "---------------------\n",
      "count    17083.000000\n",
      "mean      1582.229989\n",
      "std       4507.950762\n",
      "min          1.005901\n",
      "25%         34.830871\n",
      "50%         77.546588\n",
      "75%        164.624878\n",
      "max      16739.808353\n",
      "Name: days_employed, dtype: float64\n",
      "---------------------\n",
      "count     2255.000000\n",
      "mean     11939.339310\n",
      "std       6263.726617\n",
      "min          4.179559\n",
      "25%      13851.418287\n",
      "50%      14801.234092\n",
      "75%      15742.537523\n",
      "max      16738.158823\n",
      "Name: days_employed, dtype: float64\n"
     ]
    }
   ],
   "source": [
    "# Distribuição de `days_employed` medianos com base em seus parâmetros identificados\n",
    "median_days = df_notnull.groupby('age_group')['days_employed'].median()\n",
    "print(median_days)\n",
    "print(df_notnull[df_notnull['age_group'] == 'young']['days_employed'].describe()) #só de curiosidade vamos olhar separadamente jovens\n",
    "print('---------------------')\n",
    "print(df_notnull[df_notnull['age_group'] == 'adult']['days_employed'].describe()) #só de curiosidade vamos olhar separadamente adultos\n",
    "print('---------------------')\n",
    "print(df_notnull[df_notnull['age_group'] == 'elderly']['days_employed'].describe()) #só de curiosidade vamos olhar separadamente idosos"
   ]
  },
  {
   "cell_type": "code",
   "execution_count": 302,
   "metadata": {},
   "outputs": [
    {
     "name": "stdout",
     "output_type": "stream",
     "text": [
      "age_group\n",
      "adult       1582.229989\n",
      "elderly    11939.339310\n",
      "young         26.403254\n",
      "Name: days_employed, dtype: float64\n"
     ]
    }
   ],
   "source": [
    "# Distribuição de `days_employed` médios com base em seus parâmetros identificados\n",
    "mean_days = df_notnull.groupby('age_group')['days_employed'].mean()\n",
    "print(mean_days)"
   ]
  },
  {
   "cell_type": "markdown",
   "metadata": {},
   "source": [
    "Neste caso, usaremos os valores da média pois eles fazem mais sentido para o grupo de adultos"
   ]
  },
  {
   "cell_type": "code",
   "execution_count": 303,
   "metadata": {},
   "outputs": [],
   "source": [
    "# Vamos escrever uma função que calcule médias com base no seu parâmetro identificado\n",
    "def fill_na_mean(row,mean):\n",
    "    if not pd.notnull(row['days_employed']):\n",
    "        if row['age_group'] == 'young':\n",
    "            row['days_employed'] = mean['young']\n",
    "            return row\n",
    "        if row['age_group'] == 'adult':\n",
    "            row['days_employed'] = mean['adult']\n",
    "            return row\n",
    "        row['days_employed'] = mean['elderly']\n",
    "    return row"
   ]
  },
  {
   "cell_type": "code",
   "execution_count": 304,
   "metadata": {},
   "outputs": [
    {
     "name": "stderr",
     "output_type": "stream",
     "text": [
      "<ipython-input-303-ce2ec7bb7797>:8: SettingWithCopyWarning: \n",
      "A value is trying to be set on a copy of a slice from a DataFrame\n",
      "\n",
      "See the caveats in the documentation: https://pandas.pydata.org/pandas-docs/stable/user_guide/indexing.html#returning-a-view-versus-a-copy\n",
      "  row['days_employed'] = mean['adult']\n"
     ]
    },
    {
     "data": {
      "text/plain": [
       "children                              0\n",
       "days_employed               1582.229989\n",
       "dob_years                          41.0\n",
       "education           secondary education\n",
       "education_id                          1\n",
       "family_status                   married\n",
       "family_status_id                      0\n",
       "gender                                M\n",
       "income_type               civil servant\n",
       "debt                                  0\n",
       "total_income                   23655.94\n",
       "purpose                       education\n",
       "age_group                         adult\n",
       "Name: 26, dtype: object"
      ]
     },
     "execution_count": 304,
     "metadata": {},
     "output_type": "execute_result"
    }
   ],
   "source": [
    "# Verifique se a função funciona \n",
    "fill_na_mean(df.loc[26],mean_days) #testando em uma linha com valor nulo"
   ]
  },
  {
   "cell_type": "code",
   "execution_count": 305,
   "metadata": {},
   "outputs": [],
   "source": [
    "# Aplicando a função ao days_employed --- aplicando para todas as linhas\n",
    "df['days_employed'] = df['days_employed'].fillna(df.groupby('age_group')['days_employed'].transform('mean'))"
   ]
  },
  {
   "cell_type": "code",
   "execution_count": 306,
   "metadata": {},
   "outputs": [
    {
     "name": "stdout",
     "output_type": "stream",
     "text": [
      "children                              0\n",
      "days_employed               11939.33931\n",
      "dob_years                          65.0\n",
      "education           secondary education\n",
      "education_id                          1\n",
      "family_status         civil partnership\n",
      "family_status_id                      1\n",
      "gender                                M\n",
      "income_type                     retiree\n",
      "debt                                  0\n",
      "total_income                  19761.425\n",
      "purpose               to have a wedding\n",
      "age_group                       elderly\n",
      "Name: 12, dtype: object\n"
     ]
    },
    {
     "data": {
      "text/plain": [
       "0"
      ]
     },
     "execution_count": 306,
     "metadata": {},
     "output_type": "execute_result"
    }
   ],
   "source": [
    "print(df.iloc[12])\n",
    "df['days_employed'].isna().sum()  # foi preenchido para todas as linhas"
   ]
  },
  {
   "cell_type": "markdown",
   "metadata": {},
   "source": [
    "Verificando se o número total de valores nesta coluna corresponde ao número de valores em outras."
   ]
  },
  {
   "cell_type": "code",
   "execution_count": 307,
   "metadata": {},
   "outputs": [
    {
     "name": "stdout",
     "output_type": "stream",
     "text": [
      "<class 'pandas.core.frame.DataFrame'>\n",
      "RangeIndex: 21454 entries, 0 to 21453\n",
      "Data columns (total 13 columns):\n",
      " #   Column            Non-Null Count  Dtype  \n",
      "---  ------            --------------  -----  \n",
      " 0   children          21454 non-null  int64  \n",
      " 1   days_employed     21454 non-null  float64\n",
      " 2   dob_years         21454 non-null  float64\n",
      " 3   education         21454 non-null  object \n",
      " 4   education_id      21454 non-null  int64  \n",
      " 5   family_status     21454 non-null  object \n",
      " 6   family_status_id  21454 non-null  int64  \n",
      " 7   gender            21454 non-null  object \n",
      " 8   income_type       21454 non-null  object \n",
      " 9   debt              21454 non-null  int64  \n",
      " 10  total_income      21454 non-null  float64\n",
      " 11  purpose           21454 non-null  object \n",
      " 12  age_group         21454 non-null  object \n",
      "dtypes: float64(3), int64(4), object(6)\n",
      "memory usage: 2.1+ MB\n"
     ]
    }
   ],
   "source": [
    "# Verificando as entradas em todas as colunas\n",
    "df.info()"
   ]
  },
  {
   "cell_type": "markdown",
   "metadata": {},
   "source": [
    "## Categorização de dados <a id=categorizando><a/>\n",
    "\n",
    "Agora que os dados estão prontos para a análise vamos visualizar os valores das colunas principais, como precisaremos descobrir se o estado civil de um cliente e o número de filhos têm impacto sobre a inadimplência de um empréstimo. Valos olhar para as colunas do estado civil `family_status`, número de filhos `children` e se o cliente ja deveu emprestimos `debt`."
   ]
  },
  {
   "cell_type": "code",
   "execution_count": 308,
   "metadata": {
    "scrolled": true
   },
   "outputs": [
    {
     "name": "stdout",
     "output_type": "stream",
     "text": [
      "0    14138\n",
      "1     4808\n",
      "2     2128\n",
      "3      330\n",
      "4       41\n",
      "5        9\n",
      "Name: children, dtype: int64\n",
      "-----------------------------\n",
      "married              12339\n",
      "civil partnership     4151\n",
      "unmarried             2810\n",
      "divorced              1195\n",
      "widow / widower        959\n",
      "Name: family_status, dtype: int64\n",
      "-----------------------------\n",
      "0    12339\n",
      "1     4151\n",
      "4     2810\n",
      "3     1195\n",
      "2      959\n",
      "Name: family_status_id, dtype: int64\n",
      "-----------------------------\n",
      "0    19713\n",
      "1     1741\n",
      "Name: debt, dtype: int64\n",
      "-----------------------------\n"
     ]
    }
   ],
   "source": [
    "# Exiba os valores dos dados selecionados para categorização\n",
    "print(df['children'].value_counts()) #valores para quantidade de filhos\n",
    "print('-----------------------------')\n",
    "print(df['family_status'].value_counts())# estado civil\n",
    "print('-----------------------------')\n",
    "print(df['family_status_id'].value_counts())# id estado civil\n",
    "print('-----------------------------')\n",
    "print(df['debt'].value_counts()) # devedores \n",
    "print('-----------------------------')"
   ]
  },
  {
   "cell_type": "markdown",
   "metadata": {},
   "source": [
    "No caso de Children temos de 0 a 5, estado civil esta dividido em 5 tipos e debitos esta com 0 (0 nao deve) ou 1 (deve)"
   ]
  },
  {
   "cell_type": "markdown",
   "metadata": {},
   "source": [
    "Pensando nos tipos de status familiar podemos juntar os casados e morando juntos em uma mesma categoria que seria em um relacionamento (logo provavelmente eles dividem as contas) e os outros permanecem com os mesmos status"
   ]
  },
  {
   "cell_type": "code",
   "execution_count": 309,
   "metadata": {},
   "outputs": [],
   "source": [
    "# Vamos escrever uma função para categorizar os dados com base em tópicos comuns\n",
    "def relationship(v):\n",
    "    return 'with_relationship' if v == 'married' or v == 'civil partnership' else v\n"
   ]
  },
  {
   "cell_type": "code",
   "execution_count": 310,
   "metadata": {},
   "outputs": [
    {
     "name": "stdout",
     "output_type": "stream",
     "text": [
      "with_relationship    16490\n",
      "unmarried             2810\n",
      "divorced              1195\n",
      "widow / widower        959\n",
      "Name: relationship, dtype: int64\n",
      "with_relationship    76.862124\n",
      "unmarried            13.097791\n",
      "divorced              5.570057\n",
      "widow / widower       4.470029\n",
      "Name: relationship, dtype: float64\n"
     ]
    }
   ],
   "source": [
    "# Criando uma coluna com a categoria e contando os valores para elas\n",
    "df['relationship'] = df['family_status'].apply(relationship)\n",
    "print(df['relationship'].value_counts()) # quantidade de pessoas para cada valor\n",
    "\n",
    "relationship_statistics = df['relationship'].value_counts()*100/df['relationship'].count()\n",
    "print(relationship_statistics) # 76.8% estão em um relacionamento\n"
   ]
  },
  {
   "cell_type": "markdown",
   "metadata": {},
   "source": [
    "Agora vamos olhar para a coluna children"
   ]
  },
  {
   "cell_type": "code",
   "execution_count": 311,
   "metadata": {},
   "outputs": [
    {
     "name": "stdout",
     "output_type": "stream",
     "text": [
      "           children\n",
      "count  21454.000000\n",
      "mean       0.478372\n",
      "std        0.756009\n",
      "min        0.000000\n",
      "25%        0.000000\n",
      "50%        0.000000\n",
      "75%        1.000000\n",
      "max        5.000000\n"
     ]
    }
   ],
   "source": [
    "# Examinando os dados\n",
    "children = pd.DataFrame(df['children'].describe())\n",
    "print(children)"
   ]
  },
  {
   "cell_type": "code",
   "execution_count": 312,
   "metadata": {},
   "outputs": [
    {
     "name": "stdout",
     "output_type": "stream",
     "text": [
      "0    65.899133\n",
      "1    22.410739\n",
      "2     9.918896\n",
      "3     1.538175\n",
      "4     0.191107\n",
      "5     0.041950\n",
      "Name: children, dtype: float64\n"
     ]
    }
   ],
   "source": [
    "# Obtendo estatísticas resumidas para a coluna\n",
    "children_statistics = df['children'].value_counts()*100/df['children'].count()\n",
    "print(children_statistics) # 65,8%  não tem filhos"
   ]
  },
  {
   "cell_type": "markdown",
   "metadata": {},
   "source": [
    "Podemos criar uma coluna nova com base na coluna children, onde podemos dizer se o cliente tem filhos ou não tem filhos, no caso se for 0 NÃO TEM se for 1 TEM."
   ]
  },
  {
   "cell_type": "code",
   "execution_count": 313,
   "metadata": {},
   "outputs": [],
   "source": [
    "# Criando uma função para categorização da coluna tem filhos (has children)\n",
    "def children(c):\n",
    "    return 1 if c>0 else 0"
   ]
  },
  {
   "cell_type": "code",
   "execution_count": 314,
   "metadata": {},
   "outputs": [],
   "source": [
    "# Criando a coluna com a categoria\n",
    "df['has_children'] = df['children'].apply(children)"
   ]
  },
  {
   "cell_type": "code",
   "execution_count": 315,
   "metadata": {
    "scrolled": true
   },
   "outputs": [
    {
     "data": {
      "text/plain": [
       "0    14138\n",
       "1     7316\n",
       "Name: has_children, dtype: int64"
      ]
     },
     "execution_count": 315,
     "metadata": {},
     "output_type": "execute_result"
    }
   ],
   "source": [
    "# Contando os valores de cada categoria para ver a distribuição\n",
    "df['has_children'].value_counts()"
   ]
  },
  {
   "cell_type": "code",
   "execution_count": 316,
   "metadata": {},
   "outputs": [
    {
     "data": {
      "text/html": [
       "<div>\n",
       "<style scoped>\n",
       "    .dataframe tbody tr th:only-of-type {\n",
       "        vertical-align: middle;\n",
       "    }\n",
       "\n",
       "    .dataframe tbody tr th {\n",
       "        vertical-align: top;\n",
       "    }\n",
       "\n",
       "    .dataframe thead th {\n",
       "        text-align: right;\n",
       "    }\n",
       "</style>\n",
       "<table border=\"1\" class=\"dataframe\">\n",
       "  <thead>\n",
       "    <tr style=\"text-align: right;\">\n",
       "      <th></th>\n",
       "      <th>children</th>\n",
       "      <th>days_employed</th>\n",
       "      <th>dob_years</th>\n",
       "      <th>education</th>\n",
       "      <th>education_id</th>\n",
       "      <th>family_status</th>\n",
       "      <th>family_status_id</th>\n",
       "      <th>gender</th>\n",
       "      <th>income_type</th>\n",
       "      <th>debt</th>\n",
       "      <th>total_income</th>\n",
       "      <th>purpose</th>\n",
       "      <th>age_group</th>\n",
       "      <th>relationship</th>\n",
       "      <th>has_children</th>\n",
       "    </tr>\n",
       "  </thead>\n",
       "  <tbody>\n",
       "    <tr>\n",
       "      <th>0</th>\n",
       "      <td>1</td>\n",
       "      <td>351.569709</td>\n",
       "      <td>42.0</td>\n",
       "      <td>bachelor's degree</td>\n",
       "      <td>0</td>\n",
       "      <td>married</td>\n",
       "      <td>0</td>\n",
       "      <td>F</td>\n",
       "      <td>employee</td>\n",
       "      <td>0</td>\n",
       "      <td>40620.102</td>\n",
       "      <td>purchase of the house</td>\n",
       "      <td>adult</td>\n",
       "      <td>with_relationship</td>\n",
       "      <td>1</td>\n",
       "    </tr>\n",
       "    <tr>\n",
       "      <th>1</th>\n",
       "      <td>1</td>\n",
       "      <td>167.700156</td>\n",
       "      <td>36.0</td>\n",
       "      <td>secondary education</td>\n",
       "      <td>1</td>\n",
       "      <td>married</td>\n",
       "      <td>0</td>\n",
       "      <td>F</td>\n",
       "      <td>employee</td>\n",
       "      <td>0</td>\n",
       "      <td>17932.802</td>\n",
       "      <td>car purchase</td>\n",
       "      <td>adult</td>\n",
       "      <td>with_relationship</td>\n",
       "      <td>1</td>\n",
       "    </tr>\n",
       "    <tr>\n",
       "      <th>2</th>\n",
       "      <td>0</td>\n",
       "      <td>234.309275</td>\n",
       "      <td>33.0</td>\n",
       "      <td>secondary education</td>\n",
       "      <td>1</td>\n",
       "      <td>married</td>\n",
       "      <td>0</td>\n",
       "      <td>M</td>\n",
       "      <td>employee</td>\n",
       "      <td>0</td>\n",
       "      <td>23341.752</td>\n",
       "      <td>purchase of the house</td>\n",
       "      <td>adult</td>\n",
       "      <td>with_relationship</td>\n",
       "      <td>0</td>\n",
       "    </tr>\n",
       "    <tr>\n",
       "      <th>3</th>\n",
       "      <td>3</td>\n",
       "      <td>171.864467</td>\n",
       "      <td>32.0</td>\n",
       "      <td>secondary education</td>\n",
       "      <td>1</td>\n",
       "      <td>married</td>\n",
       "      <td>0</td>\n",
       "      <td>M</td>\n",
       "      <td>employee</td>\n",
       "      <td>0</td>\n",
       "      <td>42820.568</td>\n",
       "      <td>supplementary education</td>\n",
       "      <td>adult</td>\n",
       "      <td>with_relationship</td>\n",
       "      <td>1</td>\n",
       "    </tr>\n",
       "    <tr>\n",
       "      <th>4</th>\n",
       "      <td>0</td>\n",
       "      <td>14177.753002</td>\n",
       "      <td>53.0</td>\n",
       "      <td>secondary education</td>\n",
       "      <td>1</td>\n",
       "      <td>civil partnership</td>\n",
       "      <td>1</td>\n",
       "      <td>F</td>\n",
       "      <td>retiree</td>\n",
       "      <td>0</td>\n",
       "      <td>25378.572</td>\n",
       "      <td>to have a wedding</td>\n",
       "      <td>adult</td>\n",
       "      <td>with_relationship</td>\n",
       "      <td>0</td>\n",
       "    </tr>\n",
       "  </tbody>\n",
       "</table>\n",
       "</div>"
      ],
      "text/plain": [
       "   children  days_employed  dob_years            education  education_id  \\\n",
       "0         1     351.569709       42.0    bachelor's degree             0   \n",
       "1         1     167.700156       36.0  secondary education             1   \n",
       "2         0     234.309275       33.0  secondary education             1   \n",
       "3         3     171.864467       32.0  secondary education             1   \n",
       "4         0   14177.753002       53.0  secondary education             1   \n",
       "\n",
       "       family_status  family_status_id gender income_type  debt  total_income  \\\n",
       "0            married                 0      F    employee     0     40620.102   \n",
       "1            married                 0      F    employee     0     17932.802   \n",
       "2            married                 0      M    employee     0     23341.752   \n",
       "3            married                 0      M    employee     0     42820.568   \n",
       "4  civil partnership                 1      F     retiree     0     25378.572   \n",
       "\n",
       "                   purpose age_group       relationship  has_children  \n",
       "0    purchase of the house     adult  with_relationship             1  \n",
       "1             car purchase     adult  with_relationship             1  \n",
       "2    purchase of the house     adult  with_relationship             0  \n",
       "3  supplementary education     adult  with_relationship             1  \n",
       "4        to have a wedding     adult  with_relationship             0  "
      ]
     },
     "execution_count": 316,
     "metadata": {},
     "output_type": "execute_result"
    }
   ],
   "source": [
    "# verificando o df\n",
    "df.head()"
   ]
  },
  {
   "cell_type": "markdown",
   "metadata": {},
   "source": [
    "Agora que o df está pronto e temos novas colunas com categorias podemos verificar as hipóteses"
   ]
  },
  {
   "cell_type": "markdown",
   "metadata": {},
   "source": [
    "## Verificando as Hipóteses <a id='hipoteses'><a/>\n"
   ]
  },
  {
   "cell_type": "markdown",
   "metadata": {},
   "source": [
    "**Existe uma correlação entre o número de filhos e do pagamento em dia?**"
   ]
  },
  {
   "cell_type": "code",
   "execution_count": 317,
   "metadata": {},
   "outputs": [
    {
     "name": "stdout",
     "output_type": "stream",
     "text": [
      "has_children  debt\n",
      "0             0       0.924742\n",
      "              1       0.075258\n",
      "1             0       0.907463\n",
      "              1       0.092537\n",
      "Name: debt, dtype: float64\n"
     ]
    }
   ],
   "source": [
    "# Verificando os dados se tem crianças e do pagamento em dia\n",
    "print(df.groupby('has_children')['debt'].value_counts(normalize=True))"
   ]
  },
  {
   "cell_type": "markdown",
   "metadata": {},
   "source": [
    "Aqui esta mostrando que clientes sem filhos tem 2 pontos percentuais a mais de chances de pagar em dia do que clientes com filhos."
   ]
  },
  {
   "cell_type": "code",
   "execution_count": 318,
   "metadata": {},
   "outputs": [
    {
     "name": "stdout",
     "output_type": "stream",
     "text": [
      "0    14138\n",
      "1     4808\n",
      "2     2128\n",
      "3      330\n",
      "4       41\n",
      "5        9\n",
      "Name: children, dtype: int64\n",
      "children  debt\n",
      "0         0       0.924742\n",
      "          1       0.075258\n",
      "1         0       0.907654\n",
      "          1       0.092346\n",
      "2         0       0.905075\n",
      "          1       0.094925\n",
      "3         0       0.918182\n",
      "          1       0.081818\n",
      "4         0       0.902439\n",
      "          1       0.097561\n",
      "5         0       1.000000\n",
      "Name: debt, dtype: float64\n"
     ]
    }
   ],
   "source": [
    "print(df['children'].value_counts())\n",
    "# Calculando a taxa de inadimplência com base no número de filhos\n",
    "print(df.groupby('children')['debt'].value_counts(normalize=True))"
   ]
  },
  {
   "cell_type": "markdown",
   "metadata": {},
   "source": [
    "Vamos fazer um teste estatístico para descobrir se a diferença percentual é significativa ou não na análise entre ter filhos ou não e pagar em dia."
   ]
  },
  {
   "cell_type": "code",
   "execution_count": 319,
   "metadata": {},
   "outputs": [],
   "source": [
    "has_children = df[df['has_children'] == 1]['debt'].values\n",
    "no_children = df[df['has_children'] == 0]['debt'].values"
   ]
  },
  {
   "cell_type": "markdown",
   "metadata": {},
   "source": [
    "**Hipóteses:**\n",
    "\n",
    "**1) Hipótese nula: Não existe valor estatístico relevante para considerar uma diferença na média de pessoas que tem filhos e tem dívida das pessoas que tem filhos e não tem dívida.**\n",
    "\n",
    "caso esta hipótese seja verdadeira: 'Nós não podemos rejeitar a hipótese nula'\n",
    "\n",
    "**2) Hipótese alternativa: Existe diferença estatística entre pessoas que tem filhos e não tem dívida.**\n",
    "\n",
    "caso esta hipótese seja verdadeira: 'Rejeitamos a hipótese nula'\n"
   ]
  },
  {
   "cell_type": "code",
   "execution_count": 320,
   "metadata": {},
   "outputs": [
    {
     "name": "stdout",
     "output_type": "stream",
     "text": [
      "p-value:  1.1110998973945563e-05\n",
      "Rejeitamos a hipótese nula\n"
     ]
    }
   ],
   "source": [
    "results = st.ttest_ind(\n",
    "has_children,\n",
    "no_children)\n",
    "\n",
    "print('p-value: ', results.pvalue)\n",
    "\n",
    "alpha = 0.05\n",
    "\n",
    "if results.pvalue < alpha:\n",
    "    print('Rejeitamos a hipótese nula')\n",
    "else:\n",
    "    print(\"Nós não podemos rejeitar a hipótese nula\")"
   ]
  },
  {
   "cell_type": "markdown",
   "metadata": {},
   "source": [
    "**Conclusão intermediária**\n",
    "\n",
    "A quantidade de filhos parece influenciar nas estatísticas, por isso, fizemos um ttest e foi encontrado uma diferença entre devedores que tem filhos e devedores que não tem filhos. Por tanto, indica que a pontuação de crédito para uma pessoa que tem filhos e deve ser diferente."
   ]
  },
  {
   "cell_type": "markdown",
   "metadata": {},
   "source": [
    "**Existe uma correlação entre o status familiar e o pagamento em dia?**"
   ]
  },
  {
   "cell_type": "code",
   "execution_count": 321,
   "metadata": {},
   "outputs": [
    {
     "name": "stdout",
     "output_type": "stream",
     "text": [
      "relationship       debt\n",
      "divorced           0       0.928870\n",
      "                   1       0.071130\n",
      "unmarried          0       0.902491\n",
      "                   1       0.097509\n",
      "widow / widower    0       0.934307\n",
      "                   1       0.065693\n",
      "with_relationship  0       0.920012\n",
      "                   1       0.079988\n",
      "Name: debt, dtype: float64\n",
      "family_status      debt\n",
      "civil partnership  0       0.906529\n",
      "                   1       0.093471\n",
      "divorced           0       0.928870\n",
      "                   1       0.071130\n",
      "married            0       0.924548\n",
      "                   1       0.075452\n",
      "unmarried          0       0.902491\n",
      "                   1       0.097509\n",
      "widow / widower    0       0.934307\n",
      "                   1       0.065693\n",
      "Name: debt, dtype: float64\n"
     ]
    }
   ],
   "source": [
    "# Verificando os dados de status da família e do pagamento em dia\n",
    "print(df.groupby('relationship')['debt'].value_counts(normalize=True))\n",
    "\n",
    "# Calculando a taxa padrão com base no status da família\n",
    "print(df.groupby('family_status')['debt'].value_counts(normalize=True))\n"
   ]
  },
  {
   "cell_type": "markdown",
   "metadata": {},
   "source": [
    "**Conclusão intermediária**\n",
    "\n",
    "Para os diferentes status familiar, podemos perceber que os melhores pagadores são os viuvos (widow / widower). E os maiores devedores são unmarried e civil partnerhip, que tem taxas maiores (isso pode estar associado com pessoas mais jovens, por exemplo)"
   ]
  },
  {
   "cell_type": "markdown",
   "metadata": {},
   "source": [
    "**Existe uma correlação entre a renda do cliente e o pagamento em dia?**"
   ]
  },
  {
   "cell_type": "code",
   "execution_count": 322,
   "metadata": {},
   "outputs": [
    {
     "name": "stdout",
     "output_type": "stream",
     "text": [
      "count     21454.000000\n",
      "mean      26435.713612\n",
      "std       15688.437744\n",
      "min        3306.762000\n",
      "25%       17213.621250\n",
      "50%       23655.940000\n",
      "75%       31330.237250\n",
      "max      362496.645000\n",
      "Name: total_income, dtype: float64\n"
     ]
    },
    {
     "data": {
      "text/plain": [
       "Q3    5878\n",
       "Q4    5364\n",
       "Q1    5364\n",
       "Q2    4848\n",
       "Name: income_Q, dtype: int64"
      ]
     },
     "execution_count": 322,
     "metadata": {},
     "output_type": "execute_result"
    }
   ],
   "source": [
    "# Verificando os dados do nível de renda\n",
    "print(df['total_income'].describe())\n",
    "# vamos fazer uma função dividindo os clientes em 4 categorias, Q1 os de renda no valor de até 25%\n",
    "# Q2 de até 50%, Q3 de até 75% e Q4% acima de 75% até o valor máximo, com isso podemos dividir os clientes pelo nivel de renda\n",
    "def income(value):\n",
    "    income_cat = pd.DataFrame(df['total_income'].describe()).T\n",
    "    if value < income_cat['25%'].values:\n",
    "        return 'Q1'\n",
    "    elif value < income_cat['50%'].values:\n",
    "        return 'Q2'\n",
    "    elif value < income_cat['75%'].values:\n",
    "        return 'Q3'\n",
    "    else:\n",
    "        return 'Q4'\n",
    "# criando uma nova coluna com a categoria de renda dividida em Q1,Q2,Q3 e Q4.\n",
    "df['income_Q'] = df['total_income'].apply(income)\n",
    "df['income_Q'].value_counts()"
   ]
  },
  {
   "cell_type": "code",
   "execution_count": 323,
   "metadata": {},
   "outputs": [
    {
     "name": "stdout",
     "output_type": "stream",
     "text": [
      "income_Q  debt\n",
      "Q1        0       0.920395\n",
      "          1       0.079605\n",
      "Q2        0       0.914191\n",
      "          1       0.085809\n",
      "Q3        0       0.912385\n",
      "          1       0.087615\n",
      "Q4        0       0.928598\n",
      "          1       0.071402\n",
      "Name: debt, dtype: float64\n"
     ]
    }
   ],
   "source": [
    "# Calcular a taxa de inadimplência com base no nível de renda\n",
    "print(df.groupby('income_Q')['debt'].value_counts(normalize=True))"
   ]
  },
  {
   "cell_type": "markdown",
   "metadata": {},
   "source": [
    "**Conclusão intermediária**\n",
    "\n",
    "Para as diferentes rendas dos clientes, as taxas não diferem significativamente."
   ]
  },
  {
   "cell_type": "markdown",
   "metadata": {},
   "source": [
    "**Como a finalidade do crédito afeta a taxa de inadimplência?**"
   ]
  },
  {
   "cell_type": "code",
   "execution_count": 324,
   "metadata": {},
   "outputs": [
    {
     "name": "stdout",
     "output_type": "stream",
     "text": [
      "purpose                           debt\n",
      "building a property               0       0.912763\n",
      "                                  1       0.087237\n",
      "building a real estate            0       0.923077\n",
      "                                  1       0.076923\n",
      "buy commercial real estate        0       0.928896\n",
      "                                            ...   \n",
      "transactions with my real estate  1       0.079745\n",
      "university education              0       0.911504\n",
      "                                  1       0.088496\n",
      "wedding ceremony                  0       0.919090\n",
      "                                  1       0.080910\n",
      "Name: debt, Length: 76, dtype: float64\n",
      "motive category          debt\n",
      "car                      0       0.906410\n",
      "                         1       0.093590\n",
      "education                0       0.907800\n",
      "                         1       0.092200\n",
      "real estate transaction  0       0.927666\n",
      "                         1       0.072334\n",
      "wedding                  0       0.919966\n",
      "                         1       0.080034\n",
      "Name: debt, dtype: float64\n"
     ]
    }
   ],
   "source": [
    "# Conferindo os percentuais de inadimplência para cada finalidade de crédito\n",
    "# print(df['purpose'].str.contains('wedding').sum()) #descobrindo quantas linhas tem a palavra chave wedding\n",
    "print(df.groupby('purpose')['debt'].value_counts(normalize=True))\n",
    "\n",
    "def cat(x):\n",
    "    if 'wedding'in x:\n",
    "        return 'wedding'\n",
    "    if 'real estate' in x or 'housing' in x or 'house' in x or 'property' in x:\n",
    "        return 'real estate transaction'\n",
    "    if 'car' in x:\n",
    "        return 'car'\n",
    "    if 'education' in x or 'university' in x or 'educated' in x:\n",
    "        return 'education'\n",
    "    \n",
    "df['motive category'] = df['purpose'].apply(cat)\n",
    "print(df.groupby('motive category')['debt'].value_counts(normalize=True))"
   ]
  },
  {
   "cell_type": "markdown",
   "metadata": {},
   "source": [
    "**Conclusão intermediária**\n",
    "\n",
    "Os percentuais de inadimplência para os diferentes motivos dos emprestimos estão com uma diferença de até 3 pontos percentuais, no caso os motivos que ocorrem maior inadimplencia seriam a compra de carro e educação que pode estar relacionado a pessoas mais jovens."
   ]
  },
  {
   "cell_type": "markdown",
   "metadata": {},
   "source": [
    "# Conclusão Geral <a id='conclusao'></a>\n",
    "\n",
    "   O objetivo deste relatório era analisar um dataframe de dados dos clientes enviado pelo banco, para testar as seguintes hipóteses: se o número de filhos e se o status familiar tem algum impacto na inadimplência do pagamento do empréstimo. Após o tratamento dos dados e categorização dos mesmos pudemos testar essas hipóteses. \n",
    "    Conseguimos encontrar valores estatísticos diferentes na análise para clientes que tem filhos e também para clientes de diferentes status familiar.\n",
    "    Concluimos que a quantidade de filhos parece influenciar nas estatísticas,indicando que a pontuação de crédito para uma pessoa que tem filhos e deve ser diferente, já que ela tende a ser mais inadimplente. Para os diferentes status familiar, os melhores pagadores são os viuvos e os maiores devedores são pessoas que não tem um relacionamento (que pode ser associados a pessoas mais jovens). \n",
    "    \n",
    "    \n",
    "* Caso tenham interesse:\n",
    "    \n",
    "   Podemos re-avaliar o tratamento de dados conforme sugestões, verificando algumas formas de preencher os dados ausentes e os dados com erro técnico para assim analisar novamente e testar essas hipóteses.\n",
    "   Também podemos testar novas hipóteses como tipo de profissão e educação (grau de escolaridade) dos clientes, além de verificar hipóteses para diferentes grupos de idades e se terá algum impacto na inadimplência."
   ]
  },
  {
   "cell_type": "code",
   "execution_count": null,
   "metadata": {},
   "outputs": [],
   "source": []
  }
 ],
 "metadata": {
  "ExecuteTimeLog": [
   {
    "duration": 2741,
    "start_time": "2021-10-21T01:08:49.480Z"
   },
   {
    "duration": 52,
    "start_time": "2021-10-21T01:08:53.315Z"
   },
   {
    "duration": 49,
    "start_time": "2021-10-21T01:08:57.432Z"
   },
   {
    "duration": 70,
    "start_time": "2021-10-21T01:09:07.706Z"
   }
  ],
  "kernelspec": {
   "display_name": "Python 3",
   "language": "python",
   "name": "python3"
  },
  "language_info": {
   "codemirror_mode": {
    "name": "ipython",
    "version": 3
   },
   "file_extension": ".py",
   "mimetype": "text/x-python",
   "name": "python",
   "nbconvert_exporter": "python",
   "pygments_lexer": "ipython3",
   "version": "3.8.3"
  },
  "toc": {
   "base_numbering": 1,
   "nav_menu": {},
   "number_sections": true,
   "sideBar": true,
   "skip_h1_title": true,
   "title_cell": "Table of Contents",
   "title_sidebar": "Contents",
   "toc_cell": false,
   "toc_position": {},
   "toc_section_display": true,
   "toc_window_display": false
  }
 },
 "nbformat": 4,
 "nbformat_minor": 2
}
