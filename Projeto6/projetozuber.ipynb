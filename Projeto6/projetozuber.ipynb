{
 "cells": [
  {
   "cell_type": "markdown",
   "metadata": {},
   "source": [
    "----------------------------------\n",
    "\n",
    "Nome: Izabela Hammerschlag\n",
    "\n",
    "Data: 06/03/24\n",
    "\n",
    "---------------------------------"
   ]
  },
  {
   "cell_type": "markdown",
   "metadata": {},
   "source": [
    "# Zuber - Projeto proposto pela Tripleten"
   ]
  },
  {
   "cell_type": "markdown",
   "metadata": {},
   "source": [
    "# Descrição do Projeto:"
   ]
  },
  {
   "cell_type": "markdown",
   "metadata": {},
   "source": [
    "**Você está trabalhando como analista da Zuber, uma nova empresa de compartilhamento de caronas que está sendo lançada em Chicago. Sua tarefa é encontrar padrões nas informações disponíveis. Você quer entender as preferências dos passageiros e o impacto de fatores externos nas corridas. Trabalhando com um banco de dados, você analisará dados de concorrentes e testará uma hipótese sobre o impacto do clima na frequência das viagens.**"
   ]
  },
  {
   "cell_type": "markdown",
   "metadata": {},
   "source": [
    "Além dos dados recuperados nas tarefas anteriores, você recebeu um segundo arquivo. Agora você tem estes dois CSVs:\n",
    "\n",
    "1. project_sql_result_01.csv.\n",
    "\n",
    "Ele contém os seguintes dados:\n",
    "\n",
    "- company_name: nome da empresa de táxi\n",
    "- trips_amount: o número de corridas para cada empresa de táxi de 15 a 16 de novembro de 2017.\n",
    "\n",
    "\n",
    "2. project_sql_result_04.csv. \n",
    "\n",
    "Ele contém os seguintes dados:\n",
    "\n",
    "- dropoff_location_name: bairros de Chicago onde as corridas terminaram\n",
    "- average_trips: o número médio de viagens que terminaram em cada bairro em novembro de 2017.\n"
   ]
  },
  {
   "cell_type": "markdown",
   "metadata": {},
   "source": [
    "**Para esses dois conjuntos de dados, agora você precisa:**\n",
    "\n",
    "- importar os arquivos\n",
    "\n",
    "- estudar os dados que eles contêm\n",
    "\n",
    "- verifique se os tipos de dados estão corretos\n",
    "\n",
    "- identificar os 10 principais bairros em termos de destinos\n",
    "\n",
    "- fazer gráficos: empresas de táxi e número de corridas, 10 principais bairros por número de corridas em que esse - bairro é destino\n",
    "\n",
    "- tirar conclusões com base em cada gráfico e explicar os resultados\n"
   ]
  },
  {
   "cell_type": "markdown",
   "metadata": {},
   "source": [
    "## Contents <a id='back'></a>\n",
    "\n",
    "* [Introdução](#intro)\n",
    "* [Visão geral dos dados](#visao)\n",
    "* [Pré-processamento de dados](#pre)\n",
    "* [Análise de dados](#analise)\n",
    "* [Testando as hipóteses](#teste)\n",
    "* [Conclusão geral](#conclusao)"
   ]
  },
  {
   "cell_type": "markdown",
   "metadata": {},
   "source": [
    "## Introdução"
   ]
  },
  {
   "cell_type": "markdown",
   "metadata": {},
   "source": [
    "Uma nova empresa de compartilhamento de caronas que está sendo lançada em Chicago. Como analista da \"Zuber\", exploraremos os dados para encontrar padrões nas informações disponíveis. Entendendo as preferências dos passageiros e o impacto de fatores externos nas corridas. Utilizando um banco de dados, analisaremos dados de concorrentes e testaremos uma hipótese sobre o impacto do clima na frequência das viagens."
   ]
  },
  {
   "cell_type": "markdown",
   "metadata": {},
   "source": [
    "## Visão geral dos dados <a id='visao'></a>"
   ]
  },
  {
   "cell_type": "markdown",
   "metadata": {},
   "source": [
    "**Bibliotecas para execução do projeto**"
   ]
  },
  {
   "cell_type": "code",
   "execution_count": 112,
   "metadata": {},
   "outputs": [],
   "source": [
    "import pandas as pd # importando pandas como pd\n",
    "import math # importando math\n",
    "import numpy as np # importando Numpy com np\n",
    "import matplotlib.pyplot as plt #importando matplotlib como plt\n",
    "from scipy.stats import ttest_ind, levene # importando ttest"
   ]
  },
  {
   "cell_type": "markdown",
   "metadata": {},
   "source": [
    "**Importando arquivos csv**"
   ]
  },
  {
   "cell_type": "code",
   "execution_count": 113,
   "metadata": {},
   "outputs": [
    {
     "data": {
      "text/html": [
       "<div>\n",
       "<style scoped>\n",
       "    .dataframe tbody tr th:only-of-type {\n",
       "        vertical-align: middle;\n",
       "    }\n",
       "\n",
       "    .dataframe tbody tr th {\n",
       "        vertical-align: top;\n",
       "    }\n",
       "\n",
       "    .dataframe thead th {\n",
       "        text-align: right;\n",
       "    }\n",
       "</style>\n",
       "<table border=\"1\" class=\"dataframe\">\n",
       "  <thead>\n",
       "    <tr style=\"text-align: right;\">\n",
       "      <th></th>\n",
       "      <th>company_name</th>\n",
       "      <th>trips_amount</th>\n",
       "    </tr>\n",
       "  </thead>\n",
       "  <tbody>\n",
       "    <tr>\n",
       "      <th>0</th>\n",
       "      <td>Flash Cab</td>\n",
       "      <td>19558</td>\n",
       "    </tr>\n",
       "    <tr>\n",
       "      <th>1</th>\n",
       "      <td>Taxi Affiliation Services</td>\n",
       "      <td>11422</td>\n",
       "    </tr>\n",
       "    <tr>\n",
       "      <th>2</th>\n",
       "      <td>Medallion Leasin</td>\n",
       "      <td>10367</td>\n",
       "    </tr>\n",
       "    <tr>\n",
       "      <th>3</th>\n",
       "      <td>Yellow Cab</td>\n",
       "      <td>9888</td>\n",
       "    </tr>\n",
       "    <tr>\n",
       "      <th>4</th>\n",
       "      <td>Taxi Affiliation Service Yellow</td>\n",
       "      <td>9299</td>\n",
       "    </tr>\n",
       "  </tbody>\n",
       "</table>\n",
       "</div>"
      ],
      "text/plain": [
       "                      company_name  trips_amount\n",
       "0                        Flash Cab         19558\n",
       "1        Taxi Affiliation Services         11422\n",
       "2                 Medallion Leasin         10367\n",
       "3                       Yellow Cab          9888\n",
       "4  Taxi Affiliation Service Yellow          9299"
      ]
     },
     "execution_count": 113,
     "metadata": {},
     "output_type": "execute_result"
    }
   ],
   "source": [
    "#importando o arquivo 1  e salvando com df_trips\n",
    "df_trips = pd.read_csv('./moved_project_sql_result_01.csv')\n",
    "df_trips.head()"
   ]
  },
  {
   "cell_type": "markdown",
   "metadata": {},
   "source": [
    "Este df é composto por 2 colunas, o nome das companhias de taxi (company_name) e a quantidade de corridas para cada uma (trips_amount)."
   ]
  },
  {
   "cell_type": "code",
   "execution_count": 114,
   "metadata": {},
   "outputs": [
    {
     "data": {
      "text/html": [
       "<div>\n",
       "<style scoped>\n",
       "    .dataframe tbody tr th:only-of-type {\n",
       "        vertical-align: middle;\n",
       "    }\n",
       "\n",
       "    .dataframe tbody tr th {\n",
       "        vertical-align: top;\n",
       "    }\n",
       "\n",
       "    .dataframe thead th {\n",
       "        text-align: right;\n",
       "    }\n",
       "</style>\n",
       "<table border=\"1\" class=\"dataframe\">\n",
       "  <thead>\n",
       "    <tr style=\"text-align: right;\">\n",
       "      <th></th>\n",
       "      <th>dropoff_location_name</th>\n",
       "      <th>average_trips</th>\n",
       "    </tr>\n",
       "  </thead>\n",
       "  <tbody>\n",
       "    <tr>\n",
       "      <th>0</th>\n",
       "      <td>Loop</td>\n",
       "      <td>10727.466667</td>\n",
       "    </tr>\n",
       "    <tr>\n",
       "      <th>1</th>\n",
       "      <td>River North</td>\n",
       "      <td>9523.666667</td>\n",
       "    </tr>\n",
       "    <tr>\n",
       "      <th>2</th>\n",
       "      <td>Streeterville</td>\n",
       "      <td>6664.666667</td>\n",
       "    </tr>\n",
       "    <tr>\n",
       "      <th>3</th>\n",
       "      <td>West Loop</td>\n",
       "      <td>5163.666667</td>\n",
       "    </tr>\n",
       "    <tr>\n",
       "      <th>4</th>\n",
       "      <td>O'Hare</td>\n",
       "      <td>2546.900000</td>\n",
       "    </tr>\n",
       "  </tbody>\n",
       "</table>\n",
       "</div>"
      ],
      "text/plain": [
       "  dropoff_location_name  average_trips\n",
       "0                  Loop   10727.466667\n",
       "1           River North    9523.666667\n",
       "2         Streeterville    6664.666667\n",
       "3             West Loop    5163.666667\n",
       "4                O'Hare    2546.900000"
      ]
     },
     "execution_count": 114,
     "metadata": {},
     "output_type": "execute_result"
    }
   ],
   "source": [
    "#importando o arquivo 2  e salvando com df_location\n",
    "df_location = pd.read_csv('./moved_project_sql_result_04.csv')\n",
    "df_location.head()"
   ]
  },
  {
   "cell_type": "markdown",
   "metadata": {},
   "source": [
    "Este df é composto por 2 colunas, a localização dos bairros que terminam a corrida (dropoff_location_name) e a média de corridas para cada um deles (average_trips)."
   ]
  },
  {
   "cell_type": "code",
   "execution_count": 115,
   "metadata": {},
   "outputs": [
    {
     "data": {
      "text/html": [
       "<div>\n",
       "<style scoped>\n",
       "    .dataframe tbody tr th:only-of-type {\n",
       "        vertical-align: middle;\n",
       "    }\n",
       "\n",
       "    .dataframe tbody tr th {\n",
       "        vertical-align: top;\n",
       "    }\n",
       "\n",
       "    .dataframe thead th {\n",
       "        text-align: right;\n",
       "    }\n",
       "</style>\n",
       "<table border=\"1\" class=\"dataframe\">\n",
       "  <thead>\n",
       "    <tr style=\"text-align: right;\">\n",
       "      <th></th>\n",
       "      <th>start_ts</th>\n",
       "      <th>weather_conditions</th>\n",
       "      <th>duration_seconds</th>\n",
       "    </tr>\n",
       "  </thead>\n",
       "  <tbody>\n",
       "    <tr>\n",
       "      <th>0</th>\n",
       "      <td>2017-11-25 16:00:00</td>\n",
       "      <td>Good</td>\n",
       "      <td>2410.0</td>\n",
       "    </tr>\n",
       "    <tr>\n",
       "      <th>1</th>\n",
       "      <td>2017-11-25 14:00:00</td>\n",
       "      <td>Good</td>\n",
       "      <td>1920.0</td>\n",
       "    </tr>\n",
       "    <tr>\n",
       "      <th>2</th>\n",
       "      <td>2017-11-25 12:00:00</td>\n",
       "      <td>Good</td>\n",
       "      <td>1543.0</td>\n",
       "    </tr>\n",
       "    <tr>\n",
       "      <th>3</th>\n",
       "      <td>2017-11-04 10:00:00</td>\n",
       "      <td>Good</td>\n",
       "      <td>2512.0</td>\n",
       "    </tr>\n",
       "    <tr>\n",
       "      <th>4</th>\n",
       "      <td>2017-11-11 07:00:00</td>\n",
       "      <td>Good</td>\n",
       "      <td>1440.0</td>\n",
       "    </tr>\n",
       "  </tbody>\n",
       "</table>\n",
       "</div>"
      ],
      "text/plain": [
       "              start_ts weather_conditions  duration_seconds\n",
       "0  2017-11-25 16:00:00               Good            2410.0\n",
       "1  2017-11-25 14:00:00               Good            1920.0\n",
       "2  2017-11-25 12:00:00               Good            1543.0\n",
       "3  2017-11-04 10:00:00               Good            2512.0\n",
       "4  2017-11-11 07:00:00               Good            1440.0"
      ]
     },
     "execution_count": 115,
     "metadata": {},
     "output_type": "execute_result"
    }
   ],
   "source": [
    "trips_to_airoport = pd.read_csv('./moved_project_sql_result_07.csv')\n",
    "trips_to_airoport.head()"
   ]
  },
  {
   "cell_type": "markdown",
   "metadata": {},
   "source": [
    "Ele contém dados sobre viagens do Loop para o Aeroporto Internacional O'Hare.\n",
    "* start_ts — data e hora do começo da corrida\n",
    "* weather_conditions — condições meteorológicas no momento em que a corrida começou\n",
    "* duration_seconds — duração da viagem em segundos"
   ]
  },
  {
   "cell_type": "markdown",
   "metadata": {},
   "source": [
    "**Vamos olhar as informações que estão nestes dataframes e observar se os tipos de dados estão corretos.**"
   ]
  },
  {
   "cell_type": "code",
   "execution_count": 116,
   "metadata": {},
   "outputs": [
    {
     "name": "stdout",
     "output_type": "stream",
     "text": [
      "<class 'pandas.core.frame.DataFrame'>\n",
      "RangeIndex: 64 entries, 0 to 63\n",
      "Data columns (total 2 columns):\n",
      " #   Column        Non-Null Count  Dtype \n",
      "---  ------        --------------  ----- \n",
      " 0   company_name  64 non-null     object\n",
      " 1   trips_amount  64 non-null     int64 \n",
      "dtypes: int64(1), object(1)\n",
      "memory usage: 1.1+ KB\n"
     ]
    }
   ],
   "source": [
    "df_trips.info()"
   ]
  },
  {
   "cell_type": "markdown",
   "metadata": {},
   "source": [
    "Não tem dados ausentes neste df, o Dtype parece coerente, para o nome da companhia Dtype está como object, para trips_amount Dtype está int64."
   ]
  },
  {
   "cell_type": "code",
   "execution_count": 117,
   "metadata": {},
   "outputs": [
    {
     "name": "stdout",
     "output_type": "stream",
     "text": [
      "<class 'pandas.core.frame.DataFrame'>\n",
      "RangeIndex: 94 entries, 0 to 93\n",
      "Data columns (total 2 columns):\n",
      " #   Column                 Non-Null Count  Dtype  \n",
      "---  ------                 --------------  -----  \n",
      " 0   dropoff_location_name  94 non-null     object \n",
      " 1   average_trips          94 non-null     float64\n",
      "dtypes: float64(1), object(1)\n",
      "memory usage: 1.6+ KB\n"
     ]
    }
   ],
   "source": [
    "df_location.info()"
   ]
  },
  {
   "cell_type": "markdown",
   "metadata": {},
   "source": [
    "Não tem dados ausentes neste df, o Dtype parece coerente, dropoff_location_name  está como object e average_trips esta como float64."
   ]
  },
  {
   "cell_type": "code",
   "execution_count": 118,
   "metadata": {},
   "outputs": [
    {
     "name": "stdout",
     "output_type": "stream",
     "text": [
      "<class 'pandas.core.frame.DataFrame'>\n",
      "RangeIndex: 1068 entries, 0 to 1067\n",
      "Data columns (total 3 columns):\n",
      " #   Column              Non-Null Count  Dtype  \n",
      "---  ------              --------------  -----  \n",
      " 0   start_ts            1068 non-null   object \n",
      " 1   weather_conditions  1068 non-null   object \n",
      " 2   duration_seconds    1068 non-null   float64\n",
      "dtypes: float64(1), object(2)\n",
      "memory usage: 25.2+ KB\n"
     ]
    }
   ],
   "source": [
    "trips_to_airoport.info()"
   ]
  },
  {
   "cell_type": "markdown",
   "metadata": {},
   "source": [
    "Não há dados ausentes neste df. As colunas weather_conditions e duration_seconds parecem com Dtype apropriado. Podemos passar o Dtype da coluna start_ts(object) para datetime."
   ]
  },
  {
   "cell_type": "code",
   "execution_count": 119,
   "metadata": {},
   "outputs": [
    {
     "data": {
      "text/plain": [
       "0       2017-11-25 16:00:00\n",
       "1       2017-11-25 14:00:00\n",
       "2       2017-11-25 12:00:00\n",
       "3       2017-11-04 10:00:00\n",
       "4       2017-11-11 07:00:00\n",
       "               ...         \n",
       "1063    2017-11-25 11:00:00\n",
       "1064    2017-11-11 10:00:00\n",
       "1065    2017-11-11 13:00:00\n",
       "1066    2017-11-11 08:00:00\n",
       "1067    2017-11-04 16:00:00\n",
       "Name: start_ts, Length: 1068, dtype: object"
      ]
     },
     "execution_count": 119,
     "metadata": {},
     "output_type": "execute_result"
    }
   ],
   "source": [
    "trips_to_airoport['start_ts'] #checando o formato"
   ]
  },
  {
   "cell_type": "code",
   "execution_count": 120,
   "metadata": {},
   "outputs": [],
   "source": [
    "trips_to_airoport['start_ts'] = pd.to_datetime(trips_to_airoport['start_ts'], format=\"%Y-%m-%d %H:%M:%S\")"
   ]
  },
  {
   "cell_type": "code",
   "execution_count": 121,
   "metadata": {},
   "outputs": [
    {
     "name": "stdout",
     "output_type": "stream",
     "text": [
      "<class 'pandas.core.frame.DataFrame'>\n",
      "RangeIndex: 1068 entries, 0 to 1067\n",
      "Data columns (total 3 columns):\n",
      " #   Column              Non-Null Count  Dtype         \n",
      "---  ------              --------------  -----         \n",
      " 0   start_ts            1068 non-null   datetime64[ns]\n",
      " 1   weather_conditions  1068 non-null   object        \n",
      " 2   duration_seconds    1068 non-null   float64       \n",
      "dtypes: datetime64[ns](1), float64(1), object(1)\n",
      "memory usage: 25.2+ KB\n"
     ]
    }
   ],
   "source": [
    "trips_to_airoport.info() # dtype corretos"
   ]
  },
  {
   "cell_type": "markdown",
   "metadata": {},
   "source": [
    "## Pré-processamento de dados <a id='pre'></a>"
   ]
  },
  {
   "cell_type": "markdown",
   "metadata": {},
   "source": [
    "**Estudando os dados de df:**"
   ]
  },
  {
   "cell_type": "code",
   "execution_count": 122,
   "metadata": {},
   "outputs": [
    {
     "data": {
      "text/plain": [
       "(64, 2)"
      ]
     },
     "execution_count": 122,
     "metadata": {},
     "output_type": "execute_result"
    }
   ],
   "source": [
    "df_trips.shape # 64 linhas e 2 colunas"
   ]
  },
  {
   "cell_type": "code",
   "execution_count": 123,
   "metadata": {
    "scrolled": true
   },
   "outputs": [
    {
     "data": {
      "text/plain": [
       "Flash Cab                      1\n",
       "Taxi Affiliation Services      1\n",
       "Norshore Cab                   1\n",
       "6742 - 83735 Tasha ride inc    1\n",
       "3591 - 63480 Chuks Cab         1\n",
       "                              ..\n",
       "Gold Coast Taxi                1\n",
       "Service Taxi Association       1\n",
       "5 Star Taxi                    1\n",
       "303 Taxi                       1\n",
       "3556 - 36214 RC Andrews Cab    1\n",
       "Name: company_name, Length: 64, dtype: int64"
      ]
     },
     "execution_count": 123,
     "metadata": {},
     "output_type": "execute_result"
    }
   ],
   "source": [
    "# primeiro df, primeira coluna:\n",
    "df_trips['company_name'].value_counts() # vamos contar cada valor e ver se tem valores repetidos."
   ]
  },
  {
   "cell_type": "markdown",
   "metadata": {},
   "source": [
    "Podemos perceber que não exitem nomes repetidos, são 64 companhias de taxi."
   ]
  },
  {
   "cell_type": "code",
   "execution_count": 124,
   "metadata": {},
   "outputs": [
    {
     "data": {
      "text/plain": [
       "count            64\n",
       "unique           64\n",
       "top       Flash Cab\n",
       "freq              1\n",
       "Name: company_name, dtype: object"
      ]
     },
     "execution_count": 124,
     "metadata": {},
     "output_type": "execute_result"
    }
   ],
   "source": [
    "df_trips['company_name'].describe() # 64 dados unicos"
   ]
  },
  {
   "cell_type": "code",
   "execution_count": 125,
   "metadata": {},
   "outputs": [
    {
     "data": {
      "text/plain": [
       "count       64.000000\n",
       "mean      2145.484375\n",
       "std       3812.310186\n",
       "min          2.000000\n",
       "25%         20.750000\n",
       "50%        178.500000\n",
       "75%       2106.500000\n",
       "max      19558.000000\n",
       "Name: trips_amount, dtype: float64"
      ]
     },
     "execution_count": 125,
     "metadata": {},
     "output_type": "execute_result"
    }
   ],
   "source": [
    "df_trips['trips_amount'].describe()"
   ]
  },
  {
   "cell_type": "markdown",
   "metadata": {},
   "source": [
    "Temos valores variados de corridas para cada companhia, sendo 2 corridas o valor mínimo, 19558 o valor máximo. MÉDIA: 2145, MEDIANA: 178."
   ]
  },
  {
   "cell_type": "code",
   "execution_count": 126,
   "metadata": {},
   "outputs": [
    {
     "data": {
      "text/plain": [
       "count       94\n",
       "unique      94\n",
       "top       Loop\n",
       "freq         1\n",
       "Name: dropoff_location_name, dtype: object"
      ]
     },
     "execution_count": 126,
     "metadata": {},
     "output_type": "execute_result"
    }
   ],
   "source": [
    "# segundo df, primeira coluna:\n",
    "df_location['dropoff_location_name'].describe()"
   ]
  },
  {
   "cell_type": "code",
   "execution_count": 127,
   "metadata": {},
   "outputs": [
    {
     "data": {
      "text/plain": [
       "Loop               1\n",
       "Chatham            1\n",
       "Clearing           1\n",
       "Auburn Gresham     1\n",
       "Washington Park    1\n",
       "                  ..\n",
       "Albany Park        1\n",
       "Wicker Park        1\n",
       "Avondale           1\n",
       "Hyde Park          1\n",
       "Riverdale          1\n",
       "Name: dropoff_location_name, Length: 94, dtype: int64"
      ]
     },
     "execution_count": 127,
     "metadata": {},
     "output_type": "execute_result"
    }
   ],
   "source": [
    "df_location['dropoff_location_name'].value_counts()"
   ]
  },
  {
   "cell_type": "markdown",
   "metadata": {},
   "source": [
    "Podemos perceber que não exitem nomes repetidos, são 94 Bairros onde terminam as corridas. Os dados aparentam estar corretos."
   ]
  },
  {
   "cell_type": "code",
   "execution_count": 128,
   "metadata": {},
   "outputs": [
    {
     "data": {
      "text/plain": [
       "count       94.000000\n",
       "mean       599.953728\n",
       "std       1714.591098\n",
       "min          1.800000\n",
       "25%         14.266667\n",
       "50%         52.016667\n",
       "75%        298.858333\n",
       "max      10727.466667\n",
       "Name: average_trips, dtype: float64"
      ]
     },
     "execution_count": 128,
     "metadata": {},
     "output_type": "execute_result"
    }
   ],
   "source": [
    "# segundo df, segunda coluna:\n",
    "df_location['average_trips'].describe()\n"
   ]
  },
  {
   "cell_type": "markdown",
   "metadata": {},
   "source": [
    "Temos valores variados de corridas para cada bairro, sendo 1.8 corridas o valor mínimo, 10727 o valor máximo. MÉDIA: 599.9, MEDIANA: 52."
   ]
  },
  {
   "cell_type": "code",
   "execution_count": 129,
   "metadata": {},
   "outputs": [
    {
     "data": {
      "text/plain": [
       "2017-11-11 10:00:00    48\n",
       "2017-11-04 12:00:00    46\n",
       "2017-11-04 14:00:00    46\n",
       "2017-11-11 06:00:00    45\n",
       "2017-11-11 08:00:00    43\n",
       "                       ..\n",
       "2017-11-18 03:00:00     1\n",
       "2017-11-04 02:00:00     1\n",
       "2017-11-18 00:00:00     1\n",
       "2017-11-04 22:00:00     1\n",
       "2017-11-18 20:00:00     1\n",
       "Name: start_ts, Length: 81, dtype: int64"
      ]
     },
     "execution_count": 129,
     "metadata": {},
     "output_type": "execute_result"
    }
   ],
   "source": [
    "# terceiro df, primeira coluna\n",
    "trips_to_airoport['start_ts'].value_counts() # dia e horário das corridas"
   ]
  },
  {
   "cell_type": "code",
   "execution_count": 130,
   "metadata": {},
   "outputs": [
    {
     "data": {
      "text/plain": [
       "Good    888\n",
       "Bad     180\n",
       "Name: weather_conditions, dtype: int64"
      ]
     },
     "execution_count": 130,
     "metadata": {},
     "output_type": "execute_result"
    }
   ],
   "source": [
    "trips_to_airoport['weather_conditions'].value_counts() # temos 888 linhas com o clima em boas condições, e 180 em más condições"
   ]
  },
  {
   "cell_type": "code",
   "execution_count": 131,
   "metadata": {},
   "outputs": [
    {
     "data": {
      "text/plain": [
       "count    1068.000000\n",
       "mean     2071.731273\n",
       "std       769.461125\n",
       "min         0.000000\n",
       "25%      1438.250000\n",
       "50%      1980.000000\n",
       "75%      2580.000000\n",
       "max      7440.000000\n",
       "Name: duration_seconds, dtype: float64"
      ]
     },
     "execution_count": 131,
     "metadata": {},
     "output_type": "execute_result"
    }
   ],
   "source": [
    "trips_to_airoport['duration_seconds'].describe()"
   ]
  },
  {
   "cell_type": "code",
   "execution_count": 132,
   "metadata": {},
   "outputs": [
    {
     "data": {
      "text/html": [
       "<div>\n",
       "<style scoped>\n",
       "    .dataframe tbody tr th:only-of-type {\n",
       "        vertical-align: middle;\n",
       "    }\n",
       "\n",
       "    .dataframe tbody tr th {\n",
       "        vertical-align: top;\n",
       "    }\n",
       "\n",
       "    .dataframe thead th {\n",
       "        text-align: right;\n",
       "    }\n",
       "</style>\n",
       "<table border=\"1\" class=\"dataframe\">\n",
       "  <thead>\n",
       "    <tr style=\"text-align: right;\">\n",
       "      <th></th>\n",
       "      <th>start_ts</th>\n",
       "      <th>weather_conditions</th>\n",
       "      <th>duration_seconds</th>\n",
       "    </tr>\n",
       "  </thead>\n",
       "  <tbody>\n",
       "    <tr>\n",
       "      <th>163</th>\n",
       "      <td>2017-11-11 09:00:00</td>\n",
       "      <td>Good</td>\n",
       "      <td>0.0</td>\n",
       "    </tr>\n",
       "    <tr>\n",
       "      <th>168</th>\n",
       "      <td>2017-11-11 07:00:00</td>\n",
       "      <td>Good</td>\n",
       "      <td>0.0</td>\n",
       "    </tr>\n",
       "    <tr>\n",
       "      <th>204</th>\n",
       "      <td>2017-11-18 19:00:00</td>\n",
       "      <td>Good</td>\n",
       "      <td>0.0</td>\n",
       "    </tr>\n",
       "    <tr>\n",
       "      <th>552</th>\n",
       "      <td>2017-11-04 01:00:00</td>\n",
       "      <td>Good</td>\n",
       "      <td>0.0</td>\n",
       "    </tr>\n",
       "    <tr>\n",
       "      <th>801</th>\n",
       "      <td>2017-11-04 09:00:00</td>\n",
       "      <td>Good</td>\n",
       "      <td>0.0</td>\n",
       "    </tr>\n",
       "    <tr>\n",
       "      <th>1063</th>\n",
       "      <td>2017-11-25 11:00:00</td>\n",
       "      <td>Good</td>\n",
       "      <td>0.0</td>\n",
       "    </tr>\n",
       "  </tbody>\n",
       "</table>\n",
       "</div>"
      ],
      "text/plain": [
       "                start_ts weather_conditions  duration_seconds\n",
       "163  2017-11-11 09:00:00               Good               0.0\n",
       "168  2017-11-11 07:00:00               Good               0.0\n",
       "204  2017-11-18 19:00:00               Good               0.0\n",
       "552  2017-11-04 01:00:00               Good               0.0\n",
       "801  2017-11-04 09:00:00               Good               0.0\n",
       "1063 2017-11-25 11:00:00               Good               0.0"
      ]
     },
     "execution_count": 132,
     "metadata": {},
     "output_type": "execute_result"
    }
   ],
   "source": [
    "trips_to_airoport[trips_to_airoport['duration_seconds'] == 0]"
   ]
  },
  {
   "cell_type": "code",
   "execution_count": 133,
   "metadata": {},
   "outputs": [],
   "source": [
    "trips_to_airoport = trips_to_airoport[trips_to_airoport['duration_seconds'] != 0] \n",
    "# vamos eliminar essas \"corridas\" de 0 segundos, porque provavelmente elas não chegaram a acontecer"
   ]
  },
  {
   "cell_type": "code",
   "execution_count": 134,
   "metadata": {},
   "outputs": [
    {
     "data": {
      "text/plain": [
       "Series([], dtype: int64)"
      ]
     },
     "execution_count": 134,
     "metadata": {},
     "output_type": "execute_result"
    }
   ],
   "source": [
    "trips_to_airoport[trips_to_airoport['duration_seconds'] == 0].value_counts()"
   ]
  },
  {
   "cell_type": "code",
   "execution_count": 135,
   "metadata": {},
   "outputs": [
    {
     "name": "stdout",
     "output_type": "stream",
     "text": [
      "<class 'pandas.core.frame.DataFrame'>\n",
      "Int64Index: 1062 entries, 0 to 1067\n",
      "Data columns (total 3 columns):\n",
      " #   Column              Non-Null Count  Dtype         \n",
      "---  ------              --------------  -----         \n",
      " 0   start_ts            1062 non-null   datetime64[ns]\n",
      " 1   weather_conditions  1062 non-null   object        \n",
      " 2   duration_seconds    1062 non-null   float64       \n",
      "dtypes: datetime64[ns](1), float64(1), object(1)\n",
      "memory usage: 33.2+ KB\n"
     ]
    }
   ],
   "source": [
    "trips_to_airoport.info()"
   ]
  },
  {
   "cell_type": "markdown",
   "metadata": {},
   "source": [
    "dataframes pronto para as análises"
   ]
  },
  {
   "cell_type": "markdown",
   "metadata": {},
   "source": [
    "## Análise de dados <a id=analise></a>"
   ]
  },
  {
   "cell_type": "markdown",
   "metadata": {},
   "source": [
    "**Vamos Identificar os 10 principais bairros em termos de destino**"
   ]
  },
  {
   "cell_type": "markdown",
   "metadata": {},
   "source": [
    "Vamos agrupar por localização, e exibir os 10 destinos com maior valores de médias de corridas."
   ]
  },
  {
   "cell_type": "code",
   "execution_count": 136,
   "metadata": {},
   "outputs": [
    {
     "data": {
      "text/plain": [
       "dropoff_location_name\n",
       "Loop                  10727.466667\n",
       "River North            9523.666667\n",
       "Streeterville          6664.666667\n",
       "West Loop              5163.666667\n",
       "O'Hare                 2546.900000\n",
       "Lake View              2420.966667\n",
       "Grant Park             2068.533333\n",
       "Museum Campus          1510.000000\n",
       "Gold Coast             1364.233333\n",
       "Sheffield & DePaul     1259.766667\n",
       "Name: average_trips, dtype: float64"
      ]
     },
     "execution_count": 136,
     "metadata": {},
     "output_type": "execute_result"
    }
   ],
   "source": [
    "top10_location = df_location.groupby('dropoff_location_name')['average_trips'].sum().sort_values(ascending=False).head(10)\n",
    "top10_location"
   ]
  },
  {
   "cell_type": "markdown",
   "metadata": {},
   "source": [
    "Top 10:\n",
    "\n",
    "1- Loop \n",
    "\n",
    "2-  River North  \n",
    "\n",
    "3-  Streeterville    \n",
    "\n",
    "4-  West Loop       \n",
    "\n",
    "5-  O'Hare          \n",
    "\n",
    "6- Lake View        \n",
    "\n",
    "7- Grant Park             \n",
    "\n",
    "8- Museum Campus     \n",
    "\n",
    "9- Gold Coast        \n",
    "\n",
    "10- Sheffield & DePaul     "
   ]
  },
  {
   "cell_type": "markdown",
   "metadata": {},
   "source": [
    "**Para melhor visualizar os dados, observe o gráfico abaixo. Empresa de táxi e número de corridas e 10 principais bairros por número de corridas em que esse bairro é destino.**"
   ]
  },
  {
   "cell_type": "code",
   "execution_count": 137,
   "metadata": {},
   "outputs": [
    {
     "data": {
      "image/png": "[encoded data removed]",
      "text/plain": [
       "<Figure size 720x504 with 1 Axes>"
      ]
     },
     "metadata": {
      "needs_background": "light"
     },
     "output_type": "display_data"
    }
   ],
   "source": [
    "#empresas de táxi e número de corridas:\n",
    "plt.figure(figsize=(10, 7));\n",
    "plt.barh(df_trips[\"company_name\"],df_trips[\"trips_amount\"]);"
   ]
  },
  {
   "cell_type": "markdown",
   "metadata": {},
   "source": [
    "São 64 companhias, como podemos perceber existem companhias com poucas corridas e outras com uma quantidade muito grande de corridas. Para melhor visualizar vamos pegar apenas as mais utilizadas (mais famosas da cidade)."
   ]
  },
  {
   "cell_type": "code",
   "execution_count": 138,
   "metadata": {},
   "outputs": [
    {
     "data": {
      "image/png": "[encoded data removed]",
      "text/plain": [
       "<Figure size 864x504 with 1 Axes>"
      ]
     },
     "metadata": {
      "needs_background": "light"
     },
     "output_type": "display_data"
    }
   ],
   "source": [
    "#empresas de táxi e número de corridas:\n",
    "\n",
    "# Agrupar e somar das corridas por empresa\n",
    "df_trips_grouped = df_trips.groupby(\"company_name\").sum().reset_index()\n",
    "\n",
    "# Ordenar as empresas pelo número de corridas em ordem decrescente\n",
    "df_trips_sorted = df_trips_grouped.sort_values(by=\"trips_amount\", ascending=False)\n",
    "\n",
    "# Selecionar as 20 empresas com maior número de corridas\n",
    "top_20_companies = df_trips_sorted.head(20)\n",
    "\n",
    "# Criar o gráfico de barras\n",
    "plt.figure(figsize=(12, 7));\n",
    "plt.barh(top_20_companies[\"company_name\"], top_20_companies[\"trips_amount\"]);\n",
    "plt.title(\"Top 20 Empresas de Táxi com Maior Número de Corridas\");\n",
    "plt.xlabel(\"Empresa de Táxi\");\n",
    "plt.ylabel(\"Número de Corridas\");\n",
    "plt.xticks(rotation=90);\n"
   ]
  },
  {
   "cell_type": "markdown",
   "metadata": {},
   "source": [
    "   As empresas mais utilizadas estão neste top 20. Podemos observar que elas variam de 2500 corridas a 19500 corridas. Sendo a Flash Cab o valor mais discrepantes comparado com o conjunto."
   ]
  },
  {
   "cell_type": "code",
   "execution_count": 139,
   "metadata": {},
   "outputs": [
    {
     "data": {
      "image/png": "[encoded data removed]",
      "text/plain": [
       "<Figure size 720x432 with 1 Axes>"
      ]
     },
     "metadata": {
      "needs_background": "light"
     },
     "output_type": "display_data"
    }
   ],
   "source": [
    "# 10 principais bairros por número de corridas em que esse - bairro é destino\n",
    "#df_location.groupby('dropoff_location_name')['average_trips'].sum().sort_values(ascending=False).head(10).reset_index()\n",
    "\n",
    "df_location_grouped = df_location.groupby('dropoff_location_name').sum().reset_index()\n",
    "\n",
    "# Ordenar os locais pelo número de corridas em ordem decrescente\n",
    "df_location_sorted = df_location_grouped.sort_values(by='average_trips', ascending=False)\n",
    "\n",
    "# Selecionar os 10 locais com maior número de corridas\n",
    "top_10_location = df_location_sorted.head(10)\n",
    "\n",
    "# Criar o gráfico de barras\n",
    "plt.figure(figsize=(10, 6));\n",
    "plt.barh(top_10_location[\"dropoff_location_name\"], top_10_location[\"average_trips\"]);\n",
    "plt.title(\"Top 10 locais com Maior Número de Corridas\");\n",
    "plt.xlabel(\"localização\");\n",
    "plt.ylabel(\"Número médio de Corridas\");\n",
    "plt.xticks(rotation=90);"
   ]
  },
  {
   "cell_type": "markdown",
   "metadata": {},
   "source": [
    "O destino Loop lidera com mais de 10 mil corridas, em seguida River North e Streetville."
   ]
  },
  {
   "cell_type": "code",
   "execution_count": 140,
   "metadata": {},
   "outputs": [
    {
     "name": "stderr",
     "output_type": "stream",
     "text": [
      "<ipython-input-140-f3390fb6aa21>:1: FutureWarning: Dropping of nuisance columns in DataFrame reductions (with 'numeric_only=None') is deprecated; in a future version this will raise TypeError.  Select only valid columns before calling the reduction.\n",
      "  top_10_location.median()\n"
     ]
    },
    {
     "data": {
      "text/plain": [
       "average_trips    2483.933333\n",
       "dtype: float64"
      ]
     },
     "execution_count": 140,
     "metadata": {},
     "output_type": "execute_result"
    }
   ],
   "source": [
    "top_10_location.median() "
   ]
  },
  {
   "cell_type": "markdown",
   "metadata": {},
   "source": [
    "A mediana de corridas do top 10 locais de destino é de aproximadamente 2484"
   ]
  },
  {
   "cell_type": "code",
   "execution_count": 141,
   "metadata": {},
   "outputs": [],
   "source": [
    "#df_trips.boxplot();\n",
    "#df_location.boxplot();\n",
    "#df_location.plot();\n",
    "#df_trips.plot();"
   ]
  },
  {
   "cell_type": "markdown",
   "metadata": {},
   "source": [
    "## Testando as hipóteses <a id='teste'><a/>"
   ]
  },
  {
   "cell_type": "code",
   "execution_count": 142,
   "metadata": {},
   "outputs": [
    {
     "data": {
      "text/html": [
       "<div>\n",
       "<style scoped>\n",
       "    .dataframe tbody tr th:only-of-type {\n",
       "        vertical-align: middle;\n",
       "    }\n",
       "\n",
       "    .dataframe tbody tr th {\n",
       "        vertical-align: top;\n",
       "    }\n",
       "\n",
       "    .dataframe thead th {\n",
       "        text-align: right;\n",
       "    }\n",
       "</style>\n",
       "<table border=\"1\" class=\"dataframe\">\n",
       "  <thead>\n",
       "    <tr style=\"text-align: right;\">\n",
       "      <th></th>\n",
       "      <th>start_ts</th>\n",
       "      <th>weather_conditions</th>\n",
       "      <th>duration_seconds</th>\n",
       "    </tr>\n",
       "  </thead>\n",
       "  <tbody>\n",
       "    <tr>\n",
       "      <th>814</th>\n",
       "      <td>2017-11-11 10:00:00</td>\n",
       "      <td>Good</td>\n",
       "      <td>1620.0</td>\n",
       "    </tr>\n",
       "    <tr>\n",
       "      <th>923</th>\n",
       "      <td>2017-11-11 07:00:00</td>\n",
       "      <td>Good</td>\n",
       "      <td>1380.0</td>\n",
       "    </tr>\n",
       "    <tr>\n",
       "      <th>458</th>\n",
       "      <td>2017-11-11 14:00:00</td>\n",
       "      <td>Good</td>\n",
       "      <td>2820.0</td>\n",
       "    </tr>\n",
       "    <tr>\n",
       "      <th>868</th>\n",
       "      <td>2017-11-04 09:00:00</td>\n",
       "      <td>Good</td>\n",
       "      <td>1440.0</td>\n",
       "    </tr>\n",
       "  </tbody>\n",
       "</table>\n",
       "</div>"
      ],
      "text/plain": [
       "               start_ts weather_conditions  duration_seconds\n",
       "814 2017-11-11 10:00:00               Good            1620.0\n",
       "923 2017-11-11 07:00:00               Good            1380.0\n",
       "458 2017-11-11 14:00:00               Good            2820.0\n",
       "868 2017-11-04 09:00:00               Good            1440.0"
      ]
     },
     "execution_count": 142,
     "metadata": {},
     "output_type": "execute_result"
    }
   ],
   "source": [
    "trips_to_airoport.sample(4)"
   ]
  },
  {
   "cell_type": "markdown",
   "metadata": {},
   "source": [
    "Ele contém dados sobre viagens do Loop para o Aeroporto Internacional O'Hare.\n",
    "\n",
    "- start_ts — data e hora do começo da corrida\n",
    "\n",
    "- weather_conditions — condições meteorológicas no momento em que a corrida começou\n",
    "\n",
    "- duration_seconds — duração da viagem em segundos"
   ]
  },
  {
   "cell_type": "markdown",
   "metadata": {},
   "source": [
    "Testando a hipótese: \"A duração média dos passeios do Loop para o Aeroporto Internacional O'Hare muda nos sábados chuvosos.\"\n",
    "\n",
    "Defina o valor do nível de significância (alfa)\n",
    "\n",
    "Explique: como você formou as hipóteses nula e alternativa."
   ]
  },
  {
   "cell_type": "code",
   "execution_count": 143,
   "metadata": {},
   "outputs": [
    {
     "data": {
      "text/plain": [
       "2083.4359698681733"
      ]
     },
     "execution_count": 143,
     "metadata": {},
     "output_type": "execute_result"
    }
   ],
   "source": [
    "trips_to_airoport['duration_seconds'].mean()"
   ]
  },
  {
   "cell_type": "markdown",
   "metadata": {},
   "source": [
    "A média de duração das corridas é de 2083 segundos. Aproximadamente 34 minutos."
   ]
  },
  {
   "cell_type": "markdown",
   "metadata": {},
   "source": [
    "Como é necessário testar a hipótese para o dia da semana (sábado), vamos adicionar uma nova coluna para o dia da semana."
   ]
  },
  {
   "cell_type": "code",
   "execution_count": 144,
   "metadata": {},
   "outputs": [
    {
     "data": {
      "text/plain": [
       "Saturday    1062\n",
       "Name: weekday, dtype: int64"
      ]
     },
     "execution_count": 144,
     "metadata": {},
     "output_type": "execute_result"
    }
   ],
   "source": [
    "trips_to_airoport['start_ts'] = pd.to_datetime(trips_to_airoport['start_ts'])\n",
    "trips_to_airoport['weekday'] = trips_to_airoport['start_ts'].dt.day_name()\n",
    "trips_to_airoport['weekday'].value_counts()"
   ]
  },
  {
   "cell_type": "markdown",
   "metadata": {},
   "source": [
    "Todos os dados são de sábados. Agora vamos separar os dados para os dias em que o tempo está bom, e o dia em que o tempo está ruim. Como temos que comparar apenas com a duração da viagem vamos pegar a coluna duration_seconds para testar se existem diferenças."
   ]
  },
  {
   "cell_type": "code",
   "execution_count": 145,
   "metadata": {},
   "outputs": [],
   "source": [
    "good_weather = trips_to_airoport[trips_to_airoport['weather_conditions'] == 'Good']['duration_seconds']\n",
    "bad_weather = trips_to_airoport[trips_to_airoport['weather_conditions'] == 'Bad']['duration_seconds']"
   ]
  },
  {
   "cell_type": "markdown",
   "metadata": {},
   "source": [
    "Antes de testar as hipóteses vamos olhar para os valores de cada uma delas:"
   ]
  },
  {
   "cell_type": "code",
   "execution_count": 146,
   "metadata": {},
   "outputs": [
    {
     "data": {
      "text/plain": [
       "15       60.0\n",
       "424     420.0\n",
       "874    1018.0\n",
       "194    1020.0\n",
       "713    1063.0\n",
       "        ...  \n",
       "646    4380.0\n",
       "79     4800.0\n",
       "583    4980.0\n",
       "619    6420.0\n",
       "354    7440.0\n",
       "Name: duration_seconds, Length: 882, dtype: float64"
      ]
     },
     "execution_count": 146,
     "metadata": {},
     "output_type": "execute_result"
    }
   ],
   "source": [
    "good_weather.sort_values()"
   ]
  },
  {
   "cell_type": "code",
   "execution_count": 147,
   "metadata": {},
   "outputs": [
    {
     "data": {
      "text/plain": [
       "203      480.0\n",
       "860      480.0\n",
       "743     1182.0\n",
       "628     1200.0\n",
       "1000    1200.0\n",
       "         ...  \n",
       "719     3600.0\n",
       "905     3720.0\n",
       "788     3779.0\n",
       "110     4044.0\n",
       "276     4980.0\n",
       "Name: duration_seconds, Length: 180, dtype: float64"
      ]
     },
     "execution_count": 147,
     "metadata": {},
     "output_type": "execute_result"
    }
   ],
   "source": [
    "bad_weather.sort_values()"
   ]
  },
  {
   "cell_type": "code",
   "execution_count": 148,
   "metadata": {},
   "outputs": [
    {
     "data": {
      "image/png": "[encoded data removed]",
      "text/plain": [
       "<Figure size 432x288 with 1 Axes>"
      ]
     },
     "metadata": {
      "needs_background": "light"
     },
     "output_type": "display_data"
    }
   ],
   "source": [
    "good_weather.hist(label='Good Weather')\n",
    "bad_weather.hist(label='Bad Weather')\n",
    "plt.legend();"
   ]
  },
  {
   "cell_type": "code",
   "execution_count": 149,
   "metadata": {},
   "outputs": [
    {
     "name": "stdout",
     "output_type": "stream",
     "text": [
      "Média de tempo com boa condição climática : 2013.2789115646258\n",
      "Média de tempo com condição climática ruim : 2427.2055555555557\n"
     ]
    }
   ],
   "source": [
    "print(f'Média de tempo com boa condição climática : {good_weather.mean()}')\n",
    "print(f'Média de tempo com condição climática ruim : {bad_weather.mean()}')"
   ]
  },
  {
   "cell_type": "markdown",
   "metadata": {},
   "source": [
    "Visualmente podemos perceber uma diferença, good_weather tem uma média em torno de 2000 segundos (o tempo da corrida), já quando o tempo está ruim (bad_weather) a média fica mais alta em torno de 2400 segundos."
   ]
  },
  {
   "cell_type": "markdown",
   "metadata": {},
   "source": [
    "Agora vamos testar a hipótese e ver se existe realmente uma diferença com embasamento estatístico. Para este teste escolhi ttest_ind. Fonte: https://docs.scipy.org/doc/scipy/reference/generated/scipy.stats.ttest_ind.html\n",
    "\n",
    "Vamos pegar as duas amostra de dados, para o clima bom (good_weather) o clima ruim (bad_weather). \n",
    "O teste estatístico vai calcular para as médias dessas duas amostras, de acordo com a comparação do p-valor e o alpha\n",
    "\n",
    "* **Segue as hipóteses**\n",
    "\n",
    "hipotese nula: Não existe diferença significativa no tempo das corridas devido a influência do clima.\n",
    "\n",
    "hipotese alternativa: O clima influência no tempo das corridas."
   ]
  },
  {
   "cell_type": "code",
   "execution_count": 150,
   "metadata": {},
   "outputs": [
    {
     "name": "stdout",
     "output_type": "stream",
     "text": [
      "p-valor: 0.6687312920630069, não podemos prezumir que as variâncias são iguais\n"
     ]
    }
   ],
   "source": [
    "stat, p_val = levene(good_weather, bad_weather)\n",
    "\n",
    "alpha = 0.05 # escolhi este alpha pois é o padrão utilizado\n",
    "\n",
    "if p_val < alpha:\n",
    "    print(f'p-valor: {p_val}, podemos prezumir que as variâncias são iguais')\n",
    "    equal_var = True\n",
    "else:\n",
    "    print(f'p-valor: {p_val}, não podemos prezumir que as variâncias são iguais')\n",
    "    equal_var = False"
   ]
  },
  {
   "cell_type": "code",
   "execution_count": 151,
   "metadata": {},
   "outputs": [
    {
     "name": "stdout",
     "output_type": "stream",
     "text": [
      "p-valor: 2.4173590471585584e-11, Podemos rejeitar a hipotese nula.\n"
     ]
    }
   ],
   "source": [
    "p_val = ttest_ind(good_weather, bad_weather, equal_var=equal_var).pvalue\n",
    "\n",
    "if p_val < alpha:\n",
    "    print(f'p-valor: {p_val}, Podemos rejeitar a hipotese nula.') # são diferentes\n",
    "else:\n",
    "    print(f'p-valor: {p_val}, Não podemos rejeitar a hipotese nula.') # não tem diferença significativa"
   ]
  },
  {
   "cell_type": "markdown",
   "metadata": {},
   "source": [
    "Como observado nos gráficos, temos evidências estatisticas para dizer as condições climáticas em relação com o tempo médio das corridas"
   ]
  },
  {
   "cell_type": "markdown",
   "metadata": {},
   "source": [
    "## Conclusão Geral <a id='conclusao'></a>"
   ]
  },
  {
   "cell_type": "markdown",
   "metadata": {},
   "source": [
    "Concluimos que o top 3 locais de destino são em ordem: Loop, River North, Streeterville. Além disto as principais companhias utilizadas são Flash Cab, taxi filliation services e Medallion leasin. \n",
    "\n",
    "Testamos a hipótese de que fatores externos interferem no tempo das corridas, e neste caso específico testamos que em sábados chuvosos podemos ver uma variação no tempo médio de corridas comparando com valores médios quando há bom tempo. Sendo as corridas com mal tempo (bad weather), com maiores duração. "
   ]
  }
 ],
 "metadata": {
  "kernelspec": {
   "display_name": "Python 3",
   "language": "python",
   "name": "python3"
  },
  "language_info": {
   "codemirror_mode": {
    "name": "ipython",
    "version": 3
   },
   "file_extension": ".py",
   "mimetype": "text/x-python",
   "name": "python",
   "nbconvert_exporter": "python",
   "pygments_lexer": "ipython3",
   "version": "3.8.3"
  },
  "toc": {
   "base_numbering": 1,
   "nav_menu": {},
   "number_sections": true,
   "sideBar": true,
   "skip_h1_title": true,
   "title_cell": "Table of Contents",
   "title_sidebar": "Contents",
   "toc_cell": false,
   "toc_position": {},
   "toc_section_display": true,
   "toc_window_display": false
  }
 },
 "nbformat": 4,
 "nbformat_minor": 2
}
