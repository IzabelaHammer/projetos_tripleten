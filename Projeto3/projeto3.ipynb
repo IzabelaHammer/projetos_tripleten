{
 "cells": [
  {
   "cell_type": "markdown",
   "metadata": {},
   "source": [
    "# Este é o terceiro projeto proposto pelo curso de data science da TripleTen\n",
    "\n",
    "\n",
    "# Título: O que vende um carro?\n",
    "\n",
    "Este projeto foi realizado com o objetivo de testar conhecimentos em python, pandas, pyplot,Matplotlib, pré-processamento de dados em geral."
   ]
  },
  {
   "cell_type": "markdown",
   "metadata": {},
   "source": [
    "## Introdução\n",
    "\n",
    "Você é analista na Lista de Eixo de Manivela. Centenas de propagandas gratuitas de veículos são publicadas no seu site todos os dias. Você precisa estudar os dados coletados nos últimos anos e determinar quais fatores influenciaram o preço de um veículo."
   ]
  },
  {
   "cell_type": "markdown",
   "metadata": {},
   "source": [
    "## Iniciação"
   ]
  },
  {
   "cell_type": "markdown",
   "metadata": {},
   "source": [
    "Bibliotecas necessárias para iniciar o projeto:"
   ]
  },
  {
   "cell_type": "code",
   "execution_count": 517,
   "metadata": {},
   "outputs": [],
   "source": [
    "# Carregando todas as bibliotecas\n",
    "import pandas as pd #importando pandas como pd\n",
    "import matplotlib.pyplot as plt # importando matplotlib como plt"
   ]
  },
  {
   "cell_type": "markdown",
   "metadata": {},
   "source": [
    "### Carregue dados"
   ]
  },
  {
   "cell_type": "markdown",
   "metadata": {},
   "source": [
    "lendo os dados e salvando o dataFrame em df"
   ]
  },
  {
   "cell_type": "code",
   "execution_count": 518,
   "metadata": {},
   "outputs": [],
   "source": [
    "df = pd.read_csv('vehicles_us.csv')"
   ]
  },
  {
   "cell_type": "markdown",
   "metadata": {},
   "source": [
    "### Explorando os dados iniciais"
   ]
  },
  {
   "cell_type": "markdown",
   "metadata": {},
   "source": [
    "O conjunto de dados contém os seguintes campos:\n",
    "- `price`\n",
    "- `model_year`\n",
    "- `model`\n",
    "- `condition`\n",
    "- `cylinders`\n",
    "- `fuel` — gasolina, diesel etc.\n",
    "- `odometer` — a quilometragem do veículo quando a propaganda foi publicada \n",
    "- `transmission`\n",
    "- `paint_color`\n",
    "- `is_4wd` — Se o veículo é 4 por 4 (tipo Booleano)\n",
    "- `date_posted` — a data que a propaganda foi publicada\n",
    "- `days_listed` — dias desde a publicação até a retirada\n",
    "\n",
    "Informações gerais:"
   ]
  },
  {
   "cell_type": "code",
   "execution_count": 519,
   "metadata": {},
   "outputs": [
    {
     "name": "stdout",
     "output_type": "stream",
     "text": [
      "<class 'pandas.core.frame.DataFrame'>\n",
      "RangeIndex: 51525 entries, 0 to 51524\n",
      "Data columns (total 13 columns):\n",
      " #   Column        Non-Null Count  Dtype  \n",
      "---  ------        --------------  -----  \n",
      " 0   price         51525 non-null  int64  \n",
      " 1   model_year    47906 non-null  float64\n",
      " 2   model         51525 non-null  object \n",
      " 3   condition     51525 non-null  object \n",
      " 4   cylinders     46265 non-null  float64\n",
      " 5   fuel          51525 non-null  object \n",
      " 6   odometer      43633 non-null  float64\n",
      " 7   transmission  51525 non-null  object \n",
      " 8   type          51525 non-null  object \n",
      " 9   paint_color   42258 non-null  object \n",
      " 10  is_4wd        25572 non-null  float64\n",
      " 11  date_posted   51525 non-null  object \n",
      " 12  days_listed   51525 non-null  int64  \n",
      "dtypes: float64(4), int64(2), object(7)\n",
      "memory usage: 5.1+ MB\n"
     ]
    }
   ],
   "source": [
    "# imprimindo as informações gerais/resumidas sobre o DataFrame\n",
    "df.info()"
   ]
  },
  {
   "cell_type": "code",
   "execution_count": 520,
   "metadata": {},
   "outputs": [
    {
     "name": "stdout",
     "output_type": "stream",
     "text": [
      "Linhas: 51525, Colunas: 13\n"
     ]
    }
   ],
   "source": [
    "print(f'Linhas: {df.shape[0]}, Colunas: {df.shape[1]}')\n",
    "# Quantidade de linhas e colunas do DataFrame"
   ]
  },
  {
   "cell_type": "code",
   "execution_count": 521,
   "metadata": {},
   "outputs": [
    {
     "data": {
      "text/html": [
       "<div>\n",
       "<style scoped>\n",
       "    .dataframe tbody tr th:only-of-type {\n",
       "        vertical-align: middle;\n",
       "    }\n",
       "\n",
       "    .dataframe tbody tr th {\n",
       "        vertical-align: top;\n",
       "    }\n",
       "\n",
       "    .dataframe thead th {\n",
       "        text-align: right;\n",
       "    }\n",
       "</style>\n",
       "<table border=\"1\" class=\"dataframe\">\n",
       "  <thead>\n",
       "    <tr style=\"text-align: right;\">\n",
       "      <th></th>\n",
       "      <th>price</th>\n",
       "      <th>model_year</th>\n",
       "      <th>model</th>\n",
       "      <th>condition</th>\n",
       "      <th>cylinders</th>\n",
       "      <th>fuel</th>\n",
       "      <th>odometer</th>\n",
       "      <th>transmission</th>\n",
       "      <th>type</th>\n",
       "      <th>paint_color</th>\n",
       "      <th>is_4wd</th>\n",
       "      <th>date_posted</th>\n",
       "      <th>days_listed</th>\n",
       "    </tr>\n",
       "  </thead>\n",
       "  <tbody>\n",
       "    <tr>\n",
       "      <th>42472</th>\n",
       "      <td>4200</td>\n",
       "      <td>NaN</td>\n",
       "      <td>nissan sentra</td>\n",
       "      <td>excellent</td>\n",
       "      <td>NaN</td>\n",
       "      <td>gas</td>\n",
       "      <td>120000.0</td>\n",
       "      <td>automatic</td>\n",
       "      <td>sedan</td>\n",
       "      <td>NaN</td>\n",
       "      <td>NaN</td>\n",
       "      <td>2019-04-17</td>\n",
       "      <td>6</td>\n",
       "    </tr>\n",
       "    <tr>\n",
       "      <th>28283</th>\n",
       "      <td>6500</td>\n",
       "      <td>2001.0</td>\n",
       "      <td>jeep wrangler</td>\n",
       "      <td>good</td>\n",
       "      <td>6.0</td>\n",
       "      <td>gas</td>\n",
       "      <td>186000.0</td>\n",
       "      <td>manual</td>\n",
       "      <td>offroad</td>\n",
       "      <td>grey</td>\n",
       "      <td>1.0</td>\n",
       "      <td>2018-10-02</td>\n",
       "      <td>48</td>\n",
       "    </tr>\n",
       "    <tr>\n",
       "      <th>13757</th>\n",
       "      <td>8595</td>\n",
       "      <td>2010.0</td>\n",
       "      <td>nissan murano</td>\n",
       "      <td>excellent</td>\n",
       "      <td>6.0</td>\n",
       "      <td>gas</td>\n",
       "      <td>NaN</td>\n",
       "      <td>automatic</td>\n",
       "      <td>SUV</td>\n",
       "      <td>grey</td>\n",
       "      <td>1.0</td>\n",
       "      <td>2019-03-26</td>\n",
       "      <td>30</td>\n",
       "    </tr>\n",
       "    <tr>\n",
       "      <th>12195</th>\n",
       "      <td>3500</td>\n",
       "      <td>2002.0</td>\n",
       "      <td>jeep liberty</td>\n",
       "      <td>excellent</td>\n",
       "      <td>6.0</td>\n",
       "      <td>gas</td>\n",
       "      <td>238000.0</td>\n",
       "      <td>automatic</td>\n",
       "      <td>SUV</td>\n",
       "      <td>silver</td>\n",
       "      <td>NaN</td>\n",
       "      <td>2018-11-19</td>\n",
       "      <td>37</td>\n",
       "    </tr>\n",
       "    <tr>\n",
       "      <th>13382</th>\n",
       "      <td>6800</td>\n",
       "      <td>2004.0</td>\n",
       "      <td>gmc sierra</td>\n",
       "      <td>good</td>\n",
       "      <td>8.0</td>\n",
       "      <td>gas</td>\n",
       "      <td>127300.0</td>\n",
       "      <td>automatic</td>\n",
       "      <td>truck</td>\n",
       "      <td>black</td>\n",
       "      <td>1.0</td>\n",
       "      <td>2018-06-24</td>\n",
       "      <td>24</td>\n",
       "    </tr>\n",
       "    <tr>\n",
       "      <th>51071</th>\n",
       "      <td>5300</td>\n",
       "      <td>2001.0</td>\n",
       "      <td>toyota tundra</td>\n",
       "      <td>good</td>\n",
       "      <td>8.0</td>\n",
       "      <td>gas</td>\n",
       "      <td>185000.0</td>\n",
       "      <td>automatic</td>\n",
       "      <td>pickup</td>\n",
       "      <td>purple</td>\n",
       "      <td>1.0</td>\n",
       "      <td>2019-04-08</td>\n",
       "      <td>86</td>\n",
       "    </tr>\n",
       "    <tr>\n",
       "      <th>27015</th>\n",
       "      <td>5699</td>\n",
       "      <td>2004.0</td>\n",
       "      <td>ford f150</td>\n",
       "      <td>good</td>\n",
       "      <td>8.0</td>\n",
       "      <td>gas</td>\n",
       "      <td>105000.0</td>\n",
       "      <td>automatic</td>\n",
       "      <td>truck</td>\n",
       "      <td>blue</td>\n",
       "      <td>NaN</td>\n",
       "      <td>2018-11-30</td>\n",
       "      <td>29</td>\n",
       "    </tr>\n",
       "    <tr>\n",
       "      <th>2813</th>\n",
       "      <td>13995</td>\n",
       "      <td>2009.0</td>\n",
       "      <td>gmc sierra 1500</td>\n",
       "      <td>excellent</td>\n",
       "      <td>8.0</td>\n",
       "      <td>gas</td>\n",
       "      <td>129986.0</td>\n",
       "      <td>automatic</td>\n",
       "      <td>truck</td>\n",
       "      <td>grey</td>\n",
       "      <td>1.0</td>\n",
       "      <td>2018-09-14</td>\n",
       "      <td>43</td>\n",
       "    </tr>\n",
       "    <tr>\n",
       "      <th>18268</th>\n",
       "      <td>28990</td>\n",
       "      <td>2011.0</td>\n",
       "      <td>ford econoline</td>\n",
       "      <td>good</td>\n",
       "      <td>10.0</td>\n",
       "      <td>gas</td>\n",
       "      <td>17037.0</td>\n",
       "      <td>automatic</td>\n",
       "      <td>bus</td>\n",
       "      <td>white</td>\n",
       "      <td>NaN</td>\n",
       "      <td>2018-07-27</td>\n",
       "      <td>51</td>\n",
       "    </tr>\n",
       "    <tr>\n",
       "      <th>4465</th>\n",
       "      <td>14995</td>\n",
       "      <td>2013.0</td>\n",
       "      <td>honda cr-v</td>\n",
       "      <td>excellent</td>\n",
       "      <td>4.0</td>\n",
       "      <td>gas</td>\n",
       "      <td>NaN</td>\n",
       "      <td>automatic</td>\n",
       "      <td>wagon</td>\n",
       "      <td>brown</td>\n",
       "      <td>1.0</td>\n",
       "      <td>2018-09-21</td>\n",
       "      <td>45</td>\n",
       "    </tr>\n",
       "  </tbody>\n",
       "</table>\n",
       "</div>"
      ],
      "text/plain": [
       "       price  model_year            model  condition  cylinders fuel  \\\n",
       "42472   4200         NaN    nissan sentra  excellent        NaN  gas   \n",
       "28283   6500      2001.0    jeep wrangler       good        6.0  gas   \n",
       "13757   8595      2010.0    nissan murano  excellent        6.0  gas   \n",
       "12195   3500      2002.0     jeep liberty  excellent        6.0  gas   \n",
       "13382   6800      2004.0       gmc sierra       good        8.0  gas   \n",
       "51071   5300      2001.0    toyota tundra       good        8.0  gas   \n",
       "27015   5699      2004.0        ford f150       good        8.0  gas   \n",
       "2813   13995      2009.0  gmc sierra 1500  excellent        8.0  gas   \n",
       "18268  28990      2011.0   ford econoline       good       10.0  gas   \n",
       "4465   14995      2013.0       honda cr-v  excellent        4.0  gas   \n",
       "\n",
       "       odometer transmission     type paint_color  is_4wd date_posted  \\\n",
       "42472  120000.0    automatic    sedan         NaN     NaN  2019-04-17   \n",
       "28283  186000.0       manual  offroad        grey     1.0  2018-10-02   \n",
       "13757       NaN    automatic      SUV        grey     1.0  2019-03-26   \n",
       "12195  238000.0    automatic      SUV      silver     NaN  2018-11-19   \n",
       "13382  127300.0    automatic    truck       black     1.0  2018-06-24   \n",
       "51071  185000.0    automatic   pickup      purple     1.0  2019-04-08   \n",
       "27015  105000.0    automatic    truck        blue     NaN  2018-11-30   \n",
       "2813   129986.0    automatic    truck        grey     1.0  2018-09-14   \n",
       "18268   17037.0    automatic      bus       white     NaN  2018-07-27   \n",
       "4465        NaN    automatic    wagon       brown     1.0  2018-09-21   \n",
       "\n",
       "       days_listed  \n",
       "42472            6  \n",
       "28283           48  \n",
       "13757           30  \n",
       "12195           37  \n",
       "13382           24  \n",
       "51071           86  \n",
       "27015           29  \n",
       "2813            43  \n",
       "18268           51  \n",
       "4465            45  "
      ]
     },
     "execution_count": 521,
     "metadata": {},
     "output_type": "execute_result"
    }
   ],
   "source": [
    "# imprimindo uma amostragem dos dados em 10 linhas\n",
    "df.sample(10)"
   ]
  },
  {
   "cell_type": "markdown",
   "metadata": {},
   "source": [
    "Nas informações gerais notamos que exitem 5 colunas com dados ausentes e algumas colunas também estão com tipos de dados inapropriadas. \n",
    "Na amostragem dos dados podemos observar 10 linhas escolhidas aleatóriamente, algumas colunas tem dados ausentes, a coluna do ano do carro está em casa decimal ao invés de números inteiros. "
   ]
  },
  {
   "cell_type": "markdown",
   "metadata": {},
   "source": [
    "Agora vamos observar quais são as colunas possuem dados ausentes e a quantidade:"
   ]
  },
  {
   "cell_type": "code",
   "execution_count": 522,
   "metadata": {},
   "outputs": [
    {
     "data": {
      "text/plain": [
       "price               0\n",
       "model_year       3619\n",
       "model               0\n",
       "condition           0\n",
       "cylinders        5260\n",
       "fuel                0\n",
       "odometer         7892\n",
       "transmission        0\n",
       "type                0\n",
       "paint_color      9267\n",
       "is_4wd          25953\n",
       "date_posted         0\n",
       "days_listed         0\n",
       "dtype: int64"
      ]
     },
     "execution_count": 522,
     "metadata": {},
     "output_type": "execute_result"
    }
   ],
   "source": [
    "df.isna().sum()\n",
    "# total de valores nulos em cada coluna"
   ]
  },
  {
   "cell_type": "markdown",
   "metadata": {},
   "source": [
    "As colunas que possuem dados ausentes: model_year (3619), cylinders (5260), odometer (7892), paint_color (9267) e is_4wd (25953). Não observo simetria nos dados ausentes, cada coluna possue uma quantidade diferente de dados faltantes. Sendo is_4wd o maior deles."
   ]
  },
  {
   "cell_type": "code",
   "execution_count": 523,
   "metadata": {},
   "outputs": [
    {
     "name": "stdout",
     "output_type": "stream",
     "text": [
      "50.37 %\n"
     ]
    }
   ],
   "source": [
    "print((df['is_4wd'].isna().sum()*100/len(df)).round(3),'%') "
   ]
  },
  {
   "cell_type": "markdown",
   "metadata": {},
   "source": [
    "Porcentagem de valores nulos da coluna is_4wd com relação ao total de linhas em df é de 50.37 %"
   ]
  },
  {
   "cell_type": "code",
   "execution_count": 524,
   "metadata": {},
   "outputs": [
    {
     "name": "stdout",
     "output_type": "stream",
     "text": [
      "1        0.015488\n",
      "6995     0.013954\n",
      "5995     0.012712\n",
      "4995     0.012111\n",
      "3500     0.012033\n",
      "           ...   \n",
      "58500    0.000019\n",
      "3993     0.000019\n",
      "32987    0.000019\n",
      "3744     0.000019\n",
      "7455     0.000019\n",
      "Name: price, Length: 3443, dtype: float64\n",
      "========\n",
      "NaN       0.070238\n",
      "2013.0    0.068879\n",
      "2012.0    0.067307\n",
      "2014.0    0.066919\n",
      "2011.0    0.065502\n",
      "            ...   \n",
      "1948.0    0.000019\n",
      "1961.0    0.000019\n",
      "1936.0    0.000019\n",
      "1949.0    0.000019\n",
      "1929.0    0.000019\n",
      "Name: model_year, Length: 69, dtype: float64\n",
      "========\n",
      "ford f-150                           0.054265\n",
      "chevrolet silverado 1500             0.042135\n",
      "ram 1500                             0.033964\n",
      "chevrolet silverado                  0.024668\n",
      "jeep wrangler                        0.021718\n",
      "                                       ...   \n",
      "ford f-250 super duty                0.004677\n",
      "acura tl                             0.004580\n",
      "kia sorento                          0.004580\n",
      "nissan murano                        0.004561\n",
      "mercedes-benz benze sprinter 2500    0.000796\n",
      "Name: model, Length: 100, dtype: float64\n",
      "========\n",
      "excellent    0.480796\n",
      "good         0.390975\n",
      "like new     0.092033\n",
      "fair         0.031189\n",
      "new          0.002775\n",
      "salvage      0.002232\n",
      "Name: condition, dtype: float64\n",
      "========\n",
      "8.0     0.307501\n",
      "6.0     0.304706\n",
      "4.0     0.269073\n",
      "NaN     0.102086\n",
      "10.0    0.010655\n",
      "5.0     0.005279\n",
      "3.0     0.000660\n",
      "12.0    0.000039\n",
      "Name: cylinders, dtype: float64\n",
      "========\n",
      "gas         0.917768\n",
      "diesel      0.072082\n",
      "hybrid      0.007938\n",
      "other       0.002096\n",
      "electric    0.000116\n",
      "Name: fuel, dtype: float64\n",
      "========\n",
      "NaN         0.153168\n",
      "0.0         0.003590\n",
      "140000.0    0.003552\n",
      "120000.0    0.003474\n",
      "130000.0    0.003455\n",
      "              ...   \n",
      "87836.0     0.000019\n",
      "172625.0    0.000019\n",
      "103597.0    0.000019\n",
      "167239.0    0.000019\n",
      "139573.0    0.000019\n",
      "Name: odometer, Length: 17763, dtype: float64\n",
      "========\n",
      "automatic    0.910277\n",
      "manual       0.054905\n",
      "other        0.034818\n",
      "Name: transmission, dtype: float64\n",
      "========\n",
      "SUV            0.240757\n",
      "truck          0.239748\n",
      "sedan          0.235885\n",
      "pickup         0.135623\n",
      "coupe          0.044697\n",
      "wagon          0.029908\n",
      "mini-van       0.022533\n",
      "hatchback      0.020320\n",
      "van            0.012285\n",
      "convertible    0.008656\n",
      "other          0.004968\n",
      "offroad        0.004153\n",
      "bus            0.000466\n",
      "Name: type, dtype: float64\n",
      "========\n",
      "white     0.194643\n",
      "NaN       0.179854\n",
      "black     0.149287\n",
      "silver    0.121184\n",
      "grey      0.097758\n",
      "blue      0.086851\n",
      "red       0.085803\n",
      "green     0.027094\n",
      "brown     0.023736\n",
      "custom    0.022377\n",
      "yellow    0.004949\n",
      "orange    0.004483\n",
      "purple    0.001980\n",
      "Name: paint_color, dtype: float64\n",
      "========\n",
      "NaN    0.503697\n",
      "1.0    0.496303\n",
      "Name: is_4wd, dtype: float64\n",
      "========\n",
      "2019-03-17    0.003610\n",
      "2019-01-05    0.003571\n",
      "2018-09-20    0.003455\n",
      "2019-03-11    0.003416\n",
      "2018-10-09    0.003377\n",
      "                ...   \n",
      "2018-06-18    0.002310\n",
      "2018-07-04    0.002290\n",
      "2019-01-11    0.002271\n",
      "2018-06-08    0.002271\n",
      "2019-01-04    0.002251\n",
      "Name: date_posted, Length: 354, dtype: float64\n",
      "========\n",
      "18     0.018612\n",
      "24     0.018438\n",
      "22     0.018341\n",
      "19     0.018263\n",
      "20     0.018127\n",
      "         ...   \n",
      "240    0.000019\n",
      "209    0.000019\n",
      "188    0.000019\n",
      "192    0.000019\n",
      "186    0.000019\n",
      "Name: days_listed, Length: 227, dtype: float64\n",
      "========\n"
     ]
    }
   ],
   "source": [
    "# Verificar a distribuição em todo o conjunto de dados\n",
    "for col in ['price', 'model_year', 'model', 'condition','cylinders','fuel','odometer',\n",
    "            'transmission','type','paint_color','is_4wd','date_posted','days_listed']:\n",
    "    print(df[col].value_counts(dropna=False) / len(df))\n",
    "    print('========')"
   ]
  },
  {
   "cell_type": "code",
   "execution_count": 525,
   "metadata": {},
   "outputs": [
    {
     "data": {
      "text/html": [
       "<div>\n",
       "<style scoped>\n",
       "    .dataframe tbody tr th:only-of-type {\n",
       "        vertical-align: middle;\n",
       "    }\n",
       "\n",
       "    .dataframe tbody tr th {\n",
       "        vertical-align: top;\n",
       "    }\n",
       "\n",
       "    .dataframe thead th {\n",
       "        text-align: right;\n",
       "    }\n",
       "</style>\n",
       "<table border=\"1\" class=\"dataframe\">\n",
       "  <thead>\n",
       "    <tr style=\"text-align: right;\">\n",
       "      <th></th>\n",
       "      <th>price</th>\n",
       "      <th>model_year</th>\n",
       "      <th>cylinders</th>\n",
       "      <th>odometer</th>\n",
       "      <th>is_4wd</th>\n",
       "      <th>days_listed</th>\n",
       "    </tr>\n",
       "  </thead>\n",
       "  <tbody>\n",
       "    <tr>\n",
       "      <th>count</th>\n",
       "      <td>51525.000000</td>\n",
       "      <td>47906.000000</td>\n",
       "      <td>46265.000000</td>\n",
       "      <td>43633.000000</td>\n",
       "      <td>25572.0</td>\n",
       "      <td>51525.00000</td>\n",
       "    </tr>\n",
       "    <tr>\n",
       "      <th>mean</th>\n",
       "      <td>12132.464920</td>\n",
       "      <td>2009.750470</td>\n",
       "      <td>6.125235</td>\n",
       "      <td>115553.461738</td>\n",
       "      <td>1.0</td>\n",
       "      <td>39.55476</td>\n",
       "    </tr>\n",
       "    <tr>\n",
       "      <th>std</th>\n",
       "      <td>10040.803015</td>\n",
       "      <td>6.282065</td>\n",
       "      <td>1.660360</td>\n",
       "      <td>65094.611341</td>\n",
       "      <td>0.0</td>\n",
       "      <td>28.20427</td>\n",
       "    </tr>\n",
       "    <tr>\n",
       "      <th>min</th>\n",
       "      <td>1.000000</td>\n",
       "      <td>1908.000000</td>\n",
       "      <td>3.000000</td>\n",
       "      <td>0.000000</td>\n",
       "      <td>1.0</td>\n",
       "      <td>0.00000</td>\n",
       "    </tr>\n",
       "    <tr>\n",
       "      <th>25%</th>\n",
       "      <td>5000.000000</td>\n",
       "      <td>2006.000000</td>\n",
       "      <td>4.000000</td>\n",
       "      <td>70000.000000</td>\n",
       "      <td>1.0</td>\n",
       "      <td>19.00000</td>\n",
       "    </tr>\n",
       "    <tr>\n",
       "      <th>50%</th>\n",
       "      <td>9000.000000</td>\n",
       "      <td>2011.000000</td>\n",
       "      <td>6.000000</td>\n",
       "      <td>113000.000000</td>\n",
       "      <td>1.0</td>\n",
       "      <td>33.00000</td>\n",
       "    </tr>\n",
       "    <tr>\n",
       "      <th>75%</th>\n",
       "      <td>16839.000000</td>\n",
       "      <td>2014.000000</td>\n",
       "      <td>8.000000</td>\n",
       "      <td>155000.000000</td>\n",
       "      <td>1.0</td>\n",
       "      <td>53.00000</td>\n",
       "    </tr>\n",
       "    <tr>\n",
       "      <th>max</th>\n",
       "      <td>375000.000000</td>\n",
       "      <td>2019.000000</td>\n",
       "      <td>12.000000</td>\n",
       "      <td>990000.000000</td>\n",
       "      <td>1.0</td>\n",
       "      <td>271.00000</td>\n",
       "    </tr>\n",
       "  </tbody>\n",
       "</table>\n",
       "</div>"
      ],
      "text/plain": [
       "               price    model_year     cylinders       odometer   is_4wd  \\\n",
       "count   51525.000000  47906.000000  46265.000000   43633.000000  25572.0   \n",
       "mean    12132.464920   2009.750470      6.125235  115553.461738      1.0   \n",
       "std     10040.803015      6.282065      1.660360   65094.611341      0.0   \n",
       "min         1.000000   1908.000000      3.000000       0.000000      1.0   \n",
       "25%      5000.000000   2006.000000      4.000000   70000.000000      1.0   \n",
       "50%      9000.000000   2011.000000      6.000000  113000.000000      1.0   \n",
       "75%     16839.000000   2014.000000      8.000000  155000.000000      1.0   \n",
       "max    375000.000000   2019.000000     12.000000  990000.000000      1.0   \n",
       "\n",
       "       days_listed  \n",
       "count  51525.00000  \n",
       "mean      39.55476  \n",
       "std       28.20427  \n",
       "min        0.00000  \n",
       "25%       19.00000  \n",
       "50%       33.00000  \n",
       "75%       53.00000  \n",
       "max      271.00000  "
      ]
     },
     "execution_count": 525,
     "metadata": {},
     "output_type": "execute_result"
    }
   ],
   "source": [
    "df.describe()"
   ]
  },
  {
   "cell_type": "markdown",
   "metadata": {},
   "source": [
    "   Na coluna price, observamos valores incomuns, na coluna is_4wd observamos apenas o valor 1 para metade das linhas, como a coluna corresponde a valores booleanos acredito que os valores NaN são correspondentes a valores 0. Todas as colunas com dados ausentes precisam ser tratadas."
   ]
  },
  {
   "cell_type": "markdown",
   "metadata": {},
   "source": [
    "### Conclusões e próximos passos\n",
    "\n",
    "O dataframe possue 13 colunas com informações diversas sobre os carros para venda, poderemos analisar com detalhes quais fatores influenciaram o preço de um veículo. Para prosseguir com a análise precisamos adequar os dados e corrigí-los, então precisaremos ver se os dados possuem valores com duplicatas e também precisaremos checar e preencher dados ausentes para cada coluna observada. Após esses passos teremos os dados limpos para seguir a análise.\n"
   ]
  },
  {
   "cell_type": "markdown",
   "metadata": {},
   "source": [
    "### Verificando duplicatas\n",
    "Checando existência de duplicatas em nossos dados:"
   ]
  },
  {
   "cell_type": "code",
   "execution_count": 526,
   "metadata": {},
   "outputs": [
    {
     "data": {
      "text/plain": [
       "0"
      ]
     },
     "execution_count": 526,
     "metadata": {},
     "output_type": "execute_result"
    }
   ],
   "source": [
    "# Verificando duplicatas\n",
    "df.duplicated().sum()"
   ]
  },
  {
   "cell_type": "markdown",
   "metadata": {},
   "source": [
    "Os dados não possuem valores duplicados."
   ]
  },
  {
   "cell_type": "markdown",
   "metadata": {},
   "source": [
    "## Valores ausentes"
   ]
  },
  {
   "cell_type": "markdown",
   "metadata": {},
   "source": [
    "Vamos verificar cada coluna que possuem dados ausentes (model_years, cylinders, odometer, paint_color e is_4wd)   eparadamente e baseado em hipóteses e analises vamos decidir oque fazer para cada caso."
   ]
  },
  {
   "cell_type": "markdown",
   "metadata": {},
   "source": [
    "### Coluna `model_year`"
   ]
  },
  {
   "cell_type": "code",
   "execution_count": 527,
   "metadata": {},
   "outputs": [
    {
     "data": {
      "text/plain": [
       "3619"
      ]
     },
     "execution_count": 527,
     "metadata": {},
     "output_type": "execute_result"
    }
   ],
   "source": [
    "df['model_year'].isna().sum() #temos 3619 valores ausentes"
   ]
  },
  {
   "cell_type": "code",
   "execution_count": 528,
   "metadata": {},
   "outputs": [
    {
     "data": {
      "text/plain": [
       "count    47906.000000\n",
       "mean      2009.750470\n",
       "std          6.282065\n",
       "min       1908.000000\n",
       "25%       2006.000000\n",
       "50%       2011.000000\n",
       "75%       2014.000000\n",
       "max       2019.000000\n",
       "Name: model_year, dtype: float64"
      ]
     },
     "execution_count": 528,
     "metadata": {},
     "output_type": "execute_result"
    }
   ],
   "source": [
    "df['model_year'].describe()"
   ]
  },
  {
   "cell_type": "code",
   "execution_count": 529,
   "metadata": {},
   "outputs": [
    {
     "name": "stdout",
     "output_type": "stream",
     "text": [
      "valor da mediana: 2011.0\n",
      "valor da média: 2009.75046966977\n"
     ]
    }
   ],
   "source": [
    "model_year_median = df['model_year'].median()\n",
    "model_year_mean = df['model_year'].mean()\n",
    "print(f'valor da mediana: {model_year_median}')\n",
    "print(f'valor da média: {model_year_mean}')"
   ]
  },
  {
   "cell_type": "markdown",
   "metadata": {},
   "source": [
    "Como a mediana é menos sensível a outliers, vamos substituir os valores ausentes pelo valor da mediana."
   ]
  },
  {
   "cell_type": "code",
   "execution_count": 530,
   "metadata": {},
   "outputs": [],
   "source": [
    "df['model_year'] = df['model_year'].fillna(df['model_year'].median()) #substituindo pela mediana"
   ]
  },
  {
   "cell_type": "code",
   "execution_count": 531,
   "metadata": {},
   "outputs": [
    {
     "data": {
      "text/plain": [
       "0"
      ]
     },
     "execution_count": 531,
     "metadata": {},
     "output_type": "execute_result"
    }
   ],
   "source": [
    "df['model_year'].isna().sum() #checando se a coluna ainda possue dados ausentes"
   ]
  },
  {
   "cell_type": "markdown",
   "metadata": {},
   "source": [
    "### Coluna `cylinders`"
   ]
  },
  {
   "cell_type": "code",
   "execution_count": 532,
   "metadata": {},
   "outputs": [
    {
     "data": {
      "text/plain": [
       "5260"
      ]
     },
     "execution_count": 532,
     "metadata": {},
     "output_type": "execute_result"
    }
   ],
   "source": [
    "df['cylinders'].isna().sum() #temos 5260 valores ausentes"
   ]
  },
  {
   "cell_type": "code",
   "execution_count": 533,
   "metadata": {},
   "outputs": [
    {
     "data": {
      "text/plain": [
       "count    46265.000000\n",
       "mean         6.125235\n",
       "std          1.660360\n",
       "min          3.000000\n",
       "25%          4.000000\n",
       "50%          6.000000\n",
       "75%          8.000000\n",
       "max         12.000000\n",
       "Name: cylinders, dtype: float64"
      ]
     },
     "execution_count": 533,
     "metadata": {},
     "output_type": "execute_result"
    }
   ],
   "source": [
    "df['cylinders'].describe() # podemos perceber pelo describe que a média e a mediana tem praticamente mesmos valores"
   ]
  },
  {
   "cell_type": "code",
   "execution_count": 534,
   "metadata": {},
   "outputs": [
    {
     "data": {
      "text/plain": [
       "8.0     15844\n",
       "6.0     15700\n",
       "4.0     13864\n",
       "10.0      549\n",
       "5.0       272\n",
       "3.0        34\n",
       "12.0        2\n",
       "Name: cylinders, dtype: int64"
      ]
     },
     "execution_count": 534,
     "metadata": {},
     "output_type": "execute_result"
    }
   ],
   "source": [
    "df['cylinders'].value_counts()"
   ]
  },
  {
   "cell_type": "code",
   "execution_count": 535,
   "metadata": {},
   "outputs": [],
   "source": [
    "df['cylinders'] = df['cylinders'].fillna(df['cylinders'].median()) # substituindo pela mediana"
   ]
  },
  {
   "cell_type": "code",
   "execution_count": 536,
   "metadata": {},
   "outputs": [
    {
     "data": {
      "text/plain": [
       "0"
      ]
     },
     "execution_count": 536,
     "metadata": {},
     "output_type": "execute_result"
    }
   ],
   "source": [
    "df['cylinders'].isna().sum() # checando se a coluna ainda possue dados ausentes"
   ]
  },
  {
   "cell_type": "code",
   "execution_count": 537,
   "metadata": {},
   "outputs": [
    {
     "data": {
      "text/plain": [
       "6.0     20960\n",
       "8.0     15844\n",
       "4.0     13864\n",
       "10.0      549\n",
       "5.0       272\n",
       "3.0        34\n",
       "12.0        2\n",
       "Name: cylinders, dtype: int64"
      ]
     },
     "execution_count": 537,
     "metadata": {},
     "output_type": "execute_result"
    }
   ],
   "source": [
    "df['cylinders'].value_counts()"
   ]
  },
  {
   "cell_type": "markdown",
   "metadata": {},
   "source": [
    "### Coluna `odometer`"
   ]
  },
  {
   "cell_type": "code",
   "execution_count": 538,
   "metadata": {},
   "outputs": [
    {
     "data": {
      "text/plain": [
       "7892"
      ]
     },
     "execution_count": 538,
     "metadata": {},
     "output_type": "execute_result"
    }
   ],
   "source": [
    "df['odometer'].isna().sum() # temos 7892 valores ausentes"
   ]
  },
  {
   "cell_type": "code",
   "execution_count": 539,
   "metadata": {},
   "outputs": [
    {
     "data": {
      "text/plain": [
       "count     43633.000000\n",
       "mean     115553.461738\n",
       "std       65094.611341\n",
       "min           0.000000\n",
       "25%       70000.000000\n",
       "50%      113000.000000\n",
       "75%      155000.000000\n",
       "max      990000.000000\n",
       "Name: odometer, dtype: float64"
      ]
     },
     "execution_count": 539,
     "metadata": {},
     "output_type": "execute_result"
    }
   ],
   "source": [
    "df['odometer'].describe()"
   ]
  },
  {
   "cell_type": "code",
   "execution_count": 540,
   "metadata": {},
   "outputs": [
    {
     "data": {
      "text/plain": [
       "0.0         185\n",
       "140000.0    183\n",
       "120000.0    179\n",
       "130000.0    178\n",
       "160000.0    167\n",
       "           ... \n",
       "138580.0      1\n",
       "94624.0       1\n",
       "123321.0      1\n",
       "202627.0      1\n",
       "139573.0      1\n",
       "Name: odometer, Length: 17762, dtype: int64"
      ]
     },
     "execution_count": 540,
     "metadata": {},
     "output_type": "execute_result"
    }
   ],
   "source": [
    "df['odometer'].value_counts()"
   ]
  },
  {
   "cell_type": "code",
   "execution_count": 541,
   "metadata": {},
   "outputs": [],
   "source": [
    "df['odometer'] = df['odometer'].fillna(df['odometer'].median()) # substituindo pela mediana"
   ]
  },
  {
   "cell_type": "code",
   "execution_count": 542,
   "metadata": {},
   "outputs": [
    {
     "data": {
      "text/plain": [
       "0"
      ]
     },
     "execution_count": 542,
     "metadata": {},
     "output_type": "execute_result"
    }
   ],
   "source": [
    "df['odometer'].isna().sum() # checando se a coluna ainda possue dados ausentes"
   ]
  },
  {
   "cell_type": "markdown",
   "metadata": {},
   "source": [
    "### Coluna `paint_color`"
   ]
  },
  {
   "cell_type": "code",
   "execution_count": 543,
   "metadata": {},
   "outputs": [
    {
     "data": {
      "text/plain": [
       "9267"
      ]
     },
     "execution_count": 543,
     "metadata": {},
     "output_type": "execute_result"
    }
   ],
   "source": [
    "df['paint_color'].isna().sum() # temos 9267 valores ausentes"
   ]
  },
  {
   "cell_type": "code",
   "execution_count": 544,
   "metadata": {},
   "outputs": [
    {
     "data": {
      "text/plain": [
       "count     42258\n",
       "unique       12\n",
       "top       white\n",
       "freq      10029\n",
       "Name: paint_color, dtype: object"
      ]
     },
     "execution_count": 544,
     "metadata": {},
     "output_type": "execute_result"
    }
   ],
   "source": [
    "df['paint_color'].describe() # neste caso a coluna é preenchida com string"
   ]
  },
  {
   "cell_type": "code",
   "execution_count": 545,
   "metadata": {},
   "outputs": [
    {
     "data": {
      "text/plain": [
       "white     10029\n",
       "black      7692\n",
       "silver     6244\n",
       "grey       5037\n",
       "blue       4475\n",
       "red        4421\n",
       "green      1396\n",
       "brown      1223\n",
       "custom     1153\n",
       "yellow      255\n",
       "orange      231\n",
       "purple      102\n",
       "Name: paint_color, dtype: int64"
      ]
     },
     "execution_count": 545,
     "metadata": {},
     "output_type": "execute_result"
    }
   ],
   "source": [
    "df['paint_color'].value_counts() # esses são as cores e o número de linhas que temos para cada"
   ]
  },
  {
   "cell_type": "markdown",
   "metadata": {},
   "source": [
    "Como os dados desta coluna são categóricos não podemos preenche-los com valores como média ou mediana, então podemos preencher com uma string sem texto ou com o texto unknown (desconhecido). Neste caso eu vou escolher colocar como uma cor desconhecida colocando nas linhas NaN o valor de unknown."
   ]
  },
  {
   "cell_type": "code",
   "execution_count": 546,
   "metadata": {},
   "outputs": [
    {
     "data": {
      "text/plain": [
       "0"
      ]
     },
     "execution_count": 546,
     "metadata": {},
     "output_type": "execute_result"
    }
   ],
   "source": [
    "df['paint_color'] = df['paint_color'].fillna('unknown') # substituindo para unknown\n",
    "df['paint_color'].isna().sum() # checando se os dados foram preenchidos"
   ]
  },
  {
   "cell_type": "code",
   "execution_count": 547,
   "metadata": {},
   "outputs": [
    {
     "data": {
      "text/plain": [
       "white      10029\n",
       "unknown     9267\n",
       "black       7692\n",
       "silver      6244\n",
       "grey        5037\n",
       "blue        4475\n",
       "red         4421\n",
       "green       1396\n",
       "brown       1223\n",
       "custom      1153\n",
       "yellow       255\n",
       "orange       231\n",
       "purple       102\n",
       "Name: paint_color, dtype: int64"
      ]
     },
     "execution_count": 547,
     "metadata": {},
     "output_type": "execute_result"
    }
   ],
   "source": [
    "df['paint_color'].value_counts() # checando a nova lista de valores da coluna paint_color"
   ]
  },
  {
   "cell_type": "markdown",
   "metadata": {},
   "source": [
    "### Coluna `is_4wd`"
   ]
  },
  {
   "cell_type": "code",
   "execution_count": 548,
   "metadata": {},
   "outputs": [
    {
     "data": {
      "text/plain": [
       "25953"
      ]
     },
     "execution_count": 548,
     "metadata": {},
     "output_type": "execute_result"
    }
   ],
   "source": [
    "df['is_4wd'].isna().sum() # temos 25953 valores ausentes"
   ]
  },
  {
   "cell_type": "code",
   "execution_count": 549,
   "metadata": {},
   "outputs": [
    {
     "data": {
      "text/plain": [
       "count    25572.0\n",
       "mean         1.0\n",
       "std          0.0\n",
       "min          1.0\n",
       "25%          1.0\n",
       "50%          1.0\n",
       "75%          1.0\n",
       "max          1.0\n",
       "Name: is_4wd, dtype: float64"
      ]
     },
     "execution_count": 549,
     "metadata": {},
     "output_type": "execute_result"
    }
   ],
   "source": [
    "df['is_4wd'].describe() # podemos perceber que todos os dados preenchidos são iguais a 1"
   ]
  },
  {
   "cell_type": "code",
   "execution_count": 550,
   "metadata": {},
   "outputs": [
    {
     "data": {
      "text/plain": [
       "1.0    25572\n",
       "Name: is_4wd, dtype: int64"
      ]
     },
     "execution_count": 550,
     "metadata": {},
     "output_type": "execute_result"
    }
   ],
   "source": [
    "df['is_4wd'].value_counts() # esta coluna só tem valor 1 e NaN, uma coluna booleana  o outro valor NaN é 0"
   ]
  },
  {
   "cell_type": "code",
   "execution_count": 551,
   "metadata": {},
   "outputs": [
    {
     "data": {
      "text/plain": [
       "0"
      ]
     },
     "execution_count": 551,
     "metadata": {},
     "output_type": "execute_result"
    }
   ],
   "source": [
    "df['is_4wd'] = df['is_4wd'].fillna(0)\n",
    "df['is_4wd'].isna().sum()"
   ]
  },
  {
   "cell_type": "code",
   "execution_count": 552,
   "metadata": {},
   "outputs": [
    {
     "data": {
      "text/plain": [
       "0.0    25953\n",
       "1.0    25572\n",
       "Name: is_4wd, dtype: int64"
      ]
     },
     "execution_count": 552,
     "metadata": {},
     "output_type": "execute_result"
    }
   ],
   "source": [
    "df['is_4wd'].value_counts()"
   ]
  },
  {
   "cell_type": "markdown",
   "metadata": {},
   "source": [
    "### Atualização do dataframe com o preenchimento dos dados ausentes"
   ]
  },
  {
   "cell_type": "code",
   "execution_count": 553,
   "metadata": {},
   "outputs": [
    {
     "name": "stdout",
     "output_type": "stream",
     "text": [
      "<class 'pandas.core.frame.DataFrame'>\n",
      "RangeIndex: 51525 entries, 0 to 51524\n",
      "Data columns (total 13 columns):\n",
      " #   Column        Non-Null Count  Dtype  \n",
      "---  ------        --------------  -----  \n",
      " 0   price         51525 non-null  int64  \n",
      " 1   model_year    51525 non-null  float64\n",
      " 2   model         51525 non-null  object \n",
      " 3   condition     51525 non-null  object \n",
      " 4   cylinders     51525 non-null  float64\n",
      " 5   fuel          51525 non-null  object \n",
      " 6   odometer      51525 non-null  float64\n",
      " 7   transmission  51525 non-null  object \n",
      " 8   type          51525 non-null  object \n",
      " 9   paint_color   51525 non-null  object \n",
      " 10  is_4wd        51525 non-null  float64\n",
      " 11  date_posted   51525 non-null  object \n",
      " 12  days_listed   51525 non-null  int64  \n",
      "dtypes: float64(4), int64(2), object(7)\n",
      "memory usage: 5.1+ MB\n"
     ]
    }
   ],
   "source": [
    "df.info() # todas as colunas estão com todos os dados preenchidos"
   ]
  },
  {
   "cell_type": "markdown",
   "metadata": {},
   "source": [
    "## Corrijindo os tipos de dados"
   ]
  },
  {
   "cell_type": "code",
   "execution_count": 554,
   "metadata": {},
   "outputs": [],
   "source": [
    " df['model_year'] = df['model_year'].astype('int') # corrigindo a coluna model_year para inteiro"
   ]
  },
  {
   "cell_type": "code",
   "execution_count": 555,
   "metadata": {},
   "outputs": [],
   "source": [
    "df['is_4wd'] = df['is_4wd'].astype('int') # corrigindo a coluna is_4wd para inteiro"
   ]
  },
  {
   "cell_type": "code",
   "execution_count": 556,
   "metadata": {},
   "outputs": [],
   "source": [
    "df['date_posted'] = pd.to_datetime(df['date_posted'],format='%Y-%m-%d') # corrigindo a coluna date_posted para datetime"
   ]
  },
  {
   "cell_type": "markdown",
   "metadata": {},
   "source": [
    "Fizemos as correções dos tipos de dados que representam cada coluna."
   ]
  },
  {
   "cell_type": "markdown",
   "metadata": {},
   "source": [
    "## Enriquecendo os dados"
   ]
  },
  {
   "cell_type": "markdown",
   "metadata": {},
   "source": [
    "Adicionando novas colunas aos dados para tornar a análise mais robusta."
   ]
  },
  {
   "cell_type": "code",
   "execution_count": 557,
   "metadata": {},
   "outputs": [],
   "source": [
    "# Adicionando colunas com valores de dia da semana,  mês e ano da data postada.\n",
    "\n",
    "# Dia da semana de postagem\n",
    "df['weekday_posted'] = df['date_posted'].dt.weekday\n",
    "\n",
    "# Mês de postagem\n",
    "df['month_posted'] = df['date_posted'].dt.month\n",
    "\n",
    "# Ano de postagem\n",
    "df['year_posted'] = df['date_posted'].dt.year"
   ]
  },
  {
   "cell_type": "code",
   "execution_count": 558,
   "metadata": {},
   "outputs": [],
   "source": [
    "# Adicionando a idade do veículo quando a propaganda foi colocada\n",
    "df['car_age'] = df['year_posted'] - df['model_year']"
   ]
  },
  {
   "cell_type": "markdown",
   "metadata": {},
   "source": [
    "Quando `car_age` for 0, significa que o carro esta no primeiro ano de uso, se tem 1 ano significa que ele tem entre 12 meses a 23 meses de uso, logo podemos somar df['car_age'] + 1 no denominador."
   ]
  },
  {
   "cell_type": "code",
   "execution_count": 559,
   "metadata": {},
   "outputs": [],
   "source": [
    "# Adicionando a quilometragem média por ano\n",
    "df['km_per_year'] = df['odometer']/(df['car_age'] + 1)"
   ]
  },
  {
   "cell_type": "markdown",
   "metadata": {},
   "source": [
    "Na coluna `condition`, vamos substituir os valores de string por uma escala numérica:\n",
    "\n",
    "novo = 5\n",
    "\n",
    "como novo = 4\n",
    "\n",
    "excellente = 3\n",
    "\n",
    "bom = 2\n",
    "\n",
    "razoável = 1\n",
    "\n",
    "sucata = 0"
   ]
  },
  {
   "cell_type": "code",
   "execution_count": 560,
   "metadata": {},
   "outputs": [
    {
     "data": {
      "text/plain": [
       "excellent    24773\n",
       "good         20145\n",
       "like new      4742\n",
       "fair          1607\n",
       "new            143\n",
       "salvage        115\n",
       "Name: condition, dtype: int64"
      ]
     },
     "execution_count": 560,
     "metadata": {},
     "output_type": "execute_result"
    }
   ],
   "source": [
    "df['condition'].value_counts()"
   ]
  },
  {
   "cell_type": "code",
   "execution_count": 561,
   "metadata": {},
   "outputs": [],
   "source": [
    "# Isso deve ajudar a substituir os valores condicionais por alguma coisa que pode ser manipulada mais facilmente\n",
    "def condition_car(item):\n",
    "    if item == 'new':\n",
    "        return item.replace('new','5')\n",
    "    if item == 'like new':\n",
    "        return item.replace('like new','4')\n",
    "    if item == 'excellent':\n",
    "        return item.replace('excellent','3')\n",
    "    if item == 'good':\n",
    "        return item.replace('good','2')\n",
    "    if item == 'fair':\n",
    "        return item.replace('fair','1')\n",
    "    return item.replace('salvage','0')\n"
   ]
  },
  {
   "cell_type": "code",
   "execution_count": 562,
   "metadata": {},
   "outputs": [
    {
     "data": {
      "text/plain": [
       "3    24773\n",
       "2    20145\n",
       "4     4742\n",
       "1     1607\n",
       "5      143\n",
       "0      115\n",
       "Name: condition, dtype: int64"
      ]
     },
     "execution_count": 562,
     "metadata": {},
     "output_type": "execute_result"
    }
   ],
   "source": [
    "df['condition'] = df['condition'].apply(condition_car)\n",
    "df['condition'].value_counts()\n"
   ]
  },
  {
   "cell_type": "code",
   "execution_count": 563,
   "metadata": {},
   "outputs": [],
   "source": [
    "df['condition'] = df['condition'].astype(int)"
   ]
  },
  {
   "cell_type": "markdown",
   "metadata": {},
   "source": [
    "## Verificando os dados limpos"
   ]
  },
  {
   "cell_type": "markdown",
   "metadata": {},
   "source": [
    "Os dados estão prontos para a análise."
   ]
  },
  {
   "cell_type": "code",
   "execution_count": 564,
   "metadata": {},
   "outputs": [
    {
     "name": "stdout",
     "output_type": "stream",
     "text": [
      "<class 'pandas.core.frame.DataFrame'>\n",
      "RangeIndex: 51525 entries, 0 to 51524\n",
      "Data columns (total 18 columns):\n",
      " #   Column          Non-Null Count  Dtype         \n",
      "---  ------          --------------  -----         \n",
      " 0   price           51525 non-null  int64         \n",
      " 1   model_year      51525 non-null  int64         \n",
      " 2   model           51525 non-null  object        \n",
      " 3   condition       51525 non-null  int64         \n",
      " 4   cylinders       51525 non-null  float64       \n",
      " 5   fuel            51525 non-null  object        \n",
      " 6   odometer        51525 non-null  float64       \n",
      " 7   transmission    51525 non-null  object        \n",
      " 8   type            51525 non-null  object        \n",
      " 9   paint_color     51525 non-null  object        \n",
      " 10  is_4wd          51525 non-null  int64         \n",
      " 11  date_posted     51525 non-null  datetime64[ns]\n",
      " 12  days_listed     51525 non-null  int64         \n",
      " 13  weekday_posted  51525 non-null  int64         \n",
      " 14  month_posted    51525 non-null  int64         \n",
      " 15  year_posted     51525 non-null  int64         \n",
      " 16  car_age         51525 non-null  int64         \n",
      " 17  km_per_year     51525 non-null  float64       \n",
      "dtypes: datetime64[ns](1), float64(3), int64(9), object(5)\n",
      "memory usage: 7.1+ MB\n"
     ]
    }
   ],
   "source": [
    "# imprimindo as informações gerais/resumidas sobre o DataFrame\n",
    "df.info()"
   ]
  },
  {
   "cell_type": "code",
   "execution_count": 565,
   "metadata": {},
   "outputs": [
    {
     "data": {
      "text/html": [
       "<div>\n",
       "<style scoped>\n",
       "    .dataframe tbody tr th:only-of-type {\n",
       "        vertical-align: middle;\n",
       "    }\n",
       "\n",
       "    .dataframe tbody tr th {\n",
       "        vertical-align: top;\n",
       "    }\n",
       "\n",
       "    .dataframe thead th {\n",
       "        text-align: right;\n",
       "    }\n",
       "</style>\n",
       "<table border=\"1\" class=\"dataframe\">\n",
       "  <thead>\n",
       "    <tr style=\"text-align: right;\">\n",
       "      <th></th>\n",
       "      <th>price</th>\n",
       "      <th>model_year</th>\n",
       "      <th>model</th>\n",
       "      <th>condition</th>\n",
       "      <th>cylinders</th>\n",
       "      <th>fuel</th>\n",
       "      <th>odometer</th>\n",
       "      <th>transmission</th>\n",
       "      <th>type</th>\n",
       "      <th>paint_color</th>\n",
       "      <th>is_4wd</th>\n",
       "      <th>date_posted</th>\n",
       "      <th>days_listed</th>\n",
       "      <th>weekday_posted</th>\n",
       "      <th>month_posted</th>\n",
       "      <th>year_posted</th>\n",
       "      <th>car_age</th>\n",
       "      <th>km_per_year</th>\n",
       "    </tr>\n",
       "  </thead>\n",
       "  <tbody>\n",
       "    <tr>\n",
       "      <th>51342</th>\n",
       "      <td>40990</td>\n",
       "      <td>2016</td>\n",
       "      <td>ram 1500</td>\n",
       "      <td>3</td>\n",
       "      <td>8.0</td>\n",
       "      <td>diesel</td>\n",
       "      <td>107930.0</td>\n",
       "      <td>automatic</td>\n",
       "      <td>truck</td>\n",
       "      <td>white</td>\n",
       "      <td>1</td>\n",
       "      <td>2019-03-17</td>\n",
       "      <td>23</td>\n",
       "      <td>6</td>\n",
       "      <td>3</td>\n",
       "      <td>2019</td>\n",
       "      <td>3</td>\n",
       "      <td>26982.500000</td>\n",
       "    </tr>\n",
       "    <tr>\n",
       "      <th>24351</th>\n",
       "      <td>15900</td>\n",
       "      <td>2010</td>\n",
       "      <td>toyota tundra</td>\n",
       "      <td>3</td>\n",
       "      <td>8.0</td>\n",
       "      <td>gas</td>\n",
       "      <td>141400.0</td>\n",
       "      <td>automatic</td>\n",
       "      <td>pickup</td>\n",
       "      <td>blue</td>\n",
       "      <td>1</td>\n",
       "      <td>2018-06-10</td>\n",
       "      <td>61</td>\n",
       "      <td>6</td>\n",
       "      <td>6</td>\n",
       "      <td>2018</td>\n",
       "      <td>8</td>\n",
       "      <td>15711.111111</td>\n",
       "    </tr>\n",
       "    <tr>\n",
       "      <th>11110</th>\n",
       "      <td>52000</td>\n",
       "      <td>2013</td>\n",
       "      <td>hyundai elantra</td>\n",
       "      <td>2</td>\n",
       "      <td>4.0</td>\n",
       "      <td>gas</td>\n",
       "      <td>92000.0</td>\n",
       "      <td>automatic</td>\n",
       "      <td>sedan</td>\n",
       "      <td>custom</td>\n",
       "      <td>0</td>\n",
       "      <td>2018-11-27</td>\n",
       "      <td>49</td>\n",
       "      <td>1</td>\n",
       "      <td>11</td>\n",
       "      <td>2018</td>\n",
       "      <td>5</td>\n",
       "      <td>15333.333333</td>\n",
       "    </tr>\n",
       "    <tr>\n",
       "      <th>41031</th>\n",
       "      <td>9950</td>\n",
       "      <td>2011</td>\n",
       "      <td>ford focus</td>\n",
       "      <td>3</td>\n",
       "      <td>4.0</td>\n",
       "      <td>gas</td>\n",
       "      <td>19300.0</td>\n",
       "      <td>automatic</td>\n",
       "      <td>wagon</td>\n",
       "      <td>unknown</td>\n",
       "      <td>0</td>\n",
       "      <td>2019-01-28</td>\n",
       "      <td>16</td>\n",
       "      <td>0</td>\n",
       "      <td>1</td>\n",
       "      <td>2019</td>\n",
       "      <td>8</td>\n",
       "      <td>2144.444444</td>\n",
       "    </tr>\n",
       "    <tr>\n",
       "      <th>27865</th>\n",
       "      <td>12500</td>\n",
       "      <td>2015</td>\n",
       "      <td>chevrolet malibu</td>\n",
       "      <td>3</td>\n",
       "      <td>4.0</td>\n",
       "      <td>gas</td>\n",
       "      <td>113000.0</td>\n",
       "      <td>manual</td>\n",
       "      <td>sedan</td>\n",
       "      <td>white</td>\n",
       "      <td>0</td>\n",
       "      <td>2019-03-09</td>\n",
       "      <td>52</td>\n",
       "      <td>5</td>\n",
       "      <td>3</td>\n",
       "      <td>2019</td>\n",
       "      <td>4</td>\n",
       "      <td>22600.000000</td>\n",
       "    </tr>\n",
       "    <tr>\n",
       "      <th>834</th>\n",
       "      <td>10500</td>\n",
       "      <td>2012</td>\n",
       "      <td>ford f-150</td>\n",
       "      <td>2</td>\n",
       "      <td>6.0</td>\n",
       "      <td>gas</td>\n",
       "      <td>123000.0</td>\n",
       "      <td>automatic</td>\n",
       "      <td>truck</td>\n",
       "      <td>silver</td>\n",
       "      <td>1</td>\n",
       "      <td>2018-11-23</td>\n",
       "      <td>73</td>\n",
       "      <td>4</td>\n",
       "      <td>11</td>\n",
       "      <td>2018</td>\n",
       "      <td>6</td>\n",
       "      <td>17571.428571</td>\n",
       "    </tr>\n",
       "    <tr>\n",
       "      <th>50384</th>\n",
       "      <td>44995</td>\n",
       "      <td>2017</td>\n",
       "      <td>ford f-250 super duty</td>\n",
       "      <td>3</td>\n",
       "      <td>8.0</td>\n",
       "      <td>gas</td>\n",
       "      <td>113000.0</td>\n",
       "      <td>automatic</td>\n",
       "      <td>pickup</td>\n",
       "      <td>white</td>\n",
       "      <td>1</td>\n",
       "      <td>2018-10-09</td>\n",
       "      <td>53</td>\n",
       "      <td>1</td>\n",
       "      <td>10</td>\n",
       "      <td>2018</td>\n",
       "      <td>1</td>\n",
       "      <td>56500.000000</td>\n",
       "    </tr>\n",
       "    <tr>\n",
       "      <th>11323</th>\n",
       "      <td>12000</td>\n",
       "      <td>2010</td>\n",
       "      <td>ford f150</td>\n",
       "      <td>3</td>\n",
       "      <td>8.0</td>\n",
       "      <td>gas</td>\n",
       "      <td>129500.0</td>\n",
       "      <td>automatic</td>\n",
       "      <td>truck</td>\n",
       "      <td>grey</td>\n",
       "      <td>1</td>\n",
       "      <td>2019-01-15</td>\n",
       "      <td>10</td>\n",
       "      <td>1</td>\n",
       "      <td>1</td>\n",
       "      <td>2019</td>\n",
       "      <td>9</td>\n",
       "      <td>12950.000000</td>\n",
       "    </tr>\n",
       "    <tr>\n",
       "      <th>42941</th>\n",
       "      <td>5900</td>\n",
       "      <td>2010</td>\n",
       "      <td>nissan rogue</td>\n",
       "      <td>2</td>\n",
       "      <td>4.0</td>\n",
       "      <td>gas</td>\n",
       "      <td>136000.0</td>\n",
       "      <td>automatic</td>\n",
       "      <td>SUV</td>\n",
       "      <td>silver</td>\n",
       "      <td>1</td>\n",
       "      <td>2018-08-06</td>\n",
       "      <td>22</td>\n",
       "      <td>0</td>\n",
       "      <td>8</td>\n",
       "      <td>2018</td>\n",
       "      <td>8</td>\n",
       "      <td>15111.111111</td>\n",
       "    </tr>\n",
       "    <tr>\n",
       "      <th>39337</th>\n",
       "      <td>11999</td>\n",
       "      <td>2005</td>\n",
       "      <td>gmc sierra</td>\n",
       "      <td>3</td>\n",
       "      <td>8.0</td>\n",
       "      <td>gas</td>\n",
       "      <td>160000.0</td>\n",
       "      <td>automatic</td>\n",
       "      <td>pickup</td>\n",
       "      <td>white</td>\n",
       "      <td>0</td>\n",
       "      <td>2018-07-12</td>\n",
       "      <td>87</td>\n",
       "      <td>3</td>\n",
       "      <td>7</td>\n",
       "      <td>2018</td>\n",
       "      <td>13</td>\n",
       "      <td>11428.571429</td>\n",
       "    </tr>\n",
       "  </tbody>\n",
       "</table>\n",
       "</div>"
      ],
      "text/plain": [
       "       price  model_year                  model  condition  cylinders    fuel  \\\n",
       "51342  40990        2016               ram 1500          3        8.0  diesel   \n",
       "24351  15900        2010          toyota tundra          3        8.0     gas   \n",
       "11110  52000        2013        hyundai elantra          2        4.0     gas   \n",
       "41031   9950        2011             ford focus          3        4.0     gas   \n",
       "27865  12500        2015       chevrolet malibu          3        4.0     gas   \n",
       "834    10500        2012             ford f-150          2        6.0     gas   \n",
       "50384  44995        2017  ford f-250 super duty          3        8.0     gas   \n",
       "11323  12000        2010              ford f150          3        8.0     gas   \n",
       "42941   5900        2010           nissan rogue          2        4.0     gas   \n",
       "39337  11999        2005             gmc sierra          3        8.0     gas   \n",
       "\n",
       "       odometer transmission    type paint_color  is_4wd date_posted  \\\n",
       "51342  107930.0    automatic   truck       white       1  2019-03-17   \n",
       "24351  141400.0    automatic  pickup        blue       1  2018-06-10   \n",
       "11110   92000.0    automatic   sedan      custom       0  2018-11-27   \n",
       "41031   19300.0    automatic   wagon     unknown       0  2019-01-28   \n",
       "27865  113000.0       manual   sedan       white       0  2019-03-09   \n",
       "834    123000.0    automatic   truck      silver       1  2018-11-23   \n",
       "50384  113000.0    automatic  pickup       white       1  2018-10-09   \n",
       "11323  129500.0    automatic   truck        grey       1  2019-01-15   \n",
       "42941  136000.0    automatic     SUV      silver       1  2018-08-06   \n",
       "39337  160000.0    automatic  pickup       white       0  2018-07-12   \n",
       "\n",
       "       days_listed  weekday_posted  month_posted  year_posted  car_age  \\\n",
       "51342           23               6             3         2019        3   \n",
       "24351           61               6             6         2018        8   \n",
       "11110           49               1            11         2018        5   \n",
       "41031           16               0             1         2019        8   \n",
       "27865           52               5             3         2019        4   \n",
       "834             73               4            11         2018        6   \n",
       "50384           53               1            10         2018        1   \n",
       "11323           10               1             1         2019        9   \n",
       "42941           22               0             8         2018        8   \n",
       "39337           87               3             7         2018       13   \n",
       "\n",
       "        km_per_year  \n",
       "51342  26982.500000  \n",
       "24351  15711.111111  \n",
       "11110  15333.333333  \n",
       "41031   2144.444444  \n",
       "27865  22600.000000  \n",
       "834    17571.428571  \n",
       "50384  56500.000000  \n",
       "11323  12950.000000  \n",
       "42941  15111.111111  \n",
       "39337  11428.571429  "
      ]
     },
     "execution_count": 565,
     "metadata": {},
     "output_type": "execute_result"
    }
   ],
   "source": [
    "# imprimindo uma amostragem dos dados\n",
    "df.sample(10)"
   ]
  },
  {
   "cell_type": "markdown",
   "metadata": {},
   "source": [
    "## Estudando os parâmetros fundamentais\n",
    "\n",
    "Vamos construir alguns gráficos para os principais parâmetros da tabela e observar os dados para cada um deles.\n",
    "\n",
    "Os parâmetros são:\n",
    "- Preço\n",
    "- A idade do veículo quando a propaganda foi colocada\n",
    "- Quilometragem\n",
    "- Número de cilindros\n",
    "- Condição"
   ]
  },
  {
   "cell_type": "code",
   "execution_count": 566,
   "metadata": {},
   "outputs": [
    {
     "data": {
      "text/plain": [
       "count     51525.000000\n",
       "mean      12132.464920\n",
       "std       10040.803015\n",
       "min           1.000000\n",
       "25%        5000.000000\n",
       "50%        9000.000000\n",
       "75%       16839.000000\n",
       "max      375000.000000\n",
       "Name: price, dtype: float64"
      ]
     },
     "execution_count": 566,
     "metadata": {},
     "output_type": "execute_result"
    },
    {
     "data": {
      "image/png": "[encoded data removed]",
      "text/plain": [
       "<Figure size 576x432 with 1 Axes>"
      ]
     },
     "metadata": {
      "needs_background": "light"
     },
     "output_type": "display_data"
    }
   ],
   "source": [
    "# preço\n",
    "df.hist(column='price',bins=20, range=(0,80000),figsize=(8,6)) # podemos observar um pico em torno de 5 mil\n",
    "df['price'].describe() # o maximo é um valor bem discrepante comparados com Q1 (primeiro quartil), Q2(mediana) \n",
    "# e Q3(terceiro quartil)"
   ]
  },
  {
   "cell_type": "code",
   "execution_count": 567,
   "metadata": {},
   "outputs": [
    {
     "data": {
      "text/plain": [
       "(-100.0, 60000.0)"
      ]
     },
     "execution_count": 567,
     "metadata": {},
     "output_type": "execute_result"
    },
    {
     "data": {
      "image/png": "[encoded data removed]",
      "text/plain": [
       "<Figure size 432x288 with 1 Axes>"
      ]
     },
     "metadata": {
      "needs_background": "light"
     },
     "output_type": "display_data"
    }
   ],
   "source": [
    "df.boxplot(column='price')\n",
    "plt.ylim(-100,60000) # podemos observar que existem muitos valores considerados atípicos no diagrama de caixa."
   ]
  },
  {
   "cell_type": "code",
   "execution_count": 568,
   "metadata": {},
   "outputs": [
    {
     "data": {
      "text/plain": [
       "count    51525.000000\n",
       "mean         8.469229\n",
       "std          6.079773\n",
       "min          0.000000\n",
       "25%          4.000000\n",
       "50%          7.000000\n",
       "75%         12.000000\n",
       "max        110.000000\n",
       "Name: car_age, dtype: float64"
      ]
     },
     "execution_count": 568,
     "metadata": {},
     "output_type": "execute_result"
    },
    {
     "data": {
      "image/png": "[encoded data removed]",
      "text/plain": [
       "<Figure size 576x432 with 1 Axes>"
      ]
     },
     "metadata": {
      "needs_background": "light"
     },
     "output_type": "display_data"
    }
   ],
   "source": [
    "# idade do veiculo quando a propaganda foi colocada\n",
    "df.hist(column='car_age',bins=20,range=(0,70),figsize=(8,6)) # podemos observar um pico em torno de 7 a 8 anos\n",
    "df['car_age'].describe() # a idade máxima é de 110 anos que provavelmente é um valor atípico"
   ]
  },
  {
   "cell_type": "code",
   "execution_count": 569,
   "metadata": {},
   "outputs": [
    {
     "data": {
      "text/plain": [
       "(0.0, 40.0)"
      ]
     },
     "execution_count": 569,
     "metadata": {},
     "output_type": "execute_result"
    },
    {
     "data": {
      "image/png": "[encoded data removed]",
      "text/plain": [
       "<Figure size 432x288 with 1 Axes>"
      ]
     },
     "metadata": {
      "needs_background": "light"
     },
     "output_type": "display_data"
    }
   ],
   "source": [
    "df.boxplot(column='car_age') # carros acima de 25 anos no diagrama de caixa está fora do Q3 + 1.5IQR\n",
    "plt.ylim(0,40)"
   ]
  },
  {
   "cell_type": "code",
   "execution_count": 570,
   "metadata": {},
   "outputs": [
    {
     "data": {
      "text/plain": [
       "count     51525.000000\n",
       "mean     115162.352179\n",
       "std       59909.264385\n",
       "min           0.000000\n",
       "25%       79181.000000\n",
       "50%      113000.000000\n",
       "75%      146541.000000\n",
       "max      990000.000000\n",
       "Name: odometer, dtype: float64"
      ]
     },
     "execution_count": 570,
     "metadata": {},
     "output_type": "execute_result"
    },
    {
     "data": {
      "image/png": "[encoded data removed]",
      "text/plain": [
       "<Figure size 576x432 with 1 Axes>"
      ]
     },
     "metadata": {
      "needs_background": "light"
     },
     "output_type": "display_data"
    }
   ],
   "source": [
    "# quilometragem\n",
    "df.hist(column='odometer',range=(0,300000),figsize=(8,6)) # entre 100 mil a 120 mil vemos um pico\n",
    "df['odometer'].describe() # o valor máximo é de quase 1 milhão de km rodados"
   ]
  },
  {
   "cell_type": "code",
   "execution_count": 571,
   "metadata": {},
   "outputs": [
    {
     "data": {
      "text/plain": [
       "(-2000.0, 500000.0)"
      ]
     },
     "execution_count": 571,
     "metadata": {},
     "output_type": "execute_result"
    },
    {
     "data": {
      "image/png": "[encoded data removed]",
      "text/plain": [
       "<Figure size 432x288 with 1 Axes>"
      ]
     },
     "metadata": {
      "needs_background": "light"
     },
     "output_type": "display_data"
    }
   ],
   "source": [
    "df.boxplot(column='odometer')\n",
    "plt.ylim(-2000,500000) # podemos observar que valores acima de 250 mil esta sendo considerado outliers"
   ]
  },
  {
   "cell_type": "code",
   "execution_count": 572,
   "metadata": {},
   "outputs": [
    {
     "data": {
      "text/plain": [
       "count     51525.000000\n",
       "mean      15537.649192\n",
       "std       12341.655297\n",
       "min           0.000000\n",
       "25%        9411.764706\n",
       "50%       13214.444444\n",
       "75%       18394.500000\n",
       "max      373200.000000\n",
       "Name: km_per_year, dtype: float64"
      ]
     },
     "execution_count": 572,
     "metadata": {},
     "output_type": "execute_result"
    },
    {
     "data": {
      "image/png": "[encoded data removed]",
      "text/plain": [
       "<Figure size 576x432 with 1 Axes>"
      ]
     },
     "metadata": {
      "needs_background": "light"
     },
     "output_type": "display_data"
    }
   ],
   "source": [
    "# quilometragem por ano\n",
    "df.hist(column='km_per_year',range=(0,120000),figsize=(8,6)) # na km por ano podemos ver um pico em torno da média\n",
    "df['km_per_year'].describe() # podemos observar um valor máximo de 373 mil km rodados em um ano. Um valor atípico"
   ]
  },
  {
   "cell_type": "code",
   "execution_count": 573,
   "metadata": {},
   "outputs": [
    {
     "data": {
      "text/plain": [
       "(-1110.0, 40000.0)"
      ]
     },
     "execution_count": 573,
     "metadata": {},
     "output_type": "execute_result"
    },
    {
     "data": {
      "image/png": "[encoded data removed]",
      "text/plain": [
       "<Figure size 432x288 with 1 Axes>"
      ]
     },
     "metadata": {
      "needs_background": "light"
     },
     "output_type": "display_data"
    }
   ],
   "source": [
    "df.boxplot(column='km_per_year') # Neste diagrama de caixa podemos observar para valores acima de 33 mil \n",
    "plt.ylim(-1110,40000)                # são calculados como outliers"
   ]
  },
  {
   "cell_type": "code",
   "execution_count": 574,
   "metadata": {},
   "outputs": [
    {
     "data": {
      "text/plain": [
       "count    51525.000000\n",
       "mean         6.112450\n",
       "std          1.573784\n",
       "min          3.000000\n",
       "25%          4.000000\n",
       "50%          6.000000\n",
       "75%          8.000000\n",
       "max         12.000000\n",
       "Name: cylinders, dtype: float64"
      ]
     },
     "execution_count": 574,
     "metadata": {},
     "output_type": "execute_result"
    },
    {
     "data": {
      "image/png": "[encoded data removed]",
      "text/plain": [
       "<Figure size 576x432 with 1 Axes>"
      ]
     },
     "metadata": {
      "needs_background": "light"
     },
     "output_type": "display_data"
    }
   ],
   "source": [
    "# numero de cilindros\n",
    "df.hist(column='cylinders',bins=9,range=(3,12),figsize=(8,6)) # no caso de cilindros de um carro esses números são \n",
    "# menos variavéis pois dependem da mecanica e fabricação do carro por isso os valores se comportam bem.\n",
    "#podemos perceber que existem mais carros de 6 cilindros nos dados\n",
    "df['cylinders'].describe() # os valores de min 3 e max 12 são valores típicos"
   ]
  },
  {
   "cell_type": "code",
   "execution_count": 575,
   "metadata": {},
   "outputs": [
    {
     "data": {
      "text/plain": [
       "(0.0, 14.0)"
      ]
     },
     "execution_count": 575,
     "metadata": {},
     "output_type": "execute_result"
    },
    {
     "data": {
      "image/png": "[encoded data removed]",
      "text/plain": [
       "<Figure size 432x288 with 1 Axes>"
      ]
     },
     "metadata": {
      "needs_background": "light"
     },
     "output_type": "display_data"
    }
   ],
   "source": [
    "df.boxplot(column='cylinders') # como podemos esperar devido o tipo de dado, não exitem pontos de outliers nesta coluna.\n",
    "plt.ylim(0,14)"
   ]
  },
  {
   "cell_type": "code",
   "execution_count": 576,
   "metadata": {},
   "outputs": [
    {
     "data": {
      "text/plain": [
       "count    51525.000000\n",
       "mean         2.637535\n",
       "std          0.712447\n",
       "min          0.000000\n",
       "25%          2.000000\n",
       "50%          3.000000\n",
       "75%          3.000000\n",
       "max          5.000000\n",
       "Name: condition, dtype: float64"
      ]
     },
     "execution_count": 576,
     "metadata": {},
     "output_type": "execute_result"
    },
    {
     "data": {
      "image/png": "[encoded data removed]",
      "text/plain": [
       "<Figure size 576x432 with 1 Axes>"
      ]
     },
     "metadata": {
      "needs_background": "light"
     },
     "output_type": "display_data"
    }
   ],
   "source": [
    "# condição: embora tenha sido substituido por números de 0 a 5 sabemos que estes numeros na verdade \n",
    "# representa strings que dizem a condição física do estado de conservação do carro.\n",
    "df.hist(column='condition',bins=5,figsize=(8,6)) # podemos observar que a maioria dos carros estão na condição 3 e 4\n",
    "df['condition'].describe()"
   ]
  },
  {
   "cell_type": "markdown",
   "metadata": {},
   "source": [
    "## Valores atípicos\n",
    "\n",
    "Dado os resultados acima, podemos dizer que `price`,`year` e `odometer` ( ou `km_per_year`) possuem valores atípicos traçados no boxplot. Vamos criar um DataFrame sem aqueles valores atípicos (Valores atípicos podem ser identificados se você definir os limites inferior/superior para intervalos normais de valores)."
   ]
  },
  {
   "cell_type": "code",
   "execution_count": 577,
   "metadata": {},
   "outputs": [
    {
     "name": "stdout",
     "output_type": "stream",
     "text": [
      "[-12758.5, -8.0, -21859.0, -4062.338235294117]\n"
     ]
    }
   ],
   "source": [
    "# Determinando o limite inferior para valores atípicos\n",
    "list_lower_range=[]\n",
    "for index in ['price','car_age','odometer','km_per_year']:\n",
    "    Q1 = df[index].quantile(0.25) \n",
    "    Q3 = df[index].quantile(0.75)\n",
    "    IQR = Q3 - Q1\n",
    "    lower_range = Q1 - (1.5*IQR)\n",
    "    list_lower_range.append(lower_range)\n",
    "print(list_lower_range)\n",
    "# embora esses valores sejam negativos eles são apenas calculos teoricos, sabemos que \n",
    "# os valores mínimos são 0 (com excessão de price que é 1)\n",
    "# podemos ver isso no diagrama de caixa e também nos valores min do describe."
   ]
  },
  {
   "cell_type": "code",
   "execution_count": 578,
   "metadata": {},
   "outputs": [
    {
     "name": "stdout",
     "output_type": "stream",
     "text": [
      "[34597.5, 24.0, 247581.0, 31868.60294117647]\n"
     ]
    }
   ],
   "source": [
    "# Determinando o limite superior para valores atípicos\n",
    "list_lower_range=[]\n",
    "for index in ['price','car_age','odometer','km_per_year']:\n",
    "    Q1 = df[index].quantile(0.25) \n",
    "    Q3 = df[index].quantile(0.75)\n",
    "    IQR = Q3 - Q1\n",
    "    lower_range = Q3 + (1.5*IQR)\n",
    "    list_lower_range.append(lower_range)\n",
    "print(list_lower_range)\n",
    "# o valor calculado para os limites superior são consistente com o que vimos no boxplot."
   ]
  },
  {
   "cell_type": "code",
   "execution_count": 579,
   "metadata": {},
   "outputs": [
    {
     "name": "stdout",
     "output_type": "stream",
     "text": [
      "(48055, 18)\n"
     ]
    },
    {
     "data": {
      "text/plain": [
       "0.9326540514313441"
      ]
     },
     "execution_count": 579,
     "metadata": {},
     "output_type": "execute_result"
    }
   ],
   "source": [
    "# Armazenando os dados sem os valores atípicos em um DataFrame separado\n",
    "# vamos pegar uma fatia dos dados para os dados que se encontram ate os limites superiores calculados acima\n",
    "# como os km por hora sao calculados a partir da quilometragem vamos utilizar apenas odometer para fatiar os dados.\n",
    "df_slice = df.query('price <= @list_lower_range[0] and car_age <= @list_lower_range[1] and odometer <= @list_lower_range[2]')\n",
    "print(df_slice.shape) # linhas e colunas\n",
    "len(df_slice)/len(df) # porcentagem da tabela que pegamos com relação a original"
   ]
  },
  {
   "cell_type": "markdown",
   "metadata": {},
   "source": [
    "## Estudando os parâmetros fundamentais sem valores atípicos"
   ]
  },
  {
   "cell_type": "markdown",
   "metadata": {},
   "source": [
    "Usando os dados filtrados para fazer novos gráficos e vamos comparar com os anteriores"
   ]
  },
  {
   "cell_type": "code",
   "execution_count": 580,
   "metadata": {},
   "outputs": [
    {
     "data": {
      "text/plain": [
       "count    48055.000000\n",
       "mean     11266.146374\n",
       "std       7831.190507\n",
       "min          1.000000\n",
       "25%       5000.000000\n",
       "50%       8995.000000\n",
       "75%      15995.000000\n",
       "max      34595.000000\n",
       "Name: price, dtype: float64"
      ]
     },
     "execution_count": 580,
     "metadata": {},
     "output_type": "execute_result"
    },
    {
     "data": {
      "image/png": "[encoded data removed]",
      "text/plain": [
       "<Figure size 576x432 with 1 Axes>"
      ]
     },
     "metadata": {
      "needs_background": "light"
     },
     "output_type": "display_data"
    }
   ],
   "source": [
    "df_slice.hist(column='price',bins=20, range=(0,40000),figsize=(8,6))\n",
    "\n",
    "df_slice['price'].describe()"
   ]
  },
  {
   "cell_type": "markdown",
   "metadata": {},
   "source": [
    "Basicamente os histogramas de antes e depois se comportam iguais, porém os valores máximos do preço são em torno de 35mil."
   ]
  },
  {
   "cell_type": "code",
   "execution_count": 581,
   "metadata": {},
   "outputs": [
    {
     "data": {
      "text/plain": [
       "count    48055.000000\n",
       "mean         8.152117\n",
       "std          4.991048\n",
       "min          0.000000\n",
       "25%          4.000000\n",
       "50%          7.000000\n",
       "75%         11.000000\n",
       "max         24.000000\n",
       "Name: car_age, dtype: float64"
      ]
     },
     "execution_count": 581,
     "metadata": {},
     "output_type": "execute_result"
    },
    {
     "data": {
      "image/png": "[encoded data removed]",
      "text/plain": [
       "<Figure size 576x432 with 1 Axes>"
      ]
     },
     "metadata": {
      "needs_background": "light"
     },
     "output_type": "display_data"
    }
   ],
   "source": [
    "df_slice.hist(column='car_age',bins=20,range=(0,30),figsize=(8,6))\n",
    "df_slice['car_age'].describe()"
   ]
  },
  {
   "cell_type": "markdown",
   "metadata": {},
   "source": [
    "O histograma para as idades dos carros também se comportam iguais com o limite max de 25 anos"
   ]
  },
  {
   "cell_type": "code",
   "execution_count": 582,
   "metadata": {},
   "outputs": [
    {
     "data": {
      "text/plain": [
       "count     48055.000000\n",
       "mean     112966.318635\n",
       "std       51730.625195\n",
       "min           0.000000\n",
       "25%       81522.000000\n",
       "50%      113000.000000\n",
       "75%      144380.500000\n",
       "max      247548.000000\n",
       "Name: odometer, dtype: float64"
      ]
     },
     "execution_count": 582,
     "metadata": {},
     "output_type": "execute_result"
    },
    {
     "data": {
      "image/png": "[encoded data removed]",
      "text/plain": [
       "<Figure size 576x432 with 1 Axes>"
      ]
     },
     "metadata": {
      "needs_background": "light"
     },
     "output_type": "display_data"
    }
   ],
   "source": [
    "df_slice.hist(column='odometer',range=(0,150000),figsize=(8,6))\n",
    "df_slice['odometer'].describe()"
   ]
  },
  {
   "cell_type": "markdown",
   "metadata": {},
   "source": [
    "O valor máximo após retirar valores discrepantes foi para 247 mil."
   ]
  },
  {
   "cell_type": "code",
   "execution_count": 583,
   "metadata": {},
   "outputs": [
    {
     "data": {
      "text/plain": [
       "count     48055.000000\n",
       "mean      15271.117253\n",
       "std       11209.217282\n",
       "min           0.000000\n",
       "25%        9416.666667\n",
       "50%       13125.000000\n",
       "75%       18111.625000\n",
       "max      195700.000000\n",
       "Name: km_per_year, dtype: float64"
      ]
     },
     "execution_count": 583,
     "metadata": {},
     "output_type": "execute_result"
    },
    {
     "data": {
      "image/png": "[encoded data removed]",
      "text/plain": [
       "<Figure size 576x432 with 1 Axes>"
      ]
     },
     "metadata": {
      "needs_background": "light"
     },
     "output_type": "display_data"
    }
   ],
   "source": [
    "df_slice.hist(column='km_per_year',range=(0,60000),figsize=(8,6))\n",
    "df_slice['km_per_year'].describe()"
   ]
  },
  {
   "cell_type": "markdown",
   "metadata": {},
   "source": [
    "Podemos perceber que a km máxima por ano agora é de 195 mil. "
   ]
  },
  {
   "cell_type": "markdown",
   "metadata": {},
   "source": [
    "## Tempo de vida das propagandas\n",
    "\n",
    "Vamos estudar quantos dias propagandas foram exibidas (`days_listed`) e calcular a média e a mediana."
   ]
  },
  {
   "cell_type": "code",
   "execution_count": 584,
   "metadata": {},
   "outputs": [
    {
     "name": "stdout",
     "output_type": "stream",
     "text": [
      "count    48055.000000\n",
      "mean        39.537821\n",
      "std         28.214071\n",
      "min          0.000000\n",
      "25%         19.000000\n",
      "50%         33.000000\n",
      "75%         53.000000\n",
      "max        271.000000\n",
      "Name: days_listed, dtype: float64\n",
      "média: 39.5378212464884, mediana: 33.0\n"
     ]
    },
    {
     "data": {
      "image/png": "[encoded data removed]",
      "text/plain": [
       "<Figure size 720x432 with 1 Axes>"
      ]
     },
     "metadata": {
      "needs_background": "light"
     },
     "output_type": "display_data"
    }
   ],
   "source": [
    "print(df_slice['days_listed'].describe()) \n",
    "# podemos perceber que os valores minimo é 0 e o mãximo é 271 dias.\n",
    "# a média tem 39 dias, mediana 33 dias\n",
    "df_slice.hist(column='days_listed',range=(0,270),figsize=(10,6)) \n",
    "# vamos olhar para o histograma e observar a distribuição de dias dos dados\n",
    "days_listed_mean = df_slice['days_listed'].mean()\n",
    "days_listed_median = df_slice['days_listed'].median()\n",
    "print(f'média: {days_listed_mean}, mediana: {days_listed_median}')"
   ]
  },
  {
   "cell_type": "markdown",
   "metadata": {},
   "source": [
    "No histograma existe um número muito grande próximo de 0 a 25 dias, e 17500 veiculos de 25 a 50 dias após esta margem os números começam a cair significativamente, e temos valores muito pequenos acima de 150 dias. Oque podemos verificar é quais tipos de carro são os que estão acima de 150 dias e quais estão proximos abaixo de 50 dias para descobrir se exite algum padrão."
   ]
  },
  {
   "cell_type": "code",
   "execution_count": 585,
   "metadata": {},
   "outputs": [
    {
     "name": "stdout",
     "output_type": "stream",
     "text": [
      "(237, 18)\n"
     ]
    },
    {
     "data": {
      "text/html": [
       "<div>\n",
       "<style scoped>\n",
       "    .dataframe tbody tr th:only-of-type {\n",
       "        vertical-align: middle;\n",
       "    }\n",
       "\n",
       "    .dataframe tbody tr th {\n",
       "        vertical-align: top;\n",
       "    }\n",
       "\n",
       "    .dataframe thead th {\n",
       "        text-align: right;\n",
       "    }\n",
       "</style>\n",
       "<table border=\"1\" class=\"dataframe\">\n",
       "  <thead>\n",
       "    <tr style=\"text-align: right;\">\n",
       "      <th></th>\n",
       "      <th>price</th>\n",
       "      <th>model_year</th>\n",
       "      <th>model</th>\n",
       "      <th>condition</th>\n",
       "      <th>cylinders</th>\n",
       "      <th>fuel</th>\n",
       "      <th>odometer</th>\n",
       "      <th>transmission</th>\n",
       "      <th>type</th>\n",
       "      <th>paint_color</th>\n",
       "      <th>is_4wd</th>\n",
       "      <th>date_posted</th>\n",
       "      <th>days_listed</th>\n",
       "      <th>weekday_posted</th>\n",
       "      <th>month_posted</th>\n",
       "      <th>year_posted</th>\n",
       "      <th>car_age</th>\n",
       "      <th>km_per_year</th>\n",
       "    </tr>\n",
       "  </thead>\n",
       "  <tbody>\n",
       "    <tr>\n",
       "      <th>18357</th>\n",
       "      <td>7990</td>\n",
       "      <td>2006</td>\n",
       "      <td>ford econoline</td>\n",
       "      <td>2</td>\n",
       "      <td>6.0</td>\n",
       "      <td>gas</td>\n",
       "      <td>105429.0</td>\n",
       "      <td>automatic</td>\n",
       "      <td>van</td>\n",
       "      <td>white</td>\n",
       "      <td>0</td>\n",
       "      <td>2019-02-25</td>\n",
       "      <td>163</td>\n",
       "      <td>0</td>\n",
       "      <td>2</td>\n",
       "      <td>2019</td>\n",
       "      <td>13</td>\n",
       "      <td>7530.642857</td>\n",
       "    </tr>\n",
       "    <tr>\n",
       "      <th>32709</th>\n",
       "      <td>4950</td>\n",
       "      <td>2005</td>\n",
       "      <td>chevrolet suburban</td>\n",
       "      <td>2</td>\n",
       "      <td>8.0</td>\n",
       "      <td>gas</td>\n",
       "      <td>235670.0</td>\n",
       "      <td>automatic</td>\n",
       "      <td>SUV</td>\n",
       "      <td>blue</td>\n",
       "      <td>1</td>\n",
       "      <td>2018-07-03</td>\n",
       "      <td>157</td>\n",
       "      <td>1</td>\n",
       "      <td>7</td>\n",
       "      <td>2018</td>\n",
       "      <td>13</td>\n",
       "      <td>16833.571429</td>\n",
       "    </tr>\n",
       "    <tr>\n",
       "      <th>18509</th>\n",
       "      <td>7500</td>\n",
       "      <td>2016</td>\n",
       "      <td>nissan sentra</td>\n",
       "      <td>4</td>\n",
       "      <td>4.0</td>\n",
       "      <td>gas</td>\n",
       "      <td>23998.0</td>\n",
       "      <td>automatic</td>\n",
       "      <td>sedan</td>\n",
       "      <td>grey</td>\n",
       "      <td>0</td>\n",
       "      <td>2018-11-18</td>\n",
       "      <td>163</td>\n",
       "      <td>6</td>\n",
       "      <td>11</td>\n",
       "      <td>2018</td>\n",
       "      <td>2</td>\n",
       "      <td>7999.333333</td>\n",
       "    </tr>\n",
       "  </tbody>\n",
       "</table>\n",
       "</div>"
      ],
      "text/plain": [
       "       price  model_year               model  condition  cylinders fuel  \\\n",
       "18357   7990        2006      ford econoline          2        6.0  gas   \n",
       "32709   4950        2005  chevrolet suburban          2        8.0  gas   \n",
       "18509   7500        2016       nissan sentra          4        4.0  gas   \n",
       "\n",
       "       odometer transmission   type paint_color  is_4wd date_posted  \\\n",
       "18357  105429.0    automatic    van       white       0  2019-02-25   \n",
       "32709  235670.0    automatic    SUV        blue       1  2018-07-03   \n",
       "18509   23998.0    automatic  sedan        grey       0  2018-11-18   \n",
       "\n",
       "       days_listed  weekday_posted  month_posted  year_posted  car_age  \\\n",
       "18357          163               0             2         2019       13   \n",
       "32709          157               1             7         2018       13   \n",
       "18509          163               6            11         2018        2   \n",
       "\n",
       "        km_per_year  \n",
       "18357   7530.642857  \n",
       "32709  16833.571429  \n",
       "18509   7999.333333  "
      ]
     },
     "execution_count": 585,
     "metadata": {},
     "output_type": "execute_result"
    }
   ],
   "source": [
    "# para valores iguais ou maiores de 150 dias\n",
    "df_days_longer = df_slice.query('days_listed >= 150')\n",
    "print(df_days_longer.shape)\n",
    "df_days_longer.sample(3)"
   ]
  },
  {
   "cell_type": "code",
   "execution_count": 586,
   "metadata": {},
   "outputs": [
    {
     "data": {
      "text/plain": [
       "array([[<AxesSubplot:title={'center':'price'}>]], dtype=object)"
      ]
     },
     "execution_count": 586,
     "metadata": {},
     "output_type": "execute_result"
    },
    {
     "data": {
      "image/png": "[encoded data removed]",
      "text/plain": [
       "<Figure size 432x288 with 1 Axes>"
      ]
     },
     "metadata": {
      "needs_background": "light"
     },
     "output_type": "display_data"
    },
    {
     "data": {
      "image/png": "[encoded data removed]",
      "text/plain": [
       "<Figure size 432x288 with 1 Axes>"
      ]
     },
     "metadata": {
      "needs_background": "light"
     },
     "output_type": "display_data"
    },
    {
     "data": {
      "image/png": "[encoded data removed]",
      "text/plain": [
       "<Figure size 432x288 with 1 Axes>"
      ]
     },
     "metadata": {
      "needs_background": "light"
     },
     "output_type": "display_data"
    },
    {
     "data": {
      "image/png": "[encoded data removed]",
      "text/plain": [
       "<Figure size 432x288 with 1 Axes>"
      ]
     },
     "metadata": {
      "needs_background": "light"
     },
     "output_type": "display_data"
    }
   ],
   "source": [
    "df_days_longer.hist('condition') # a maioria esta no 2 e 3\n",
    "df_days_longer.hist('odometer') # a maioria esta acima de 100 mil km rodados\n",
    "df_days_longer.hist('car_age') # a maioria tem mais de 5 anos\n",
    "df_days_longer.hist('price') # maioria em torno de 5 a 10 mil\n",
    "#df_days_longer['type'].value_counts()\n",
    "#df_days_longer['transmission'].value_counts()\n",
    "#df_days_longer['paint_color'].value_counts()"
   ]
  },
  {
   "cell_type": "code",
   "execution_count": 587,
   "metadata": {},
   "outputs": [
    {
     "name": "stdout",
     "output_type": "stream",
     "text": [
      "(34719, 18)\n"
     ]
    },
    {
     "data": {
      "text/html": [
       "<div>\n",
       "<style scoped>\n",
       "    .dataframe tbody tr th:only-of-type {\n",
       "        vertical-align: middle;\n",
       "    }\n",
       "\n",
       "    .dataframe tbody tr th {\n",
       "        vertical-align: top;\n",
       "    }\n",
       "\n",
       "    .dataframe thead th {\n",
       "        text-align: right;\n",
       "    }\n",
       "</style>\n",
       "<table border=\"1\" class=\"dataframe\">\n",
       "  <thead>\n",
       "    <tr style=\"text-align: right;\">\n",
       "      <th></th>\n",
       "      <th>price</th>\n",
       "      <th>model_year</th>\n",
       "      <th>model</th>\n",
       "      <th>condition</th>\n",
       "      <th>cylinders</th>\n",
       "      <th>fuel</th>\n",
       "      <th>odometer</th>\n",
       "      <th>transmission</th>\n",
       "      <th>type</th>\n",
       "      <th>paint_color</th>\n",
       "      <th>is_4wd</th>\n",
       "      <th>date_posted</th>\n",
       "      <th>days_listed</th>\n",
       "      <th>weekday_posted</th>\n",
       "      <th>month_posted</th>\n",
       "      <th>year_posted</th>\n",
       "      <th>car_age</th>\n",
       "      <th>km_per_year</th>\n",
       "    </tr>\n",
       "  </thead>\n",
       "  <tbody>\n",
       "    <tr>\n",
       "      <th>13356</th>\n",
       "      <td>22000</td>\n",
       "      <td>2018</td>\n",
       "      <td>toyota tundra</td>\n",
       "      <td>0</td>\n",
       "      <td>8.0</td>\n",
       "      <td>gas</td>\n",
       "      <td>113000.0</td>\n",
       "      <td>automatic</td>\n",
       "      <td>pickup</td>\n",
       "      <td>grey</td>\n",
       "      <td>0</td>\n",
       "      <td>2018-06-29</td>\n",
       "      <td>45</td>\n",
       "      <td>4</td>\n",
       "      <td>6</td>\n",
       "      <td>2018</td>\n",
       "      <td>0</td>\n",
       "      <td>113000.000000</td>\n",
       "    </tr>\n",
       "    <tr>\n",
       "      <th>12231</th>\n",
       "      <td>1</td>\n",
       "      <td>2014</td>\n",
       "      <td>toyota camry</td>\n",
       "      <td>4</td>\n",
       "      <td>4.0</td>\n",
       "      <td>gas</td>\n",
       "      <td>113000.0</td>\n",
       "      <td>automatic</td>\n",
       "      <td>sedan</td>\n",
       "      <td>red</td>\n",
       "      <td>0</td>\n",
       "      <td>2018-11-17</td>\n",
       "      <td>18</td>\n",
       "      <td>5</td>\n",
       "      <td>11</td>\n",
       "      <td>2018</td>\n",
       "      <td>4</td>\n",
       "      <td>22600.000000</td>\n",
       "    </tr>\n",
       "    <tr>\n",
       "      <th>3270</th>\n",
       "      <td>2975</td>\n",
       "      <td>2003</td>\n",
       "      <td>volkswagen jetta</td>\n",
       "      <td>2</td>\n",
       "      <td>4.0</td>\n",
       "      <td>gas</td>\n",
       "      <td>113000.0</td>\n",
       "      <td>automatic</td>\n",
       "      <td>sedan</td>\n",
       "      <td>grey</td>\n",
       "      <td>0</td>\n",
       "      <td>2019-01-20</td>\n",
       "      <td>20</td>\n",
       "      <td>6</td>\n",
       "      <td>1</td>\n",
       "      <td>2019</td>\n",
       "      <td>16</td>\n",
       "      <td>6647.058824</td>\n",
       "    </tr>\n",
       "  </tbody>\n",
       "</table>\n",
       "</div>"
      ],
      "text/plain": [
       "       price  model_year             model  condition  cylinders fuel  \\\n",
       "13356  22000        2018     toyota tundra          0        8.0  gas   \n",
       "12231      1        2014      toyota camry          4        4.0  gas   \n",
       "3270    2975        2003  volkswagen jetta          2        4.0  gas   \n",
       "\n",
       "       odometer transmission    type paint_color  is_4wd date_posted  \\\n",
       "13356  113000.0    automatic  pickup        grey       0  2018-06-29   \n",
       "12231  113000.0    automatic   sedan         red       0  2018-11-17   \n",
       "3270   113000.0    automatic   sedan        grey       0  2019-01-20   \n",
       "\n",
       "       days_listed  weekday_posted  month_posted  year_posted  car_age  \\\n",
       "13356           45               4             6         2018        0   \n",
       "12231           18               5            11         2018        4   \n",
       "3270            20               6             1         2019       16   \n",
       "\n",
       "         km_per_year  \n",
       "13356  113000.000000  \n",
       "12231   22600.000000  \n",
       "3270     6647.058824  "
      ]
     },
     "execution_count": 587,
     "metadata": {},
     "output_type": "execute_result"
    }
   ],
   "source": [
    "# para valores iguais ou menores que 50 dias\n",
    "df_days_lower = df_slice.query('days_listed <= 50')\n",
    "print(df_days_lower.shape)\n",
    "df_days_lower.sample(3)"
   ]
  },
  {
   "cell_type": "code",
   "execution_count": 588,
   "metadata": {},
   "outputs": [
    {
     "data": {
      "text/plain": [
       "array([[<AxesSubplot:title={'center':'price'}>]], dtype=object)"
      ]
     },
     "execution_count": 588,
     "metadata": {},
     "output_type": "execute_result"
    },
    {
     "data": {
      "image/png": "[encoded data removed]",
      "text/plain": [
       "<Figure size 432x288 with 1 Axes>"
      ]
     },
     "metadata": {
      "needs_background": "light"
     },
     "output_type": "display_data"
    },
    {
     "data": {
      "image/png": "[encoded data removed]",
      "text/plain": [
       "<Figure size 432x288 with 1 Axes>"
      ]
     },
     "metadata": {
      "needs_background": "light"
     },
     "output_type": "display_data"
    },
    {
     "data": {
      "image/png": "[encoded data removed]",
      "text/plain": [
       "<Figure size 432x288 with 1 Axes>"
      ]
     },
     "metadata": {
      "needs_background": "light"
     },
     "output_type": "display_data"
    },
    {
     "data": {
      "image/png": "[encoded data removed]",
      "text/plain": [
       "<Figure size 432x288 with 1 Axes>"
      ]
     },
     "metadata": {
      "needs_background": "light"
     },
     "output_type": "display_data"
    }
   ],
   "source": [
    "df_days_lower.hist('condition') # para todos as colunas os valores estão semelhantes\n",
    "df_days_lower.hist('odometer') \n",
    "df_days_lower.hist('car_age') \n",
    "df_days_lower.hist('price')\n",
    "#df_days_lower['type'].value_counts()\n",
    "#df_days_lower['transmission'].value_counts()\n",
    "#df_days_lower['paint_color'].value_counts()"
   ]
  },
  {
   "cell_type": "markdown",
   "metadata": {},
   "source": [
    "Para quantidade de dias de anúncio, os parametros se mantiveram semelhantes."
   ]
  },
  {
   "cell_type": "markdown",
   "metadata": {},
   "source": [
    "## Média de preços por cada tipo de veículo"
   ]
  },
  {
   "cell_type": "markdown",
   "metadata": {},
   "source": [
    "Analizando o número de propagandas e o preço médio para cada tipo de veículo."
   ]
  },
  {
   "cell_type": "code",
   "execution_count": 589,
   "metadata": {},
   "outputs": [
    {
     "name": "stdout",
     "output_type": "stream",
     "text": [
      "                    price\n",
      "type                     \n",
      "bus          19013.250000\n",
      "truck        15204.355988\n",
      "pickup       15135.472365\n",
      "offroad      14410.591160\n",
      "coupe        13486.747535\n",
      "convertible  12819.307910\n",
      "other        10512.364407\n",
      "SUV          10491.031604\n",
      "wagon         9022.176985\n",
      "van           8896.221837\n",
      "mini-van      8084.955224\n",
      "sedan         6996.041284\n",
      "hatchback     6851.938247\n",
      "---------------------------------------\n",
      "sedan          11966\n",
      "SUV            11834\n",
      "truck          11006\n",
      "pickup          6224\n",
      "coupe           2028\n",
      "wagon           1486\n",
      "mini-van        1139\n",
      "hatchback       1004\n",
      "van              577\n",
      "convertible      354\n",
      "other            236\n",
      "offroad          181\n",
      "bus               20\n",
      "Name: type, dtype: int64\n"
     ]
    },
    {
     "data": {
      "image/png": "[encoded data removed]",
      "text/plain": [
       "<Figure size 432x288 with 1 Axes>"
      ]
     },
     "metadata": {
      "needs_background": "light"
     },
     "output_type": "display_data"
    }
   ],
   "source": [
    "table_type_price = df_slice.pivot_table(index='type', values='price', aggfunc='mean').sort_values(by='price',ascending=False)\n",
    "# ou\n",
    "df_slice.groupby('type')['price'].mean()\n",
    "print(table_type_price)\n",
    "table_type_price.plot(kind='bar')\n",
    "print('---------------------------------------')\n",
    "print(df_slice['type'].value_counts()) # sedan, SUV e truck são os tipos com mais propagandas\n",
    "\n"
   ]
  },
  {
   "cell_type": "code",
   "execution_count": 590,
   "metadata": {},
   "outputs": [
    {
     "data": {
      "text/plain": [
       "<AxesSubplot:>"
      ]
     },
     "execution_count": 590,
     "metadata": {},
     "output_type": "execute_result"
    },
    {
     "data": {
      "image/png": "[encoded data removed]",
      "text/plain": [
       "<Figure size 864x504 with 1 Axes>"
      ]
     },
     "metadata": {
      "needs_background": "light"
     },
     "output_type": "display_data"
    }
   ],
   "source": [
    "df_slice['type'].hist(bins=25,figsize=(12,7))"
   ]
  },
  {
   "cell_type": "markdown",
   "metadata": {},
   "source": [
    "## Fatores de preço"
   ]
  },
  {
   "cell_type": "markdown",
   "metadata": {},
   "source": [
    "Vamos tentar descobrir fatores que impactam nos preços.\n",
    "Testaremos os dados para a idade do carro, quilometragem, condição, tipo de transmissão e cor."
   ]
  },
  {
   "cell_type": "code",
   "execution_count": 591,
   "metadata": {
    "scrolled": false
   },
   "outputs": [],
   "source": [
    "df_type_suv =  df_slice[df_slice['type'] == 'SUV']\n",
    "df_type_sedan = df_slice[df_slice['type'] == 'sedan']\n",
    "df_type_truck = df_slice[df_slice['type'] == 'truck']"
   ]
  },
  {
   "cell_type": "code",
   "execution_count": 592,
   "metadata": {},
   "outputs": [
    {
     "name": "stdout",
     "output_type": "stream",
     "text": [
      "correlação para SUV: -0.5735142684921837\n",
      "correlação para Sedan: -0.6144936160620036\n",
      "correlação para Truck: -0.5852380686794799\n"
     ]
    },
    {
     "data": {
      "text/plain": [
       "Text(0.5, 1.0, 'dataframe original: car_age x price')"
      ]
     },
     "execution_count": 592,
     "metadata": {},
     "output_type": "execute_result"
    },
    {
     "data": {
      "image/png": "[encoded data removed]",
      "text/plain": [
       "<Figure size 432x288 with 1 Axes>"
      ]
     },
     "metadata": {
      "needs_background": "light"
     },
     "output_type": "display_data"
    },
    {
     "data": {
      "image/png": "[encoded data removed]",
      "text/plain": [
       "<Figure size 432x288 with 1 Axes>"
      ]
     },
     "metadata": {
      "needs_background": "light"
     },
     "output_type": "display_data"
    },
    {
     "data": {
      "image/png": "[encoded data removed]",
      "text/plain": [
       "<Figure size 432x288 with 1 Axes>"
      ]
     },
     "metadata": {
      "needs_background": "light"
     },
     "output_type": "display_data"
    },
    {
     "data": {
      "image/png": "[encoded data removed]",
      "text/plain": [
       "<Figure size 432x288 with 1 Axes>"
      ]
     },
     "metadata": {
      "needs_background": "light"
     },
     "output_type": "display_data"
    }
   ],
   "source": [
    "# se o preço depende da idade\n",
    "df_type_suv.plot(x='car_age',y='price',kind='scatter')\n",
    "plt.title('SUV')\n",
    "print(f\"correlação para SUV: {df_type_suv['price'].corr(df_type_suv['car_age'])}\") # correlação idade do carro e preço para o SUV\n",
    "df_type_sedan.plot(x='car_age',y='price',kind='scatter')\n",
    "plt.title('Sedan')\n",
    "print(f\"correlação para Sedan: {df_type_sedan['price'].corr(df_type_sedan['car_age'])}\") # correlação idade do carro e preço para o Sedan\n",
    "df_type_truck.plot(x='car_age',y='price',kind='scatter')\n",
    "plt.title('Truck')\n",
    "print(f\"correlação para Truck: {df_type_truck['price'].corr(df_type_truck['car_age'])}\") # correlação idade do carro e preço para o Truck\n",
    "# para os dados gerais\n",
    "df.plot(x='car_age',y='price',kind='scatter') # todos os dados\n",
    "plt.title('dataframe original: car_age x price')"
   ]
  },
  {
   "cell_type": "code",
   "execution_count": 593,
   "metadata": {},
   "outputs": [
    {
     "name": "stdout",
     "output_type": "stream",
     "text": [
      "correlação do SUV: -0.4721682711493697\n",
      "correlação do Sedan: -0.5041698176537804\n",
      "correlação do Truck: -0.39063189320627245\n"
     ]
    },
    {
     "data": {
      "image/png": "[encoded data removed]",
      "text/plain": [
       "<Figure size 432x288 with 1 Axes>"
      ]
     },
     "metadata": {
      "needs_background": "light"
     },
     "output_type": "display_data"
    },
    {
     "data": {
      "image/png": "[encoded data removed]",
      "text/plain": [
       "<Figure size 432x288 with 1 Axes>"
      ]
     },
     "metadata": {
      "needs_background": "light"
     },
     "output_type": "display_data"
    },
    {
     "data": {
      "image/png": "[encoded data removed]",
      "text/plain": [
       "<Figure size 432x288 with 1 Axes>"
      ]
     },
     "metadata": {
      "needs_background": "light"
     },
     "output_type": "display_data"
    },
    {
     "data": {
      "image/png": "[encoded data removed]",
      "text/plain": [
       "<Figure size 432x288 with 1 Axes>"
      ]
     },
     "metadata": {
      "needs_background": "light"
     },
     "output_type": "display_data"
    }
   ],
   "source": [
    "#se o preço depende da quilometragem\n",
    "df_type_suv.plot(x='odometer',y='price',kind='scatter')\n",
    "plt.title('SUV')\n",
    "df_type_sedan.plot(x='odometer',y='price',kind='scatter')\n",
    "plt.title('Sedan')\n",
    "df_type_truck.plot(x='odometer',y='price',kind='scatter')\n",
    "plt.title('Truck')\n",
    "\n",
    "df.plot(x='odometer',y='price',kind='scatter') # todos os dados\n",
    "plt.title('dataframe original: odometer x price')\n",
    "print(f\"correlação do SUV: {df_type_suv['price'].corr(df_type_suv['odometer'])}\")\n",
    "print(f\"correlação do Sedan: {df_type_sedan['price'].corr(df_type_sedan['odometer'])}\")\n",
    "print(f\"correlação do Truck: {df_type_truck['price'].corr(df_type_truck['odometer'])}\")"
   ]
  },
  {
   "cell_type": "code",
   "execution_count": 594,
   "metadata": {},
   "outputs": [
    {
     "name": "stdout",
     "output_type": "stream",
     "text": [
      "correlação do SUV: 0.2579757264082986\n",
      "correlação do Sedan: 0.2895895768537823\n",
      "correlação do Truck: 0.26907560699219657\n"
     ]
    },
    {
     "data": {
      "image/png": "[encoded data removed]",
      "text/plain": [
       "<Figure size 432x288 with 1 Axes>"
      ]
     },
     "metadata": {
      "needs_background": "light"
     },
     "output_type": "display_data"
    },
    {
     "data": {
      "image/png": "[encoded data removed]",
      "text/plain": [
       "<Figure size 432x288 with 1 Axes>"
      ]
     },
     "metadata": {
      "needs_background": "light"
     },
     "output_type": "display_data"
    },
    {
     "data": {
      "image/png": "[encoded data removed]",
      "text/plain": [
       "<Figure size 432x288 with 1 Axes>"
      ]
     },
     "metadata": {
      "needs_background": "light"
     },
     "output_type": "display_data"
    },
    {
     "data": {
      "image/png": "[encoded data removed]",
      "text/plain": [
       "<Figure size 432x288 with 1 Axes>"
      ]
     },
     "metadata": {
      "needs_background": "light"
     },
     "output_type": "display_data"
    }
   ],
   "source": [
    "#se o preço depende da condição\n",
    "df_type_suv.plot(x='condition',y='price',kind='scatter')\n",
    "plt.title('SUV')\n",
    "df_type_sedan.plot(x='condition',y='price',kind='scatter')\n",
    "plt.title('Sedan')\n",
    "df_type_truck.plot(x='condition',y='price',kind='scatter')\n",
    "plt.title('Truck')\n",
    "df.plot(x='condition',y='price',kind='scatter') # todos os dados\n",
    "plt.title('dataframe original: condition x price')\n",
    "print(f\"correlação do SUV: {df_type_suv['price'].corr(df_type_suv['condition'])}\")\n",
    "print(f\"correlação do Sedan: {df_type_sedan['price'].corr(df_type_sedan['condition'])}\")\n",
    "print(f\"correlação do Truck: {df_type_truck['price'].corr(df_type_truck['condition'])}\")"
   ]
  },
  {
   "cell_type": "code",
   "execution_count": 595,
   "metadata": {},
   "outputs": [
    {
     "name": "stdout",
     "output_type": "stream",
     "text": [
      "automatic    43882\n",
      "manual        2427\n",
      "other         1746\n",
      "Name: transmission, dtype: int64\n",
      "                     price\n",
      "transmission              \n",
      "other         17348.276632\n",
      "automatic     11141.241602\n",
      "manual         9148.994232\n"
     ]
    },
    {
     "data": {
      "text/plain": [
       "<AxesSubplot:xlabel='transmission'>"
      ]
     },
     "execution_count": 595,
     "metadata": {},
     "output_type": "execute_result"
    },
    {
     "data": {
      "image/png": "[encoded data removed]",
      "text/plain": [
       "<Figure size 432x288 with 1 Axes>"
      ]
     },
     "metadata": {
      "needs_background": "light"
     },
     "output_type": "display_data"
    }
   ],
   "source": [
    "#se o preço depende do tipo de transmissão\n",
    "print(df_slice['transmission'].value_counts()) # tipos de transmissão\n",
    "table_transm_price= df_slice.pivot_table(index='transmission', values='price', aggfunc='mean').sort_values(by='price',ascending=False)\n",
    "print(table_transm_price)\n",
    "table_transm_price.plot()"
   ]
  },
  {
   "cell_type": "code",
   "execution_count": 596,
   "metadata": {},
   "outputs": [
    {
     "name": "stdout",
     "output_type": "stream",
     "text": [
      "white      9146\n",
      "unknown    8652\n",
      "black      7162\n",
      "silver     5992\n",
      "grey       4786\n",
      "blue       4217\n",
      "red        4071\n",
      "green      1291\n",
      "brown      1124\n",
      "custom     1089\n",
      "yellow      226\n",
      "orange      211\n",
      "purple       88\n",
      "Name: paint_color, dtype: int64\n",
      "                    price\n",
      "paint_color              \n",
      "yellow       14979.460177\n",
      "orange       13810.763033\n",
      "white        12864.997595\n",
      "black        12461.887741\n",
      "unknown      11395.245261\n",
      "red          10806.239253\n",
      "grey         10522.919975\n",
      "silver       10168.031876\n",
      "brown        10000.887011\n",
      "blue          9755.585724\n",
      "custom        9676.361800\n",
      "green         8345.048025\n",
      "purple        6990.977273\n"
     ]
    },
    {
     "data": {
      "text/plain": [
       "<AxesSubplot:xlabel='paint_color'>"
      ]
     },
     "execution_count": 596,
     "metadata": {},
     "output_type": "execute_result"
    },
    {
     "data": {
      "image/png": "[encoded data removed]",
      "text/plain": [
       "<Figure size 432x288 with 1 Axes>"
      ]
     },
     "metadata": {
      "needs_background": "light"
     },
     "output_type": "display_data"
    }
   ],
   "source": [
    "# se o preço depende da cor\n",
    "print(df_slice['paint_color'].value_counts()) # tipos de cores\n",
    "table_color_price= df_slice.pivot_table(index='paint_color', values='price', aggfunc='mean').sort_values(by='price',ascending=False)\n",
    "print(table_color_price)\n",
    "table_color_price.plot()"
   ]
  },
  {
   "cell_type": "code",
   "execution_count": 597,
   "metadata": {},
   "outputs": [
    {
     "name": "stdout",
     "output_type": "stream",
     "text": [
      "price             1.000000\n",
      "model_year        0.510472\n",
      "condition         0.181330\n",
      "cylinders         0.289901\n",
      "odometer         -0.397316\n",
      "is_4wd            0.332796\n",
      "days_listed      -0.001414\n",
      "weekday_posted   -0.001067\n",
      "month_posted     -0.008197\n",
      "year_posted       0.006376\n",
      "car_age          -0.508435\n",
      "km_per_year       0.200298\n",
      "Name: price, dtype: float64\n"
     ]
    }
   ],
   "source": [
    "matrix_corr = df_slice.corr()\n",
    "print(matrix_corr['price'])"
   ]
  },
  {
   "cell_type": "markdown",
   "metadata": {},
   "source": [
    "## Conclusão geral\n",
    "\n",
    "Podemos ver através dos gráficos e analises que o preço do carro varia confome a idade sendo inversamente proporcional (onde quanto maior a idade, menor o preço da venda). Com respeito a quilometragem também temos uma relação inversamente proporcional. A relação entre a boa condição física do carro é proporcional ao preço, quanto melhor o estado do carro maior será o preço (mas neste caso a correlação ficou em torno de 0.30). Para o tipo de transmissão podemos perceber que os carros automátivos são mais caros que os carros manuais. Em relação a cor do carro podemos perceber que os carros com cores mais neutras e habituais são mais valorizados do que aqueles customizados e de cores mais vibrantes."
   ]
  }
 ],
 "metadata": {
  "ExecuteTimeLog": [
   {
    "duration": 828,
    "start_time": "2021-11-16T09:21:11.304Z"
   },
   {
    "duration": 893,
    "start_time": "2021-11-16T09:21:17.728Z"
   },
   {
    "duration": 1150,
    "start_time": "2021-11-16T09:21:29.568Z"
   },
   {
    "duration": 3,
    "start_time": "2021-11-16T09:24:14.495Z"
   },
   {
    "duration": 120,
    "start_time": "2021-11-16T09:24:46.630Z"
   },
   {
    "duration": 3,
    "start_time": "2021-11-16T09:28:27.882Z"
   },
   {
    "duration": 4,
    "start_time": "2021-11-16T09:29:54.281Z"
   },
   {
    "duration": 3,
    "start_time": "2021-11-16T09:30:45.936Z"
   },
   {
    "duration": 4,
    "start_time": "2021-11-16T09:31:06.300Z"
   },
   {
    "duration": 113,
    "start_time": "2021-11-16T09:31:37.208Z"
   },
   {
    "duration": 143,
    "start_time": "2021-11-16T09:31:48.656Z"
   },
   {
    "duration": 98,
    "start_time": "2021-11-16T09:31:55.678Z"
   },
   {
    "duration": 3,
    "start_time": "2021-11-16T09:32:08.535Z"
   },
   {
    "duration": 111,
    "start_time": "2021-11-16T09:32:10.120Z"
   },
   {
    "duration": 3,
    "start_time": "2021-11-16T09:32:15.732Z"
   },
   {
    "duration": 4,
    "start_time": "2021-11-16T09:32:29.423Z"
   },
   {
    "duration": 3,
    "start_time": "2021-11-16T10:03:03.074Z"
   },
   {
    "duration": 3,
    "start_time": "2021-11-16T10:10:01.288Z"
   },
   {
    "duration": 3,
    "start_time": "2021-11-16T10:10:46.923Z"
   },
   {
    "duration": 121,
    "start_time": "2021-11-16T10:37:46.494Z"
   },
   {
    "duration": 125,
    "start_time": "2021-11-16T10:38:20.632Z"
   },
   {
    "duration": 112,
    "start_time": "2021-11-16T10:46:53.001Z"
   },
   {
    "duration": 110,
    "start_time": "2021-11-16T10:48:25.775Z"
   },
   {
    "duration": 3,
    "start_time": "2021-11-16T10:50:18.720Z"
   },
   {
    "duration": 4,
    "start_time": "2021-11-16T10:50:37.649Z"
   },
   {
    "duration": 2,
    "start_time": "2021-11-16T10:50:51.884Z"
   },
   {
    "duration": 3,
    "start_time": "2021-11-16T10:51:56.237Z"
   },
   {
    "duration": 101,
    "start_time": "2021-11-16T10:53:13.791Z"
   },
   {
    "duration": 3,
    "start_time": "2021-11-16T10:55:59.186Z"
   },
   {
    "duration": 3,
    "start_time": "2021-11-16T10:56:10.751Z"
   },
   {
    "duration": 3,
    "start_time": "2021-11-16T10:56:49.038Z"
   },
   {
    "duration": 3,
    "start_time": "2021-11-16T10:56:49.174Z"
   },
   {
    "duration": 4,
    "start_time": "2021-11-16T10:56:49.414Z"
   },
   {
    "duration": 3,
    "start_time": "2021-11-16T10:56:49.680Z"
   },
   {
    "duration": 3,
    "start_time": "2021-11-16T10:56:50.370Z"
   },
   {
    "duration": 114,
    "start_time": "2021-11-16T10:59:34.518Z"
   },
   {
    "duration": 3,
    "start_time": "2021-11-16T11:01:41.201Z"
   },
   {
    "duration": 116,
    "start_time": "2021-11-16T11:01:48.754Z"
   },
   {
    "duration": 3,
    "start_time": "2021-11-16T11:02:16.685Z"
   },
   {
    "duration": 3,
    "start_time": "2021-11-16T11:02:19.479Z"
   },
   {
    "duration": 3,
    "start_time": "2021-11-16T11:02:47.067Z"
   },
   {
    "duration": 3,
    "start_time": "2021-11-16T11:02:49.353Z"
   },
   {
    "duration": 3,
    "start_time": "2021-11-16T11:03:07.835Z"
   },
   {
    "duration": 3,
    "start_time": "2021-11-16T11:03:07.953Z"
   },
   {
    "duration": 112,
    "start_time": "2021-11-16T11:07:52.072Z"
   },
   {
    "duration": 187,
    "start_time": "2021-11-16T11:09:23.468Z"
   },
   {
    "duration": 4,
    "start_time": "2021-11-16T11:10:01.455Z"
   },
   {
    "duration": 3,
    "start_time": "2021-11-16T11:10:05.069Z"
   },
   {
    "duration": 4,
    "start_time": "2021-11-16T11:10:13.376Z"
   },
   {
    "duration": 3,
    "start_time": "2021-11-16T11:10:14.434Z"
   },
   {
    "duration": 3,
    "start_time": "2021-11-16T11:10:22.853Z"
   },
   {
    "duration": 4,
    "start_time": "2021-11-16T11:27:29.279Z"
   },
   {
    "duration": 4,
    "start_time": "2021-11-16T11:29:08.919Z"
   },
   {
    "duration": 118,
    "start_time": "2021-11-16T11:29:46.703Z"
   },
   {
    "duration": 437,
    "start_time": "2021-11-16T11:36:02.181Z"
   },
   {
    "duration": 157,
    "start_time": "2021-11-16T11:36:14.388Z"
   },
   {
    "duration": 207,
    "start_time": "2021-11-16T11:47:15.898Z"
   },
   {
    "duration": 3,
    "start_time": "2021-11-16T11:53:52.092Z"
   },
   {
    "duration": 3,
    "start_time": "2021-11-16T11:53:52.236Z"
   },
   {
    "duration": 3,
    "start_time": "2021-11-16T11:59:12.005Z"
   },
   {
    "duration": 112,
    "start_time": "2021-11-16T12:00:33.446Z"
   },
   {
    "duration": 3,
    "start_time": "2021-11-16T12:02:14.453Z"
   },
   {
    "duration": 3,
    "start_time": "2021-11-16T12:02:39.512Z"
   },
   {
    "duration": 106,
    "start_time": "2021-11-16T12:03:03.460Z"
   }
  ],
  "kernelspec": {
   "display_name": "Python 3",
   "language": "python",
   "name": "python3"
  },
  "language_info": {
   "codemirror_mode": {
    "name": "ipython",
    "version": 3
   },
   "file_extension": ".py",
   "mimetype": "text/x-python",
   "name": "python",
   "nbconvert_exporter": "python",
   "pygments_lexer": "ipython3",
   "version": "3.8.3"
  },
  "toc": {
   "base_numbering": 1,
   "nav_menu": {},
   "number_sections": true,
   "sideBar": true,
   "skip_h1_title": false,
   "title_cell": "Table of Contents",
   "title_sidebar": "Contents",
   "toc_cell": false,
   "toc_position": {
    "height": "calc(100% - 180px)",
    "left": "10px",
    "top": "150px",
    "width": "165px"
   },
   "toc_section_display": false,
   "toc_window_display": true
  }
 },
 "nbformat": 4,
 "nbformat_minor": 2
}
